{
 "cells": [
  {
   "cell_type": "markdown",
   "id": "33218c04",
   "metadata": {},
   "source": [
    "# Прогнозирование температуры звезды"
   ]
  },
  {
   "cell_type": "markdown",
   "id": "5deeefbd",
   "metadata": {},
   "source": [
    "**Заказчик исследования:** обсерватория «Небо на ладони».<br>\n",
    "**Задача:** придумать, как с помощью нейросети определять температуру на поверхности обнаруженных звёзд.<br>\n",
    "\n",
    "Обычно для расчёта температуры учёные пользуются следующими методами:\n",
    "- Закон смещения Вина.\n",
    "- Закон Стефана-Больцмана.\n",
    "- Спектральный анализ.<br>\n",
    "\n",
    "Каждый из них имеет плюсы и минусы. Обсерватория хочет внедрить технологии машинного обучения для предсказания температуры звёзд, надеясь, что этот метод будет наиболее точным и удобным.\n",
    "В базе обсерватории есть характеристики уже изученных 240 звёзд."
   ]
  },
  {
   "cell_type": "markdown",
   "id": "863035b8",
   "metadata": {},
   "source": [
    "**Характеристики:**\n",
    "\n",
    "- Относительная светимость L/Lo — светимость звезды относительно Солнца.\n",
    "- Относительный радиус R/Ro — радиус звезды относительно радиуса Солнца.\n",
    "- Абсолютная звёздная величина Mv — физическая величина, характеризующая блеск звезды.\n",
    "- Звёздный цвет (white, red, blue, yellow, yellow-orange и др.) — цвет звезды, который определяют на основе спектрального анализа.\n",
    "- Тип звезды.\n",
    "- Абсолютная температура T(K) — температура на поверхности звезды в Кельвинах."
   ]
  },
  {
   "cell_type": "markdown",
   "id": "corresponding-armstrong",
   "metadata": {
    "ExecuteTime": {
     "end_time": "2022-05-05T04:58:05.692448Z",
     "start_time": "2022-05-05T04:58:05.688565Z"
    }
   },
   "source": [
    "## Загрузка данных"
   ]
  },
  {
   "cell_type": "code",
   "execution_count": 1,
   "id": "spectacular-folder",
   "metadata": {},
   "outputs": [],
   "source": [
    "import pandas as pd\n",
    "import numpy as np\n",
    "from math import ceil\n",
    "import seaborn as sns\n",
    "import matplotlib.pyplot as plt\n",
    "from sklearn.model_selection import train_test_split\n",
    "from sklearn.preprocessing import OneHotEncoder, StandardScaler\n",
    "from sklearn.compose import ColumnTransformer\n",
    "from sklearn.pipeline import Pipeline\n",
    "from sklearn.metrics import mean_squared_error\n",
    "import torch\n",
    "import torch.nn as nn\n",
    "from torch.optim import Adam "
   ]
  },
  {
   "cell_type": "code",
   "execution_count": 2,
   "id": "bd99a362",
   "metadata": {},
   "outputs": [
    {
     "data": {
      "text/html": [
       "<div>\n",
       "<style scoped>\n",
       "    .dataframe tbody tr th:only-of-type {\n",
       "        vertical-align: middle;\n",
       "    }\n",
       "\n",
       "    .dataframe tbody tr th {\n",
       "        vertical-align: top;\n",
       "    }\n",
       "\n",
       "    .dataframe thead th {\n",
       "        text-align: right;\n",
       "    }\n",
       "</style>\n",
       "<table border=\"1\" class=\"dataframe\">\n",
       "  <thead>\n",
       "    <tr style=\"text-align: right;\">\n",
       "      <th></th>\n",
       "      <th>Temperature (K)</th>\n",
       "      <th>Luminosity(L/Lo)</th>\n",
       "      <th>Radius(R/Ro)</th>\n",
       "      <th>Absolute magnitude(Mv)</th>\n",
       "      <th>Star type</th>\n",
       "      <th>Star color</th>\n",
       "    </tr>\n",
       "  </thead>\n",
       "  <tbody>\n",
       "    <tr>\n",
       "      <th>0</th>\n",
       "      <td>3068</td>\n",
       "      <td>0.002400</td>\n",
       "      <td>0.1700</td>\n",
       "      <td>16.12</td>\n",
       "      <td>0</td>\n",
       "      <td>Red</td>\n",
       "    </tr>\n",
       "    <tr>\n",
       "      <th>1</th>\n",
       "      <td>3042</td>\n",
       "      <td>0.000500</td>\n",
       "      <td>0.1542</td>\n",
       "      <td>16.60</td>\n",
       "      <td>0</td>\n",
       "      <td>Red</td>\n",
       "    </tr>\n",
       "    <tr>\n",
       "      <th>2</th>\n",
       "      <td>2600</td>\n",
       "      <td>0.000300</td>\n",
       "      <td>0.1020</td>\n",
       "      <td>18.70</td>\n",
       "      <td>0</td>\n",
       "      <td>Red</td>\n",
       "    </tr>\n",
       "    <tr>\n",
       "      <th>3</th>\n",
       "      <td>2800</td>\n",
       "      <td>0.000200</td>\n",
       "      <td>0.1600</td>\n",
       "      <td>16.65</td>\n",
       "      <td>0</td>\n",
       "      <td>Red</td>\n",
       "    </tr>\n",
       "    <tr>\n",
       "      <th>4</th>\n",
       "      <td>1939</td>\n",
       "      <td>0.000138</td>\n",
       "      <td>0.1030</td>\n",
       "      <td>20.06</td>\n",
       "      <td>0</td>\n",
       "      <td>Red</td>\n",
       "    </tr>\n",
       "  </tbody>\n",
       "</table>\n",
       "</div>"
      ],
      "text/plain": [
       "   Temperature (K)  Luminosity(L/Lo)  Radius(R/Ro)  Absolute magnitude(Mv)  \\\n",
       "0             3068          0.002400        0.1700                   16.12   \n",
       "1             3042          0.000500        0.1542                   16.60   \n",
       "2             2600          0.000300        0.1020                   18.70   \n",
       "3             2800          0.000200        0.1600                   16.65   \n",
       "4             1939          0.000138        0.1030                   20.06   \n",
       "\n",
       "   Star type Star color  \n",
       "0          0        Red  \n",
       "1          0        Red  \n",
       "2          0        Red  \n",
       "3          0        Red  \n",
       "4          0        Red  "
      ]
     },
     "execution_count": 2,
     "metadata": {},
     "output_type": "execute_result"
    }
   ],
   "source": [
    "data = pd.read_csv('/datasets/6_class.csv', index_col=0)\n",
    "data.head()"
   ]
  },
  {
   "cell_type": "code",
   "execution_count": 3,
   "id": "bc601cf7",
   "metadata": {},
   "outputs": [
    {
     "name": "stdout",
     "output_type": "stream",
     "text": [
      "<class 'pandas.core.frame.DataFrame'>\n",
      "Int64Index: 240 entries, 0 to 239\n",
      "Data columns (total 6 columns):\n",
      " #   Column                  Non-Null Count  Dtype  \n",
      "---  ------                  --------------  -----  \n",
      " 0   Temperature (K)         240 non-null    int64  \n",
      " 1   Luminosity(L/Lo)        240 non-null    float64\n",
      " 2   Radius(R/Ro)            240 non-null    float64\n",
      " 3   Absolute magnitude(Mv)  240 non-null    float64\n",
      " 4   Star type               240 non-null    int64  \n",
      " 5   Star color              240 non-null    object \n",
      "dtypes: float64(3), int64(2), object(1)\n",
      "memory usage: 13.1+ KB\n"
     ]
    }
   ],
   "source": [
    "data.info()"
   ]
  },
  {
   "cell_type": "markdown",
   "id": "simple-subdivision",
   "metadata": {},
   "source": [
    "## EDA"
   ]
  },
  {
   "cell_type": "markdown",
   "id": "4be266ef",
   "metadata": {},
   "source": [
    "### Количественные данные"
   ]
  },
  {
   "cell_type": "code",
   "execution_count": 4,
   "id": "2215d261",
   "metadata": {},
   "outputs": [],
   "source": [
    "def num(column):\n",
    "    print(column,  '\\n')\n",
    "    print(data[column].describe())\n",
    "    \n",
    "    figure, axis = plt.subplots(1, 2, figsize=(13,5))\n",
    "    \n",
    "    plt.style.use('bmh')\n",
    "    \n",
    "    axis[0].hist(data[column])\n",
    "    axis[0].set_title('График распределения значений')\n",
    "    \n",
    "    axis[1].boxplot(data[column])\n",
    "    axis[1].set_title('График размаха значений')\n",
    "    \n",
    "    figure.suptitle(column)\n",
    "    plt.show()"
   ]
  },
  {
   "cell_type": "code",
   "execution_count": 5,
   "id": "478440f8",
   "metadata": {},
   "outputs": [],
   "source": [
    "numeric = ['Temperature (K)', 'Luminosity(L/Lo)', 'Radius(R/Ro)', 'Absolute magnitude(Mv)']"
   ]
  },
  {
   "cell_type": "code",
   "execution_count": 6,
   "id": "3c88cb5e",
   "metadata": {
    "scrolled": false
   },
   "outputs": [
    {
     "name": "stdout",
     "output_type": "stream",
     "text": [
      "Temperature (K) \n",
      "\n",
      "count      240.000000\n",
      "mean     10497.462500\n",
      "std       9552.425037\n",
      "min       1939.000000\n",
      "25%       3344.250000\n",
      "50%       5776.000000\n",
      "75%      15055.500000\n",
      "max      40000.000000\n",
      "Name: Temperature (K), dtype: float64\n"
     ]
    },
    {
     "data": {
      "image/png": "[encoded data removed]",
      "text/plain": [
       "<Figure size 936x360 with 2 Axes>"
      ]
     },
     "metadata": {
      "needs_background": "light"
     },
     "output_type": "display_data"
    },
    {
     "name": "stdout",
     "output_type": "stream",
     "text": [
      "Luminosity(L/Lo) \n",
      "\n",
      "count       240.000000\n",
      "mean     107188.361635\n",
      "std      179432.244940\n",
      "min           0.000080\n",
      "25%           0.000865\n",
      "50%           0.070500\n",
      "75%      198050.000000\n",
      "max      849420.000000\n",
      "Name: Luminosity(L/Lo), dtype: float64\n"
     ]
    },
    {
     "data": {
      "image/png": "[encoded data removed]",
      "text/plain": [
       "<Figure size 936x360 with 2 Axes>"
      ]
     },
     "metadata": {
      "needs_background": "light"
     },
     "output_type": "display_data"
    },
    {
     "name": "stdout",
     "output_type": "stream",
     "text": [
      "Radius(R/Ro) \n",
      "\n",
      "count     240.000000\n",
      "mean      237.157781\n",
      "std       517.155763\n",
      "min         0.008400\n",
      "25%         0.102750\n",
      "50%         0.762500\n",
      "75%        42.750000\n",
      "max      1948.500000\n",
      "Name: Radius(R/Ro), dtype: float64\n"
     ]
    },
    {
     "data": {
      "image/png": "[encoded data removed]",
      "text/plain": [
       "<Figure size 936x360 with 2 Axes>"
      ]
     },
     "metadata": {
      "needs_background": "light"
     },
     "output_type": "display_data"
    },
    {
     "name": "stdout",
     "output_type": "stream",
     "text": [
      "Absolute magnitude(Mv) \n",
      "\n",
      "count    240.000000\n",
      "mean       4.382396\n",
      "std       10.532512\n",
      "min      -11.920000\n",
      "25%       -6.232500\n",
      "50%        8.313000\n",
      "75%       13.697500\n",
      "max       20.060000\n",
      "Name: Absolute magnitude(Mv), dtype: float64\n"
     ]
    },
    {
     "data": {
      "image/png": "[encoded data removed]",
      "text/plain": [
       "<Figure size 936x360 with 2 Axes>"
      ]
     },
     "metadata": {
      "needs_background": "light"
     },
     "output_type": "display_data"
    }
   ],
   "source": [
    "for col in numeric:\n",
    "    num(col)"
   ]
  },
  {
   "cell_type": "code",
   "execution_count": 7,
   "id": "8b43ca54",
   "metadata": {},
   "outputs": [],
   "source": [
    "# для удобства избавимся от скобок в названиях\n",
    "data = data.rename(columns={'Temperature (K)': 'Temperature', \n",
    "                            'Luminosity(L/Lo)': 'Luminosity',\n",
    "                            'Radius(R/Ro)': 'Radius',\n",
    "                            'Absolute magnitude(Mv)': 'Absolute magnitude'})"
   ]
  },
  {
   "cell_type": "markdown",
   "id": "9324a401",
   "metadata": {},
   "source": [
    "Данные с температурой распределены неравномерно, но т.к. это целевой признак, то лучше ничего там не удалять."
   ]
  },
  {
   "cell_type": "markdown",
   "id": "c2859a8a",
   "metadata": {},
   "source": [
    "В данных о радиусе большинство значений околонулевых и не превышающих 250. Удалим оставшиеся за пределами выбросы."
   ]
  },
  {
   "cell_type": "code",
   "execution_count": 8,
   "id": "5fba5d79",
   "metadata": {},
   "outputs": [
    {
     "data": {
      "text/html": [
       "<div>\n",
       "<style scoped>\n",
       "    .dataframe tbody tr th:only-of-type {\n",
       "        vertical-align: middle;\n",
       "    }\n",
       "\n",
       "    .dataframe tbody tr th {\n",
       "        vertical-align: top;\n",
       "    }\n",
       "\n",
       "    .dataframe thead th {\n",
       "        text-align: right;\n",
       "    }\n",
       "</style>\n",
       "<table border=\"1\" class=\"dataframe\">\n",
       "  <thead>\n",
       "    <tr style=\"text-align: right;\">\n",
       "      <th></th>\n",
       "      <th>Temperature</th>\n",
       "      <th>Luminosity</th>\n",
       "      <th>Radius</th>\n",
       "      <th>Absolute magnitude</th>\n",
       "      <th>Star type</th>\n",
       "      <th>Star color</th>\n",
       "    </tr>\n",
       "  </thead>\n",
       "  <tbody>\n",
       "    <tr>\n",
       "      <th>50</th>\n",
       "      <td>3490</td>\n",
       "      <td>270000.0</td>\n",
       "      <td>1520.0</td>\n",
       "      <td>-9.40</td>\n",
       "      <td>5</td>\n",
       "      <td>Red</td>\n",
       "    </tr>\n",
       "    <tr>\n",
       "      <th>51</th>\n",
       "      <td>3750</td>\n",
       "      <td>283000.0</td>\n",
       "      <td>1260.0</td>\n",
       "      <td>-7.63</td>\n",
       "      <td>5</td>\n",
       "      <td>Red</td>\n",
       "    </tr>\n",
       "    <tr>\n",
       "      <th>52</th>\n",
       "      <td>3834</td>\n",
       "      <td>272000.0</td>\n",
       "      <td>1183.0</td>\n",
       "      <td>-9.20</td>\n",
       "      <td>5</td>\n",
       "      <td>Red</td>\n",
       "    </tr>\n",
       "    <tr>\n",
       "      <th>53</th>\n",
       "      <td>3749</td>\n",
       "      <td>550000.0</td>\n",
       "      <td>1648.0</td>\n",
       "      <td>-8.05</td>\n",
       "      <td>5</td>\n",
       "      <td>Orange</td>\n",
       "    </tr>\n",
       "    <tr>\n",
       "      <th>54</th>\n",
       "      <td>3650</td>\n",
       "      <td>310000.0</td>\n",
       "      <td>1324.0</td>\n",
       "      <td>-7.79</td>\n",
       "      <td>5</td>\n",
       "      <td>Red</td>\n",
       "    </tr>\n",
       "    <tr>\n",
       "      <th>55</th>\n",
       "      <td>3450</td>\n",
       "      <td>263000.0</td>\n",
       "      <td>1349.0</td>\n",
       "      <td>-11.75</td>\n",
       "      <td>5</td>\n",
       "      <td>Red</td>\n",
       "    </tr>\n",
       "    <tr>\n",
       "      <th>56</th>\n",
       "      <td>3660</td>\n",
       "      <td>363000.0</td>\n",
       "      <td>1673.0</td>\n",
       "      <td>-11.92</td>\n",
       "      <td>5</td>\n",
       "      <td>Red</td>\n",
       "    </tr>\n",
       "    <tr>\n",
       "      <th>57</th>\n",
       "      <td>3450</td>\n",
       "      <td>174000.0</td>\n",
       "      <td>1284.0</td>\n",
       "      <td>-11.28</td>\n",
       "      <td>5</td>\n",
       "      <td>Red</td>\n",
       "    </tr>\n",
       "    <tr>\n",
       "      <th>58</th>\n",
       "      <td>3752</td>\n",
       "      <td>209000.0</td>\n",
       "      <td>955.0</td>\n",
       "      <td>-11.24</td>\n",
       "      <td>5</td>\n",
       "      <td>Red</td>\n",
       "    </tr>\n",
       "    <tr>\n",
       "      <th>59</th>\n",
       "      <td>3535</td>\n",
       "      <td>195000.0</td>\n",
       "      <td>1546.0</td>\n",
       "      <td>-11.36</td>\n",
       "      <td>5</td>\n",
       "      <td>Red</td>\n",
       "    </tr>\n",
       "    <tr>\n",
       "      <th>110</th>\n",
       "      <td>3459</td>\n",
       "      <td>100000.0</td>\n",
       "      <td>1289.0</td>\n",
       "      <td>-10.70</td>\n",
       "      <td>5</td>\n",
       "      <td>Red</td>\n",
       "    </tr>\n",
       "    <tr>\n",
       "      <th>111</th>\n",
       "      <td>3605</td>\n",
       "      <td>126000.0</td>\n",
       "      <td>1124.0</td>\n",
       "      <td>-10.81</td>\n",
       "      <td>5</td>\n",
       "      <td>Red</td>\n",
       "    </tr>\n",
       "    <tr>\n",
       "      <th>112</th>\n",
       "      <td>3615</td>\n",
       "      <td>200000.0</td>\n",
       "      <td>1635.0</td>\n",
       "      <td>-11.33</td>\n",
       "      <td>5</td>\n",
       "      <td>Red</td>\n",
       "    </tr>\n",
       "    <tr>\n",
       "      <th>113</th>\n",
       "      <td>3399</td>\n",
       "      <td>117000.0</td>\n",
       "      <td>1486.0</td>\n",
       "      <td>-10.92</td>\n",
       "      <td>5</td>\n",
       "      <td>Red</td>\n",
       "    </tr>\n",
       "    <tr>\n",
       "      <th>114</th>\n",
       "      <td>3610</td>\n",
       "      <td>132000.0</td>\n",
       "      <td>1522.0</td>\n",
       "      <td>-10.86</td>\n",
       "      <td>5</td>\n",
       "      <td>Red</td>\n",
       "    </tr>\n",
       "    <tr>\n",
       "      <th>115</th>\n",
       "      <td>3553</td>\n",
       "      <td>145000.0</td>\n",
       "      <td>1324.0</td>\n",
       "      <td>-11.03</td>\n",
       "      <td>5</td>\n",
       "      <td>Red</td>\n",
       "    </tr>\n",
       "    <tr>\n",
       "      <th>116</th>\n",
       "      <td>4015</td>\n",
       "      <td>282000.0</td>\n",
       "      <td>1534.0</td>\n",
       "      <td>-11.39</td>\n",
       "      <td>5</td>\n",
       "      <td>Red</td>\n",
       "    </tr>\n",
       "    <tr>\n",
       "      <th>117</th>\n",
       "      <td>3625</td>\n",
       "      <td>74000.0</td>\n",
       "      <td>876.0</td>\n",
       "      <td>-10.25</td>\n",
       "      <td>5</td>\n",
       "      <td>Red</td>\n",
       "    </tr>\n",
       "    <tr>\n",
       "      <th>118</th>\n",
       "      <td>6850</td>\n",
       "      <td>229000.0</td>\n",
       "      <td>1467.0</td>\n",
       "      <td>-10.07</td>\n",
       "      <td>5</td>\n",
       "      <td>Red</td>\n",
       "    </tr>\n",
       "    <tr>\n",
       "      <th>119</th>\n",
       "      <td>3780</td>\n",
       "      <td>200000.0</td>\n",
       "      <td>1324.0</td>\n",
       "      <td>-10.70</td>\n",
       "      <td>5</td>\n",
       "      <td>Red</td>\n",
       "    </tr>\n",
       "    <tr>\n",
       "      <th>170</th>\n",
       "      <td>3570</td>\n",
       "      <td>320000.0</td>\n",
       "      <td>1480.0</td>\n",
       "      <td>-7.58</td>\n",
       "      <td>5</td>\n",
       "      <td>Red</td>\n",
       "    </tr>\n",
       "    <tr>\n",
       "      <th>171</th>\n",
       "      <td>3500</td>\n",
       "      <td>138000.0</td>\n",
       "      <td>1420.0</td>\n",
       "      <td>-8.18</td>\n",
       "      <td>5</td>\n",
       "      <td>Red</td>\n",
       "    </tr>\n",
       "    <tr>\n",
       "      <th>172</th>\n",
       "      <td>4287</td>\n",
       "      <td>630000.0</td>\n",
       "      <td>1315.0</td>\n",
       "      <td>-9.20</td>\n",
       "      <td>5</td>\n",
       "      <td>Orange</td>\n",
       "    </tr>\n",
       "    <tr>\n",
       "      <th>173</th>\n",
       "      <td>26000</td>\n",
       "      <td>316000.0</td>\n",
       "      <td>1679.0</td>\n",
       "      <td>-9.10</td>\n",
       "      <td>5</td>\n",
       "      <td>Blue</td>\n",
       "    </tr>\n",
       "    <tr>\n",
       "      <th>174</th>\n",
       "      <td>3600</td>\n",
       "      <td>240000.0</td>\n",
       "      <td>1190.0</td>\n",
       "      <td>-7.89</td>\n",
       "      <td>5</td>\n",
       "      <td>Red</td>\n",
       "    </tr>\n",
       "    <tr>\n",
       "      <th>175</th>\n",
       "      <td>3614</td>\n",
       "      <td>145000.0</td>\n",
       "      <td>1553.0</td>\n",
       "      <td>-7.71</td>\n",
       "      <td>5</td>\n",
       "      <td>Red</td>\n",
       "    </tr>\n",
       "    <tr>\n",
       "      <th>176</th>\n",
       "      <td>18000</td>\n",
       "      <td>200000.0</td>\n",
       "      <td>1045.0</td>\n",
       "      <td>-8.30</td>\n",
       "      <td>5</td>\n",
       "      <td>Blue</td>\n",
       "    </tr>\n",
       "    <tr>\n",
       "      <th>177</th>\n",
       "      <td>11000</td>\n",
       "      <td>170000.0</td>\n",
       "      <td>1779.0</td>\n",
       "      <td>-9.90</td>\n",
       "      <td>5</td>\n",
       "      <td>Blue-white</td>\n",
       "    </tr>\n",
       "    <tr>\n",
       "      <th>178</th>\n",
       "      <td>12100</td>\n",
       "      <td>120000.0</td>\n",
       "      <td>708.9</td>\n",
       "      <td>-7.84</td>\n",
       "      <td>5</td>\n",
       "      <td>Blue-white</td>\n",
       "    </tr>\n",
       "    <tr>\n",
       "      <th>179</th>\n",
       "      <td>24490</td>\n",
       "      <td>248490.0</td>\n",
       "      <td>1134.5</td>\n",
       "      <td>-8.24</td>\n",
       "      <td>5</td>\n",
       "      <td>Blue-white</td>\n",
       "    </tr>\n",
       "    <tr>\n",
       "      <th>230</th>\n",
       "      <td>24145</td>\n",
       "      <td>382993.0</td>\n",
       "      <td>1494.0</td>\n",
       "      <td>-8.84</td>\n",
       "      <td>5</td>\n",
       "      <td>Blue-white</td>\n",
       "    </tr>\n",
       "    <tr>\n",
       "      <th>231</th>\n",
       "      <td>38234</td>\n",
       "      <td>272830.0</td>\n",
       "      <td>1356.0</td>\n",
       "      <td>-9.29</td>\n",
       "      <td>5</td>\n",
       "      <td>Blue</td>\n",
       "    </tr>\n",
       "    <tr>\n",
       "      <th>232</th>\n",
       "      <td>32489</td>\n",
       "      <td>648430.0</td>\n",
       "      <td>1948.5</td>\n",
       "      <td>-10.84</td>\n",
       "      <td>5</td>\n",
       "      <td>Blue</td>\n",
       "    </tr>\n",
       "    <tr>\n",
       "      <th>233</th>\n",
       "      <td>27739</td>\n",
       "      <td>849420.0</td>\n",
       "      <td>1252.0</td>\n",
       "      <td>-7.59</td>\n",
       "      <td>5</td>\n",
       "      <td>Blue-white</td>\n",
       "    </tr>\n",
       "    <tr>\n",
       "      <th>234</th>\n",
       "      <td>21904</td>\n",
       "      <td>748490.0</td>\n",
       "      <td>1130.0</td>\n",
       "      <td>-7.67</td>\n",
       "      <td>5</td>\n",
       "      <td>Blue-white</td>\n",
       "    </tr>\n",
       "    <tr>\n",
       "      <th>235</th>\n",
       "      <td>38940</td>\n",
       "      <td>374830.0</td>\n",
       "      <td>1356.0</td>\n",
       "      <td>-9.93</td>\n",
       "      <td>5</td>\n",
       "      <td>Blue</td>\n",
       "    </tr>\n",
       "    <tr>\n",
       "      <th>236</th>\n",
       "      <td>30839</td>\n",
       "      <td>834042.0</td>\n",
       "      <td>1194.0</td>\n",
       "      <td>-10.63</td>\n",
       "      <td>5</td>\n",
       "      <td>Blue</td>\n",
       "    </tr>\n",
       "    <tr>\n",
       "      <th>237</th>\n",
       "      <td>8829</td>\n",
       "      <td>537493.0</td>\n",
       "      <td>1423.0</td>\n",
       "      <td>-10.73</td>\n",
       "      <td>5</td>\n",
       "      <td>White</td>\n",
       "    </tr>\n",
       "    <tr>\n",
       "      <th>238</th>\n",
       "      <td>9235</td>\n",
       "      <td>404940.0</td>\n",
       "      <td>1112.0</td>\n",
       "      <td>-11.23</td>\n",
       "      <td>5</td>\n",
       "      <td>White</td>\n",
       "    </tr>\n",
       "    <tr>\n",
       "      <th>239</th>\n",
       "      <td>37882</td>\n",
       "      <td>294903.0</td>\n",
       "      <td>1783.0</td>\n",
       "      <td>-7.80</td>\n",
       "      <td>5</td>\n",
       "      <td>Blue</td>\n",
       "    </tr>\n",
       "  </tbody>\n",
       "</table>\n",
       "</div>"
      ],
      "text/plain": [
       "     Temperature  Luminosity  Radius  Absolute magnitude  Star type  \\\n",
       "50          3490    270000.0  1520.0               -9.40          5   \n",
       "51          3750    283000.0  1260.0               -7.63          5   \n",
       "52          3834    272000.0  1183.0               -9.20          5   \n",
       "53          3749    550000.0  1648.0               -8.05          5   \n",
       "54          3650    310000.0  1324.0               -7.79          5   \n",
       "55          3450    263000.0  1349.0              -11.75          5   \n",
       "56          3660    363000.0  1673.0              -11.92          5   \n",
       "57          3450    174000.0  1284.0              -11.28          5   \n",
       "58          3752    209000.0   955.0              -11.24          5   \n",
       "59          3535    195000.0  1546.0              -11.36          5   \n",
       "110         3459    100000.0  1289.0              -10.70          5   \n",
       "111         3605    126000.0  1124.0              -10.81          5   \n",
       "112         3615    200000.0  1635.0              -11.33          5   \n",
       "113         3399    117000.0  1486.0              -10.92          5   \n",
       "114         3610    132000.0  1522.0              -10.86          5   \n",
       "115         3553    145000.0  1324.0              -11.03          5   \n",
       "116         4015    282000.0  1534.0              -11.39          5   \n",
       "117         3625     74000.0   876.0              -10.25          5   \n",
       "118         6850    229000.0  1467.0              -10.07          5   \n",
       "119         3780    200000.0  1324.0              -10.70          5   \n",
       "170         3570    320000.0  1480.0               -7.58          5   \n",
       "171         3500    138000.0  1420.0               -8.18          5   \n",
       "172         4287    630000.0  1315.0               -9.20          5   \n",
       "173        26000    316000.0  1679.0               -9.10          5   \n",
       "174         3600    240000.0  1190.0               -7.89          5   \n",
       "175         3614    145000.0  1553.0               -7.71          5   \n",
       "176        18000    200000.0  1045.0               -8.30          5   \n",
       "177        11000    170000.0  1779.0               -9.90          5   \n",
       "178        12100    120000.0   708.9               -7.84          5   \n",
       "179        24490    248490.0  1134.5               -8.24          5   \n",
       "230        24145    382993.0  1494.0               -8.84          5   \n",
       "231        38234    272830.0  1356.0               -9.29          5   \n",
       "232        32489    648430.0  1948.5              -10.84          5   \n",
       "233        27739    849420.0  1252.0               -7.59          5   \n",
       "234        21904    748490.0  1130.0               -7.67          5   \n",
       "235        38940    374830.0  1356.0               -9.93          5   \n",
       "236        30839    834042.0  1194.0              -10.63          5   \n",
       "237         8829    537493.0  1423.0              -10.73          5   \n",
       "238         9235    404940.0  1112.0              -11.23          5   \n",
       "239        37882    294903.0  1783.0               -7.80          5   \n",
       "\n",
       "     Star color  \n",
       "50          Red  \n",
       "51          Red  \n",
       "52          Red  \n",
       "53       Orange  \n",
       "54          Red  \n",
       "55          Red  \n",
       "56          Red  \n",
       "57          Red  \n",
       "58          Red  \n",
       "59          Red  \n",
       "110         Red  \n",
       "111         Red  \n",
       "112         Red  \n",
       "113         Red  \n",
       "114         Red  \n",
       "115         Red  \n",
       "116         Red  \n",
       "117         Red  \n",
       "118         Red  \n",
       "119         Red  \n",
       "170         Red  \n",
       "171         Red  \n",
       "172      Orange  \n",
       "173        Blue  \n",
       "174         Red  \n",
       "175         Red  \n",
       "176        Blue  \n",
       "177  Blue-white  \n",
       "178  Blue-white  \n",
       "179  Blue-white  \n",
       "230  Blue-white  \n",
       "231        Blue  \n",
       "232        Blue  \n",
       "233  Blue-white  \n",
       "234  Blue-white  \n",
       "235        Blue  \n",
       "236        Blue  \n",
       "237       White  \n",
       "238       White  \n",
       "239        Blue  "
      ]
     },
     "execution_count": 8,
     "metadata": {},
     "output_type": "execute_result"
    }
   ],
   "source": [
    "data.query('Radius > 250')"
   ]
  },
  {
   "cell_type": "code",
   "execution_count": 9,
   "id": "540502ec",
   "metadata": {},
   "outputs": [],
   "source": [
    "data = data.query('Radius < 250')"
   ]
  },
  {
   "cell_type": "markdown",
   "id": "187870ad",
   "metadata": {},
   "source": [
    "В данных о светимости тоже много выбросов, но их удаление может негативно сказаться на обучении нейросети, поэтому оставим как есть."
   ]
  },
  {
   "cell_type": "markdown",
   "id": "f1677734",
   "metadata": {},
   "source": [
    "Значения абсолютной магнитуды выбросов не имеют, менять не надо."
   ]
  },
  {
   "cell_type": "markdown",
   "id": "344acfbe",
   "metadata": {},
   "source": [
    "### Категориальные данные"
   ]
  },
  {
   "cell_type": "code",
   "execution_count": 10,
   "id": "6adf91dc",
   "metadata": {},
   "outputs": [
    {
     "data": {
      "text/plain": [
       "array(['Red', 'Blue White', 'White', 'Yellowish White', 'Blue white',\n",
       "       'Pale yellow orange', 'Blue', 'Blue-white', 'Whitish',\n",
       "       'yellow-white', 'White-Yellow', 'white', 'Blue ', 'yellowish',\n",
       "       'Yellowish', 'Orange-Red', 'Blue white ', 'Blue-White'],\n",
       "      dtype=object)"
      ]
     },
     "execution_count": 10,
     "metadata": {},
     "output_type": "execute_result"
    }
   ],
   "source": [
    "# изучим значения цветов\n",
    "data['Star color'].unique() "
   ]
  },
  {
   "cell_type": "code",
   "execution_count": 11,
   "id": "27a5215f",
   "metadata": {},
   "outputs": [],
   "source": [
    "data['Star color'] = data['Star color'].str.lower().str.strip()"
   ]
  },
  {
   "cell_type": "code",
   "execution_count": 12,
   "id": "514ceb41",
   "metadata": {},
   "outputs": [
    {
     "data": {
      "text/plain": [
       "array(['red', 'blue white', 'white', 'yellowish white',\n",
       "       'pale yellow orange', 'blue', 'blue-white', 'whitish',\n",
       "       'yellow-white', 'white-yellow', 'yellowish', 'orange-red'],\n",
       "      dtype=object)"
      ]
     },
     "execution_count": 12,
     "metadata": {},
     "output_type": "execute_result"
    }
   ],
   "source": [
    "data['Star color'].unique() "
   ]
  },
  {
   "cell_type": "code",
   "execution_count": 13,
   "id": "39a39aea",
   "metadata": {},
   "outputs": [],
   "source": [
    "# оставим только основные цвета\n",
    "data['Star color'] = data['Star color'].replace({'blue white': 'blue',\n",
    "                                                'yellowish white': 'yellow',\n",
    "                                                'pale yellow orange': 'yellow',\n",
    "                                                'blue-white': 'blue',\n",
    "                                                'whitish': 'white',\n",
    "                                                'yellow-white': 'yellow',\n",
    "                                                'white-yellow': 'yellow',\n",
    "                                                'yellowish': 'yellow',\n",
    "                                                'orange-red': 'red'})"
   ]
  },
  {
   "cell_type": "code",
   "execution_count": 14,
   "id": "5be1ee4e",
   "metadata": {},
   "outputs": [
    {
     "data": {
      "text/plain": [
       "array(['red', 'blue', 'white', 'yellow'], dtype=object)"
      ]
     },
     "execution_count": 14,
     "metadata": {},
     "output_type": "execute_result"
    }
   ],
   "source": [
    "data['Star color'].unique() "
   ]
  },
  {
   "cell_type": "code",
   "execution_count": 15,
   "id": "6cf9322c",
   "metadata": {},
   "outputs": [],
   "source": [
    "def cat(column):\n",
    "    print(column, '\\n')\n",
    "    print(data[column].value_counts())\n",
    "    \n",
    "    names = list(data[column].value_counts().index)\n",
    "    values = list(data[column].value_counts().values)\n",
    "\n",
    "    figure, axis = plt.subplots(figsize=(5, 5))\n",
    "    \n",
    "    axis.barh(names, values)\n",
    "    \n",
    "    plt.style.use('bmh')\n",
    "    \n",
    "    figure.suptitle(column)\n",
    "    plt.show()"
   ]
  },
  {
   "cell_type": "code",
   "execution_count": 16,
   "id": "ebf0aeac",
   "metadata": {},
   "outputs": [],
   "source": [
    "categorical = ['Star type', 'Star color']"
   ]
  },
  {
   "cell_type": "code",
   "execution_count": 17,
   "id": "a1be24cc",
   "metadata": {
    "scrolled": false
   },
   "outputs": [
    {
     "name": "stdout",
     "output_type": "stream",
     "text": [
      "Star type \n",
      "\n",
      "0    40\n",
      "1    40\n",
      "2    40\n",
      "3    40\n",
      "4    40\n",
      "Name: Star type, dtype: int64\n"
     ]
    },
    {
     "data": {
      "image/png": "[encoded data removed]",
      "text/plain": [
       "<Figure size 360x360 with 1 Axes>"
      ]
     },
     "metadata": {
      "needs_background": "light"
     },
     "output_type": "display_data"
    },
    {
     "name": "stdout",
     "output_type": "stream",
     "text": [
      "Star color \n",
      "\n",
      "red       90\n",
      "blue      84\n",
      "yellow    16\n",
      "white     10\n",
      "Name: Star color, dtype: int64\n"
     ]
    },
    {
     "data": {
      "image/png": "[encoded data removed]",
      "text/plain": [
       "<Figure size 360x360 with 1 Axes>"
      ]
     },
     "metadata": {
      "needs_background": "light"
     },
     "output_type": "display_data"
    }
   ],
   "source": [
    "for col in categorical:\n",
    "    cat(col)"
   ]
  },
  {
   "cell_type": "markdown",
   "id": "f29293f8",
   "metadata": {},
   "source": [
    "В данных одинаковое количество звёзд каждого типа. Преобладает красный цвет."
   ]
  },
  {
   "cell_type": "markdown",
   "id": "9b85304c",
   "metadata": {},
   "source": [
    "### Вывод"
   ]
  },
  {
   "cell_type": "markdown",
   "id": "a84fb33f",
   "metadata": {},
   "source": [
    "- Данные очищены от выбросов\n",
    "- Звёзды каждого типа представлены равномерно\n",
    "- Названия цветов приведены к единому формату\n",
    "- Больше всего звёзд красного цвета"
   ]
  },
  {
   "cell_type": "markdown",
   "id": "a79ab7a2",
   "metadata": {},
   "source": [
    "## Подготовка данных к построению модели"
   ]
  },
  {
   "cell_type": "code",
   "execution_count": 18,
   "id": "d3d0ec52",
   "metadata": {},
   "outputs": [],
   "source": [
    "features = data.drop('Temperature', axis=1)\n",
    "target = data['Temperature']"
   ]
  },
  {
   "cell_type": "code",
   "execution_count": 19,
   "id": "2f3b3f4e",
   "metadata": {},
   "outputs": [],
   "source": [
    "X_train, X_test, y_train, y_test = train_test_split(features, target, test_size=0.2, random_state=42, shuffle=True)"
   ]
  },
  {
   "cell_type": "code",
   "execution_count": 20,
   "id": "6df797da",
   "metadata": {},
   "outputs": [
    {
     "name": "stdout",
     "output_type": "stream",
     "text": [
      "(160, 5)\n",
      "(160,)\n",
      "(40, 5)\n",
      "(40,)\n"
     ]
    }
   ],
   "source": [
    "print(X_train.shape)\n",
    "print(y_train.shape)\n",
    "print(X_test.shape)\n",
    "print(y_test.shape)"
   ]
  },
  {
   "cell_type": "code",
   "execution_count": 21,
   "id": "b49deca4",
   "metadata": {},
   "outputs": [],
   "source": [
    "numeric = ['Luminosity', 'Radius', 'Absolute magnitude']"
   ]
  },
  {
   "cell_type": "code",
   "execution_count": 22,
   "id": "6902163b",
   "metadata": {},
   "outputs": [],
   "source": [
    "# кодирование категориальных признаков\n",
    "ohe_encoder = OneHotEncoder(handle_unknown='ignore')\n",
    "ohe_encoder.fit(X_train[categorical])\n",
    "X_train_encoded = pd.DataFrame(\n",
    "    ohe_encoder.transform(X_train[categorical]).toarray(),\n",
    "    columns=ohe_encoder.get_feature_names(categorical)\n",
    ")\n",
    "\n",
    "X_train_ohe = pd.concat((X_train[numeric].reset_index(drop=True), X_train_encoded.reset_index(drop=True)), axis=1)\n",
    "\n",
    "X_test_encoded = pd.DataFrame(\n",
    "    ohe_encoder.transform(X_test[categorical]).toarray(),\n",
    "    columns=ohe_encoder.get_feature_names(categorical)\n",
    ")\n",
    "\n",
    "X_test_ohe = pd.concat((X_test[numeric].reset_index(drop=True), X_test_encoded.reset_index(drop=True)), axis=1)"
   ]
  },
  {
   "cell_type": "code",
   "execution_count": 23,
   "id": "ca045b9a",
   "metadata": {},
   "outputs": [],
   "source": [
    "# стандартизация числовых признаков\n",
    "scaler = StandardScaler()\n",
    "scaler.fit(X_train_ohe[numeric])\n",
    "\n",
    "X_train_ohe[numeric] = scaler.transform(X_train_ohe[numeric])\n",
    "X_test_ohe[numeric] = scaler.transform(X_test_ohe[numeric])"
   ]
  },
  {
   "cell_type": "code",
   "execution_count": 24,
   "id": "b2260286",
   "metadata": {},
   "outputs": [],
   "source": [
    "X_train_tensor = torch.from_numpy(np.array(X_train_ohe)).float()\n",
    "X_test_tensor = torch.from_numpy(np.array(X_test_ohe)).float()\n",
    "\n",
    "y_train_tensor = torch.from_numpy(np.array(y_train)).float()\n",
    "y_test_tensor = torch.from_numpy(np.array(y_test)).float()"
   ]
  },
  {
   "cell_type": "markdown",
   "id": "funded-electric",
   "metadata": {},
   "source": [
    "## Построение базовой нейронной сети"
   ]
  },
  {
   "cell_type": "code",
   "execution_count": 25,
   "id": "da65ba10",
   "metadata": {},
   "outputs": [],
   "source": [
    "# функция активации\n",
    "def linear(x):\n",
    "    k = 2\n",
    "    return k*x"
   ]
  },
  {
   "cell_type": "markdown",
   "id": "736c09f9",
   "metadata": {},
   "source": [
    "**Архитектура базовой сети:**\n",
    "- полносвязная сеть прямого распространения\n",
    "- 2 скрытых слоя\n",
    "- функция активации для скрытых слоёв - leaky ReLU\n",
    "- функция активации выходного слоя - линейная"
   ]
  },
  {
   "cell_type": "code",
   "execution_count": 26,
   "id": "forced-concentrate",
   "metadata": {},
   "outputs": [],
   "source": [
    "class Basic_Net(nn.Module):\n",
    "    def __init__(self, n_in_neurons, n_hidden_neurons_1, n_hidden_neurons_2, n_out_neurons):\n",
    "        super(Basic_Net, self).__init__()\n",
    "        self.layer1 = nn.Linear(n_in_neurons, n_hidden_neurons_1)\n",
    "        self.layer2 = nn.Linear(n_hidden_neurons_1, n_hidden_neurons_2)\n",
    "        self.layer3 = nn.Linear(n_hidden_neurons_2, n_out_neurons)\n",
    "        \n",
    "    def forward(self, x):\n",
    "        x = self.layer1(x)\n",
    "        x = nn.functional.leaky_relu(x)\n",
    "        x = self.layer2(x)\n",
    "        x = nn.functional.leaky_relu(x)\n",
    "        x = self.layer3(x)\n",
    "        x = linear(x)\n",
    "        \n",
    "        return x"
   ]
  },
  {
   "cell_type": "code",
   "execution_count": 27,
   "id": "0c229918",
   "metadata": {},
   "outputs": [],
   "source": [
    "# инициализация весов\n",
    "def init_weights(layer):\n",
    "    if type(layer) == nn.Linear:\n",
    "        nn.init.kaiming_uniform_(layer.weight, mode='fan_in', nonlinearity='relu')"
   ]
  },
  {
   "cell_type": "code",
   "execution_count": 28,
   "id": "07713e1b",
   "metadata": {},
   "outputs": [],
   "source": [
    "# гиперпараметры нейросети\n",
    "num_epochs = 6000\n",
    "batch_size = 100\n",
    "accumulation_iteration = 5\n",
    "num_batches = ceil(len(X_train_tensor)/batch_size)\n",
    "loss = torch.nn.MSELoss()\n",
    "learning_rate = 0.01"
   ]
  },
  {
   "cell_type": "markdown",
   "id": "bca29db3",
   "metadata": {},
   "source": [
    "- Входной слой - 12 нейронов\n",
    "- Скрытые слои - 3 нейрона\n",
    "- Выходной слой - 1 нейрон"
   ]
  },
  {
   "cell_type": "code",
   "execution_count": 29,
   "id": "ebae2303",
   "metadata": {},
   "outputs": [],
   "source": [
    "n_in_neurons = X_train_tensor.size(dim=1)\n",
    "n_out_neurons = 1\n",
    "n_hidden_neurons_1 = round(np.sqrt(n_in_neurons))\n",
    "n_hidden_neurons_2 = round(np.sqrt(n_in_neurons))"
   ]
  },
  {
   "cell_type": "code",
   "execution_count": 30,
   "id": "751edec7",
   "metadata": {
    "scrolled": false
   },
   "outputs": [
    {
     "name": "stdout",
     "output_type": "stream",
     "text": [
      "Эпоха: 0, Loss: 193528128.0, RMSE: 12411.9609375\n",
      "Эпоха: 0, Loss: 201502112.0, RMSE: 12411.837890625\n",
      "Эпоха: 100, Loss: 185119952.0, RMSE: 12353.1435546875\n",
      "Эпоха: 100, Loss: 211960432.0, RMSE: 12351.0712890625\n",
      "Эпоха: 200, Loss: 178213760.0, RMSE: 11628.3154296875\n",
      "Эпоха: 200, Loss: 174839584.0, RMSE: 11614.115234375\n",
      "Эпоха: 300, Loss: 113323616.0, RMSE: 9436.462890625\n",
      "Эпоха: 300, Loss: 119658088.0, RMSE: 9408.6826171875\n",
      "Эпоха: 400, Loss: 66302520.0, RMSE: 6774.95458984375\n",
      "Эпоха: 400, Loss: 51137220.0, RMSE: 6753.21826171875\n",
      "Эпоха: 500, Loss: 29843756.0, RMSE: 5302.1884765625\n",
      "Эпоха: 500, Loss: 58650396.0, RMSE: 5293.7001953125\n",
      "Эпоха: 600, Loss: 34860940.0, RMSE: 4836.20458984375\n",
      "Эпоха: 600, Loss: 31010410.0, RMSE: 4834.11279296875\n",
      "Эпоха: 700, Loss: 31721996.0, RMSE: 4718.1884765625\n",
      "Эпоха: 700, Loss: 27335032.0, RMSE: 4717.55712890625\n",
      "Эпоха: 800, Loss: 28789598.0, RMSE: 4677.0361328125\n",
      "Эпоха: 800, Loss: 26982758.0, RMSE: 4676.9052734375\n",
      "Эпоха: 900, Loss: 29173876.0, RMSE: 4653.39208984375\n",
      "Эпоха: 900, Loss: 23032658.0, RMSE: 4653.16357421875\n",
      "Эпоха: 1000, Loss: 21570778.0, RMSE: 4637.7080078125\n",
      "Эпоха: 1000, Loss: 33551014.0, RMSE: 4637.638671875\n",
      "Эпоха: 1100, Loss: 23634148.0, RMSE: 4628.501953125\n",
      "Эпоха: 1100, Loss: 28714042.0, RMSE: 4628.36083984375\n",
      "Эпоха: 1200, Loss: 23888248.0, RMSE: 4616.80517578125\n",
      "Эпоха: 1200, Loss: 27363082.0, RMSE: 4616.73828125\n",
      "Эпоха: 1300, Loss: 27014928.0, RMSE: 4609.05224609375\n",
      "Эпоха: 1300, Loss: 21514132.0, RMSE: 4608.98486328125\n",
      "Эпоха: 1400, Loss: 27904266.0, RMSE: 4601.779296875\n",
      "Эпоха: 1400, Loss: 19552546.0, RMSE: 4601.76318359375\n",
      "Эпоха: 1500, Loss: 27812592.0, RMSE: 4588.6630859375\n",
      "Эпоха: 1500, Loss: 19319784.0, RMSE: 4588.4140625\n",
      "Эпоха: 1600, Loss: 22815214.0, RMSE: 4576.810546875\n",
      "Эпоха: 1600, Loss: 27333436.0, RMSE: 4576.408203125\n",
      "Эпоха: 1700, Loss: 23505342.0, RMSE: 4558.4482421875\n",
      "Эпоха: 1700, Loss: 25923726.0, RMSE: 4558.7626953125\n",
      "Эпоха: 1800, Loss: 27715316.0, RMSE: 4541.837890625\n",
      "Эпоха: 1800, Loss: 18677574.0, RMSE: 4541.26123046875\n",
      "Эпоха: 1900, Loss: 26656532.0, RMSE: 4522.04541015625\n",
      "Эпоха: 1900, Loss: 20231718.0, RMSE: 4521.88916015625\n",
      "Эпоха: 2000, Loss: 25739528.0, RMSE: 4506.65771484375\n",
      "Эпоха: 2000, Loss: 21561610.0, RMSE: 4506.2041015625\n",
      "Эпоха: 2100, Loss: 19592912.0, RMSE: 4490.74169921875\n",
      "Эпоха: 2100, Loss: 31614344.0, RMSE: 4490.36376953125\n",
      "Эпоха: 2200, Loss: 23057838.0, RMSE: 4474.79052734375\n",
      "Эпоха: 2200, Loss: 25665714.0, RMSE: 4474.994140625\n",
      "Эпоха: 2300, Loss: 21685194.0, RMSE: 4455.40234375\n",
      "Эпоха: 2300, Loss: 27785206.0, RMSE: 4455.76611328125\n",
      "Эпоха: 2400, Loss: 22777538.0, RMSE: 4435.8466796875\n",
      "Эпоха: 2400, Loss: 25807946.0, RMSE: 4436.4111328125\n",
      "Эпоха: 2500, Loss: 25320730.0, RMSE: 4410.04443359375\n",
      "Эпоха: 2500, Loss: 21420226.0, RMSE: 4410.4091796875\n",
      "Эпоха: 2600, Loss: 27800314.0, RMSE: 4397.43994140625\n",
      "Эпоха: 2600, Loss: 17149782.0, RMSE: 4397.20751953125\n",
      "Эпоха: 2700, Loss: 22759104.0, RMSE: 4366.814453125\n",
      "Эпоха: 2700, Loss: 25427426.0, RMSE: 4366.9765625\n",
      "Эпоха: 2800, Loss: 22979302.0, RMSE: 4354.21875\n",
      "Эпоха: 2800, Loss: 24922400.0, RMSE: 4354.79248046875\n",
      "Эпоха: 2900, Loss: 23288166.0, RMSE: 4341.69140625\n",
      "Эпоха: 2900, Loss: 24290378.0, RMSE: 4340.8232421875\n",
      "Эпоха: 3000, Loss: 24090220.0, RMSE: 4307.42041015625\n",
      "Эпоха: 3000, Loss: 22846034.0, RMSE: 4307.8173828125\n",
      "Эпоха: 3100, Loss: 24376110.0, RMSE: 4293.44287109375\n",
      "Эпоха: 3100, Loss: 22265946.0, RMSE: 4292.92431640625\n",
      "Эпоха: 3200, Loss: 25349340.0, RMSE: 4289.64501953125\n",
      "Эпоха: 3200, Loss: 20548754.0, RMSE: 4289.17529296875\n",
      "Эпоха: 3300, Loss: 24146404.0, RMSE: 4263.63134765625\n",
      "Эпоха: 3300, Loss: 22406092.0, RMSE: 4263.47998046875\n",
      "Эпоха: 3400, Loss: 24376664.0, RMSE: 4233.11279296875\n",
      "Эпоха: 3400, Loss: 21891684.0, RMSE: 4233.01708984375\n",
      "Эпоха: 3500, Loss: 21849648.0, RMSE: 4207.59228515625\n",
      "Эпоха: 3500, Loss: 25953720.0, RMSE: 4206.5595703125\n",
      "Эпоха: 3600, Loss: 23740904.0, RMSE: 4190.58349609375\n",
      "Эпоха: 3600, Loss: 22664956.0, RMSE: 4190.6708984375\n",
      "Эпоха: 3700, Loss: 24348820.0, RMSE: 4173.580078125\n",
      "Эпоха: 3700, Loss: 21542358.0, RMSE: 4173.21142578125\n",
      "Эпоха: 3800, Loss: 25125824.0, RMSE: 4148.05224609375\n",
      "Эпоха: 3800, Loss: 19976788.0, RMSE: 4147.505859375\n",
      "Эпоха: 3900, Loss: 23698440.0, RMSE: 4077.9453125\n",
      "Эпоха: 3900, Loss: 21444670.0, RMSE: 4078.160888671875\n",
      "Эпоха: 4000, Loss: 20616066.0, RMSE: 4041.327392578125\n",
      "Эпоха: 4000, Loss: 26316222.0, RMSE: 4041.504638671875\n",
      "Эпоха: 4100, Loss: 26198370.0, RMSE: 4004.12255859375\n",
      "Эпоха: 4100, Loss: 16761824.0, RMSE: 4002.881103515625\n",
      "Эпоха: 4200, Loss: 26224102.0, RMSE: 3958.29150390625\n",
      "Эпоха: 4200, Loss: 16457472.0, RMSE: 3958.501220703125\n",
      "Эпоха: 4300, Loss: 25574696.0, RMSE: 3934.09814453125\n",
      "Эпоха: 4300, Loss: 17289302.0, RMSE: 3932.80126953125\n",
      "Эпоха: 4400, Loss: 23818936.0, RMSE: 3887.263671875\n",
      "Эпоха: 4400, Loss: 19961632.0, RMSE: 3888.13037109375\n",
      "Эпоха: 4500, Loss: 20603306.0, RMSE: 3842.591552734375\n",
      "Эпоха: 4500, Loss: 25077132.0, RMSE: 3841.99267578125\n",
      "Эпоха: 4600, Loss: 23761676.0, RMSE: 3809.45703125\n",
      "Эпоха: 4600, Loss: 19584770.0, RMSE: 3809.085205078125\n",
      "Эпоха: 4700, Loss: 18894680.0, RMSE: 3755.77734375\n",
      "Эпоха: 4700, Loss: 27452946.0, RMSE: 3754.810302734375\n",
      "Эпоха: 4800, Loss: 25886996.0, RMSE: 3712.457763671875\n",
      "Эпоха: 4800, Loss: 15568619.0, RMSE: 3713.22314453125\n",
      "Эпоха: 4900, Loss: 19376770.0, RMSE: 3663.85302734375\n",
      "Эпоха: 4900, Loss: 26189542.0, RMSE: 3663.22705078125\n",
      "Эпоха: 5000, Loss: 20952016.0, RMSE: 3611.001708984375\n",
      "Эпоха: 5000, Loss: 23347582.0, RMSE: 3611.83251953125\n",
      "Эпоха: 5100, Loss: 18651154.0, RMSE: 3565.719970703125\n",
      "Эпоха: 5100, Loss: 26946332.0, RMSE: 3565.847412109375\n",
      "Эпоха: 5200, Loss: 22082324.0, RMSE: 3523.674560546875\n",
      "Эпоха: 5200, Loss: 20942988.0, RMSE: 3523.766357421875\n",
      "Эпоха: 5300, Loss: 24433068.0, RMSE: 3476.33740234375\n",
      "Эпоха: 5300, Loss: 16760398.0, RMSE: 3477.166748046875\n",
      "Эпоха: 5400, Loss: 21150266.0, RMSE: 3432.5126953125\n",
      "Эпоха: 5400, Loss: 22004082.0, RMSE: 3432.711181640625\n",
      "Эпоха: 5500, Loss: 22233060.0, RMSE: 3388.3740234375\n",
      "Эпоха: 5500, Loss: 19948614.0, RMSE: 3389.29443359375\n",
      "Эпоха: 5600, Loss: 21326662.0, RMSE: 3321.706787109375\n",
      "Эпоха: 5600, Loss: 21248836.0, RMSE: 3321.336181640625\n",
      "Эпоха: 5700, Loss: 18524678.0, RMSE: 3281.752197265625\n",
      "Эпоха: 5700, Loss: 25696212.0, RMSE: 3280.4423828125\n",
      "Эпоха: 5800, Loss: 18764782.0, RMSE: 3233.291748046875\n",
      "Эпоха: 5800, Loss: 25093068.0, RMSE: 3229.822509765625\n",
      "Эпоха: 5900, Loss: 22645214.0, RMSE: 3170.009765625\n",
      "Эпоха: 5900, Loss: 18478878.0, RMSE: 3169.384765625\n",
      "Эпоха: 5999, Loss: 21194914.0, RMSE: 3123.33642578125\n",
      "Эпоха: 5999, Loss: 20659576.0, RMSE: 3121.9423828125\n"
     ]
    }
   ],
   "source": [
    "basic_net = Basic_Net(n_in_neurons, n_hidden_neurons_1, n_hidden_neurons_2, n_out_neurons)\n",
    "basic_net.apply(init_weights)\n",
    "optimizer = torch.optim.Adam(basic_net.parameters(), lr=learning_rate)\n",
    "\n",
    "for epoch in range(num_epochs):\n",
    "    order = np.random.permutation(len(X_train_tensor))\n",
    "    optimizer.zero_grad()\n",
    "    \n",
    "    for batch_i in range(num_batches):\n",
    "        \n",
    "        start_index = batch_i * batch_size\n",
    "        batch_indexes = order[start_index:start_index+batch_size]\n",
    "        X_batch = X_train_tensor[batch_indexes]\n",
    "        y_batch = y_train_tensor[batch_indexes]\n",
    "        \n",
    "        preds = basic_net.forward(X_batch).flatten()\n",
    "        loss_value = loss(preds, y_batch)\n",
    "        loss_value.backward()\n",
    "        \n",
    "        if ((batch_i+1) % accumulation_iteration == 0) or (batch_i+1 == num_batches):\n",
    "            optimizer.step()\n",
    "            optimizer.zero_grad()\n",
    "        if epoch % 100 == 0 or epoch == num_epochs-1:\n",
    "            basic_net.eval()\n",
    "            test_preds = basic_net.forward(X_test_tensor).flatten()\n",
    "            mse = (torch.sum((y_test_tensor - test_preds)**2)/len(test_preds)).data\n",
    "            rmse = np.sqrt(mse)\n",
    "            print(f'Эпоха: {epoch}, Loss: {loss_value}, RMSE: {rmse}')\n",
    "        "
   ]
  },
  {
   "cell_type": "code",
   "execution_count": 31,
   "id": "0d487ac4",
   "metadata": {},
   "outputs": [],
   "source": [
    "def build_graphic():\n",
    "    figure, axis = plt.subplots(1, 1, figsize=(10,8))\n",
    "    \n",
    "    plt.style.use('bmh')\n",
    "\n",
    "    axis.bar(x = y_test.index, height = y_test.values, width = 3, label = 'Факт')\n",
    "    axis.bar(x = y_test.index, height = test_preds.int(), width = 5, alpha=0.5, label = 'Прогноз')\n",
    "\n",
    "    plt.xlabel(\"Номер звезды в таблице данных\")\n",
    "    plt.ylabel(\"Температура звезды\")\n",
    "\n",
    "    figure.suptitle('График')\n",
    "    plt.legend()\n",
    "    plt.show()"
   ]
  },
  {
   "cell_type": "code",
   "execution_count": 32,
   "id": "28203a30",
   "metadata": {},
   "outputs": [
    {
     "data": {
      "image/png": "[encoded data removed]",
      "text/plain": [
       "<Figure size 720x576 with 1 Axes>"
      ]
     },
     "metadata": {
      "needs_background": "light"
     },
     "output_type": "display_data"
    }
   ],
   "source": [
    "build_graphic()"
   ]
  },
  {
   "cell_type": "markdown",
   "id": "a07387c6",
   "metadata": {},
   "source": [
    "### Вывод"
   ]
  },
  {
   "cell_type": "markdown",
   "id": "9033482d",
   "metadata": {},
   "source": [
    "В целом, нейросеть даёт неплохие результаты. Здесь уже выбраны оптимальное количество эпох, скорость обучения и размер батча.<br>\n",
    "- Пробовала менять размеры батча 50, 80, 100.<br>\n",
    "- Скорость обучения 0.0001, 0.1 - слишком маленькая скорость работает медленно, прироста результата не дала. Более высокая скорость пропускает минимумы.<br>\n",
    "- Количество эпох варьировалось от 100 до 6000 - оставила 6000, т.к. при таком варианте достигается наилучший результат без переобучения.<br>\n",
    "- Пробовала сначала один скрытый слой - справляется тоже хорошо, но с двумя работает точнее.<br>\n",
    "- Инициализация весов равномерным/нормальным распределением, fan_in/fan_out - существенных изменений не вносит.<br>\n",
    "- Функция активации изначально была ReLU, но в данных есть отрицательные значения - решила попробовать leaky ReLU, результат улучшился.<br>\n",
    "\n",
    "Наилучшее значение метрики RMSE на тестовой выборке - **3526**."
   ]
  },
  {
   "cell_type": "markdown",
   "id": "growing-supply",
   "metadata": {},
   "source": [
    "## Улучшение нейронной сети"
   ]
  },
  {
   "cell_type": "markdown",
   "id": "2d97c4cc",
   "metadata": {},
   "source": [
    "### BatchNormalization"
   ]
  },
  {
   "cell_type": "code",
   "execution_count": 33,
   "id": "acceptable-forwarding",
   "metadata": {},
   "outputs": [],
   "source": [
    "class BN_Net(nn.Module):\n",
    "    def __init__(self, n_in_neurons, n_hidden_neurons_1, n_hidden_neurons_2, n_out_neurons):\n",
    "        super(BN_Net, self).__init__()\n",
    "        self.layer1 = nn.Linear(n_in_neurons, n_hidden_neurons_1)\n",
    "        self.bn1 = nn.BatchNorm1d(n_hidden_neurons_1)\n",
    "        self.layer2 = nn.Linear(n_hidden_neurons_1, n_hidden_neurons_2)\n",
    "        self.bn2 = nn.BatchNorm1d(n_hidden_neurons_2)\n",
    "        self.layer3 = nn.Linear(n_hidden_neurons_2, n_out_neurons)\n",
    "        \n",
    "    def forward(self, x):\n",
    "        x = self.layer1(x)\n",
    "        x = self.bn1(x)\n",
    "        x = nn.functional.leaky_relu(x)\n",
    "        x = self.layer2(x)\n",
    "        x = self.bn2(x)\n",
    "        x = nn.functional.leaky_relu(x)\n",
    "        x = self.layer3(x)\n",
    "        x = linear(x)\n",
    "        \n",
    "        return x"
   ]
  },
  {
   "cell_type": "code",
   "execution_count": 34,
   "id": "2903fc32",
   "metadata": {},
   "outputs": [
    {
     "name": "stdout",
     "output_type": "stream",
     "text": [
      "Эпоха: 0, Loss: 219758064.0, RMSE: 12412.9287109375\n",
      "Эпоха: 0, Loss: 157875152.0, RMSE: 12412.7587890625\n",
      "Эпоха: 100, Loss: 173425168.0, RMSE: 12409.7060546875\n",
      "Эпоха: 100, Loss: 234830752.0, RMSE: 12409.6572265625\n",
      "Эпоха: 200, Loss: 216601296.0, RMSE: 12276.259765625\n",
      "Эпоха: 200, Loss: 150183600.0, RMSE: 12271.0771484375\n",
      "Эпоха: 300, Loss: 121039320.0, RMSE: 10205.8603515625\n",
      "Эпоха: 300, Loss: 132771328.0, RMSE: 10164.1181640625\n",
      "Эпоха: 400, Loss: 52276460.0, RMSE: 6413.57177734375\n",
      "Эпоха: 400, Loss: 61552652.0, RMSE: 6393.30712890625\n",
      "Эпоха: 500, Loss: 45005712.0, RMSE: 5184.7763671875\n",
      "Эпоха: 500, Loss: 32134528.0, RMSE: 5178.15185546875\n",
      "Эпоха: 600, Loss: 37902828.0, RMSE: 4786.17724609375\n",
      "Эпоха: 600, Loss: 25976262.0, RMSE: 4784.2099609375\n",
      "Эпоха: 700, Loss: 29622664.0, RMSE: 4684.017578125\n",
      "Эпоха: 700, Loss: 30512726.0, RMSE: 4683.7392578125\n",
      "Эпоха: 800, Loss: 24528522.0, RMSE: 4673.29296875\n",
      "Эпоха: 800, Loss: 33529026.0, RMSE: 4673.70849609375\n",
      "Эпоха: 900, Loss: 28326228.0, RMSE: 4658.17724609375\n",
      "Эпоха: 900, Loss: 23835164.0, RMSE: 4658.05810546875\n",
      "Эпоха: 1000, Loss: 28475556.0, RMSE: 4658.3056640625\n",
      "Эпоха: 1000, Loss: 21529332.0, RMSE: 4657.97802734375\n",
      "Эпоха: 1100, Loss: 24739574.0, RMSE: 4645.9091796875\n",
      "Эпоха: 1100, Loss: 26531178.0, RMSE: 4647.90869140625\n",
      "Эпоха: 1200, Loss: 24299348.0, RMSE: 4638.6796875\n",
      "Эпоха: 1200, Loss: 26520802.0, RMSE: 4638.263671875\n",
      "Эпоха: 1300, Loss: 25624820.0, RMSE: 4621.5498046875\n",
      "Эпоха: 1300, Loss: 23825684.0, RMSE: 4621.75439453125\n",
      "Эпоха: 1400, Loss: 23521978.0, RMSE: 4625.62109375\n",
      "Эпоха: 1400, Loss: 26993800.0, RMSE: 4626.8740234375\n",
      "Эпоха: 1500, Loss: 22491538.0, RMSE: 4595.87255859375\n",
      "Эпоха: 1500, Loss: 28419744.0, RMSE: 4596.2880859375\n",
      "Эпоха: 1600, Loss: 23287512.0, RMSE: 4558.71826171875\n",
      "Эпоха: 1600, Loss: 26837068.0, RMSE: 4558.79931640625\n",
      "Эпоха: 1700, Loss: 25276078.0, RMSE: 4554.2587890625\n",
      "Эпоха: 1700, Loss: 23285666.0, RMSE: 4552.2294921875\n",
      "Эпоха: 1800, Loss: 22813976.0, RMSE: 4538.19677734375\n",
      "Эпоха: 1800, Loss: 27184038.0, RMSE: 4538.20166015625\n",
      "Эпоха: 1900, Loss: 24262512.0, RMSE: 4513.23828125\n",
      "Эпоха: 1900, Loss: 24564392.0, RMSE: 4512.93115234375\n",
      "Эпоха: 2000, Loss: 21388876.0, RMSE: 4400.67626953125\n",
      "Эпоха: 2000, Loss: 26664446.0, RMSE: 4395.77685546875\n",
      "Эпоха: 2100, Loss: 18567522.0, RMSE: 4148.72900390625\n",
      "Эпоха: 2100, Loss: 26533688.0, RMSE: 4147.53662109375\n",
      "Эпоха: 2200, Loss: 19551908.0, RMSE: 3922.50048828125\n",
      "Эпоха: 2200, Loss: 21384894.0, RMSE: 3920.9580078125\n",
      "Эпоха: 2300, Loss: 24246446.0, RMSE: 3751.489501953125\n",
      "Эпоха: 2300, Loss: 11210668.0, RMSE: 3752.8974609375\n",
      "Эпоха: 2400, Loss: 19138042.0, RMSE: 3599.767578125\n",
      "Эпоха: 2400, Loss: 18288686.0, RMSE: 3601.075439453125\n",
      "Эпоха: 2500, Loss: 16758509.0, RMSE: 3527.741943359375\n",
      "Эпоха: 2500, Loss: 21245790.0, RMSE: 3527.419189453125\n",
      "Эпоха: 2600, Loss: 15615562.0, RMSE: 3402.414794921875\n",
      "Эпоха: 2600, Loss: 22487136.0, RMSE: 3402.370849609375\n",
      "Эпоха: 2700, Loss: 19252034.0, RMSE: 3343.257568359375\n",
      "Эпоха: 2700, Loss: 15990601.0, RMSE: 3345.651611328125\n",
      "Эпоха: 2800, Loss: 20079106.0, RMSE: 3311.31103515625\n",
      "Эпоха: 2800, Loss: 14428015.0, RMSE: 3308.7880859375\n",
      "Эпоха: 2900, Loss: 18387320.0, RMSE: 3263.89306640625\n",
      "Эпоха: 2900, Loss: 17050322.0, RMSE: 3260.08349609375\n",
      "Эпоха: 3000, Loss: 19575930.0, RMSE: 3248.926025390625\n",
      "Эпоха: 3000, Loss: 14987715.0, RMSE: 3247.382568359375\n",
      "Эпоха: 3100, Loss: 16958172.0, RMSE: 3211.447265625\n",
      "Эпоха: 3100, Loss: 19271436.0, RMSE: 3209.98681640625\n",
      "Эпоха: 3200, Loss: 19018898.0, RMSE: 3189.188720703125\n",
      "Эпоха: 3200, Loss: 15797009.0, RMSE: 3190.265869140625\n",
      "Эпоха: 3300, Loss: 20755032.0, RMSE: 3187.83349609375\n",
      "Эпоха: 3300, Loss: 12895104.0, RMSE: 3186.662109375\n",
      "Эпоха: 3400, Loss: 22106470.0, RMSE: 3192.071533203125\n",
      "Эпоха: 3400, Loss: 10625815.0, RMSE: 3193.59130859375\n",
      "Эпоха: 3500, Loss: 18097996.0, RMSE: 3173.577392578125\n",
      "Эпоха: 3500, Loss: 17279402.0, RMSE: 3173.323974609375\n",
      "Эпоха: 3600, Loss: 21738000.0, RMSE: 3165.59814453125\n",
      "Эпоха: 3600, Loss: 11201085.0, RMSE: 3161.33935546875\n",
      "Эпоха: 3700, Loss: 17386456.0, RMSE: 3176.606689453125\n",
      "Эпоха: 3700, Loss: 18451186.0, RMSE: 3179.20263671875\n",
      "Эпоха: 3800, Loss: 18557932.0, RMSE: 3170.1259765625\n",
      "Эпоха: 3800, Loss: 16500374.0, RMSE: 3169.06884765625\n",
      "Эпоха: 3900, Loss: 16565924.0, RMSE: 3165.075439453125\n",
      "Эпоха: 3900, Loss: 19810286.0, RMSE: 3163.71826171875\n",
      "Эпоха: 4000, Loss: 14562299.0, RMSE: 3173.5263671875\n",
      "Эпоха: 4000, Loss: 23161116.0, RMSE: 3172.757568359375\n",
      "Эпоха: 4100, Loss: 14853535.0, RMSE: 3157.076171875\n",
      "Эпоха: 4100, Loss: 22673416.0, RMSE: 3154.3369140625\n",
      "Эпоха: 4200, Loss: 19337168.0, RMSE: 3167.34326171875\n",
      "Эпоха: 4200, Loss: 15190173.0, RMSE: 3162.136474609375\n",
      "Эпоха: 4300, Loss: 17216104.0, RMSE: 3158.544677734375\n",
      "Эпоха: 4300, Loss: 18729084.0, RMSE: 3153.40625\n",
      "Эпоха: 4400, Loss: 18972932.0, RMSE: 3159.42822265625\n",
      "Эпоха: 4400, Loss: 15798599.0, RMSE: 3155.371337890625\n",
      "Эпоха: 4500, Loss: 18145566.0, RMSE: 3149.354248046875\n",
      "Эпоха: 4500, Loss: 17189342.0, RMSE: 3148.3486328125\n",
      "Эпоха: 4600, Loss: 13182072.0, RMSE: 3155.228271484375\n",
      "Эпоха: 4600, Loss: 25454492.0, RMSE: 3159.183837890625\n",
      "Эпоха: 4700, Loss: 19282060.0, RMSE: 3165.538330078125\n",
      "Эпоха: 4700, Loss: 15290766.0, RMSE: 3165.763671875\n",
      "Эпоха: 4800, Loss: 17620946.0, RMSE: 3149.553955078125\n",
      "Эпоха: 4800, Loss: 18061314.0, RMSE: 3145.254638671875\n",
      "Эпоха: 4900, Loss: 16561770.0, RMSE: 3151.49658203125\n",
      "Эпоха: 4900, Loss: 19821966.0, RMSE: 3150.26416015625\n",
      "Эпоха: 5000, Loss: 20306328.0, RMSE: 3176.7998046875\n",
      "Эпоха: 5000, Loss: 13573543.0, RMSE: 3177.269287109375\n",
      "Эпоха: 5100, Loss: 16588517.0, RMSE: 3159.74853515625\n",
      "Эпоха: 5100, Loss: 19767124.0, RMSE: 3160.760986328125\n",
      "Эпоха: 5200, Loss: 17695416.0, RMSE: 3143.753173828125\n",
      "Эпоха: 5200, Loss: 17965844.0, RMSE: 3145.19482421875\n",
      "Эпоха: 5300, Loss: 13254321.0, RMSE: 3174.27685546875\n",
      "Эпоха: 5300, Loss: 25316864.0, RMSE: 3174.3681640625\n",
      "Эпоха: 5400, Loss: 16522335.0, RMSE: 3148.98486328125\n",
      "Эпоха: 5400, Loss: 19911972.0, RMSE: 3145.179443359375\n",
      "Эпоха: 5500, Loss: 17323932.0, RMSE: 3170.84619140625\n",
      "Эпоха: 5500, Loss: 18539424.0, RMSE: 3168.063232421875\n",
      "Эпоха: 5600, Loss: 20232802.0, RMSE: 3133.546142578125\n",
      "Эпоха: 5600, Loss: 13796498.0, RMSE: 3133.090087890625\n",
      "Эпоха: 5700, Loss: 19501670.0, RMSE: 3182.3642578125\n",
      "Эпоха: 5700, Loss: 14924255.0, RMSE: 3179.095458984375\n",
      "Эпоха: 5800, Loss: 18748280.0, RMSE: 3145.265625\n",
      "Эпоха: 5800, Loss: 16200473.0, RMSE: 3139.67138671875\n",
      "Эпоха: 5900, Loss: 15370593.0, RMSE: 3176.622314453125\n",
      "Эпоха: 5900, Loss: 21797074.0, RMSE: 3178.4736328125\n",
      "Эпоха: 5999, Loss: 16583092.0, RMSE: 3171.6103515625\n",
      "Эпоха: 5999, Loss: 19765112.0, RMSE: 3166.494384765625\n"
     ]
    }
   ],
   "source": [
    "bn_net = BN_Net(n_in_neurons, n_hidden_neurons_1,  n_hidden_neurons_2, n_out_neurons)\n",
    "bn_net.apply(init_weights)\n",
    "optimizer = torch.optim.Adam(bn_net.parameters(), lr=learning_rate)\n",
    "\n",
    "for epoch in range(num_epochs):\n",
    "    order = np.random.permutation(len(X_train_tensor))\n",
    "    optimizer.zero_grad()\n",
    "    \n",
    "    for batch_i in range(num_batches):\n",
    "        \n",
    "        start_index = batch_i * batch_size\n",
    "        batch_indexes = order[start_index:start_index+batch_size]\n",
    "        X_batch = X_train_tensor[batch_indexes]\n",
    "        y_batch = y_train_tensor[batch_indexes]\n",
    "        \n",
    "        preds = bn_net.forward(X_batch).flatten()\n",
    "        loss_value = loss(preds, y_batch)\n",
    "        loss_value.backward()\n",
    "        \n",
    "        if ((batch_i+1) % accumulation_iteration == 0) or (batch_i+1 == num_batches):\n",
    "            optimizer.step()\n",
    "            optimizer.zero_grad()\n",
    "        if epoch % 100 == 0 or epoch == num_epochs-1:\n",
    "            bn_net.eval()\n",
    "            test_preds = bn_net.forward(X_test_tensor).flatten()\n",
    "            mse = (torch.sum((y_test_tensor - test_preds)**2)/len(test_preds)).data\n",
    "            rmse = np.sqrt(mse)\n",
    "            print(f'Эпоха: {epoch}, Loss: {loss_value}, RMSE: {rmse}')"
   ]
  },
  {
   "cell_type": "code",
   "execution_count": 35,
   "id": "4b76cc14",
   "metadata": {},
   "outputs": [
    {
     "data": {
      "image/png": "[encoded data removed]",
      "text/plain": [
       "<Figure size 720x576 with 1 Axes>"
      ]
     },
     "metadata": {
      "needs_background": "light"
     },
     "output_type": "display_data"
    }
   ],
   "source": [
    "build_graphic()"
   ]
  },
  {
   "cell_type": "markdown",
   "id": "9340738b",
   "metadata": {},
   "source": [
    "### Вывод"
   ]
  },
  {
   "cell_type": "markdown",
   "id": "e97fc42b",
   "metadata": {},
   "source": [
    "Лучшее значение метрики RMSE на тестовой выборке - **3713.**<br>\n",
    "Batch Normalization значительно улучшает сходимость обучения. А также при изменении гиперпараметров нейросеть давала более стабильные результаты, чем в других версиях."
   ]
  },
  {
   "cell_type": "markdown",
   "id": "efe6c2f0",
   "metadata": {},
   "source": [
    "### Dropout"
   ]
  },
  {
   "cell_type": "code",
   "execution_count": 36,
   "id": "9e69cefe",
   "metadata": {},
   "outputs": [],
   "source": [
    "class DP_Net(nn.Module):\n",
    "    def __init__(self, n_in_neurons, n_hidden_neurons_1, n_hidden_neurons_2, n_out_neurons):\n",
    "        super(DP_Net, self).__init__()\n",
    "        self.layer1 = nn.Linear(n_in_neurons, n_hidden_neurons_1)\n",
    "        self.dp1 = nn.Dropout(p=0.8)\n",
    "        self.layer2 = nn.Linear(n_hidden_neurons_1, n_hidden_neurons_2)\n",
    "        self.dp2 = nn.Dropout(p=0.8)\n",
    "        self.layer3 = nn.Linear(n_hidden_neurons_2, n_out_neurons)\n",
    "        \n",
    "    def forward(self, x):\n",
    "        x = self.layer1(x)\n",
    "        x = nn.functional.leaky_relu(x)\n",
    "        x = self.dp1(x)\n",
    "        x = self.layer2(x)\n",
    "        x = self.dp2(x)\n",
    "        x = nn.functional.leaky_relu(x)\n",
    "        x = self.layer3(x)\n",
    "        x = linear(x)\n",
    "        \n",
    "        return x"
   ]
  },
  {
   "cell_type": "code",
   "execution_count": 37,
   "id": "7c178845",
   "metadata": {},
   "outputs": [
    {
     "name": "stdout",
     "output_type": "stream",
     "text": [
      "Эпоха: 0, Loss: 187692320.0, RMSE: 12411.4794921875\n",
      "Эпоха: 0, Loss: 211191808.0, RMSE: 12411.4462890625\n",
      "Эпоха: 100, Loss: 189954576.0, RMSE: 12408.81640625\n",
      "Эпоха: 100, Loss: 207182912.0, RMSE: 12408.7607421875\n",
      "Эпоха: 200, Loss: 184318320.0, RMSE: 12392.1533203125\n",
      "Эпоха: 200, Loss: 214890960.0, RMSE: 12391.8310546875\n",
      "Эпоха: 300, Loss: 219957984.0, RMSE: 12337.4560546875\n",
      "Эпоха: 300, Loss: 149957696.0, RMSE: 12336.65234375\n",
      "Эпоха: 400, Loss: 189969424.0, RMSE: 12224.8046875\n",
      "Эпоха: 400, Loss: 188644576.0, RMSE: 12223.3359375\n",
      "Эпоха: 500, Loss: 165514080.0, RMSE: 12038.861328125\n",
      "Эпоха: 500, Loss: 211114496.0, RMSE: 12036.583984375\n",
      "Эпоха: 600, Loss: 177712704.0, RMSE: 11769.4130859375\n",
      "Эпоха: 600, Loss: 165052784.0, RMSE: 11766.296875\n",
      "Эпоха: 700, Loss: 195162928.0, RMSE: 11416.853515625\n",
      "Эпоха: 700, Loss: 103829552.0, RMSE: 11412.9453125\n",
      "Эпоха: 800, Loss: 144131856.0, RMSE: 10985.068359375\n",
      "Эпоха: 800, Loss: 151763856.0, RMSE: 10980.3525390625\n",
      "Эпоха: 900, Loss: 147376528.0, RMSE: 10486.3447265625\n",
      "Эпоха: 900, Loss: 106647976.0, RMSE: 10481.095703125\n",
      "Эпоха: 1000, Loss: 121475960.0, RMSE: 9941.78125\n",
      "Эпоха: 1000, Loss: 110606664.0, RMSE: 9936.1318359375\n",
      "Эпоха: 1100, Loss: 90158736.0, RMSE: 9364.84765625\n",
      "Эпоха: 1100, Loss: 125982192.0, RMSE: 9358.98046875\n",
      "Эпоха: 1200, Loss: 73802360.0, RMSE: 8782.1318359375\n",
      "Эпоха: 1200, Loss: 120470880.0, RMSE: 8776.34765625\n",
      "Эпоха: 1300, Loss: 81407944.0, RMSE: 8214.12890625\n",
      "Эпоха: 1300, Loss: 79323912.0, RMSE: 8208.5556640625\n",
      "Эпоха: 1400, Loss: 62474556.0, RMSE: 7674.8291015625\n",
      "Эпоха: 1400, Loss: 86729480.0, RMSE: 7669.623046875\n",
      "Эпоха: 1500, Loss: 67266896.0, RMSE: 7179.8076171875\n",
      "Эпоха: 1500, Loss: 58807952.0, RMSE: 7175.08837890625\n",
      "Эпоха: 1600, Loss: 43297260.0, RMSE: 6727.9609375\n",
      "Эпоха: 1600, Loss: 82163248.0, RMSE: 6723.52490234375\n",
      "Эпоха: 1700, Loss: 57142656.0, RMSE: 6319.51318359375\n",
      "Эпоха: 1700, Loss: 45131816.0, RMSE: 6315.75341796875\n",
      "Эпоха: 1800, Loss: 45294460.0, RMSE: 5970.33642578125\n",
      "Эпоха: 1800, Loss: 53525836.0, RMSE: 5967.0302734375\n",
      "Эпоха: 1900, Loss: 40584592.0, RMSE: 5667.82763671875\n",
      "Эпоха: 1900, Loss: 51831720.0, RMSE: 5665.05810546875\n",
      "Эпоха: 2000, Loss: 44600068.0, RMSE: 5418.31201171875\n",
      "Эпоха: 2000, Loss: 37240356.0, RMSE: 5416.0771484375\n",
      "Эпоха: 2100, Loss: 38704876.0, RMSE: 5217.12353515625\n",
      "Эпоха: 2100, Loss: 40553052.0, RMSE: 5215.31005859375\n",
      "Эпоха: 2200, Loss: 33435284.0, RMSE: 5059.6884765625\n",
      "Эпоха: 2200, Loss: 43953464.0, RMSE: 5058.2978515625\n",
      "Эпоха: 2300, Loss: 33961972.0, RMSE: 4942.11474609375\n",
      "Эпоха: 2300, Loss: 38689836.0, RMSE: 4941.0888671875\n",
      "Эпоха: 2400, Loss: 33780192.0, RMSE: 4853.0244140625\n",
      "Эпоха: 2400, Loss: 35314448.0, RMSE: 4852.25341796875\n",
      "Эпоха: 2500, Loss: 30998334.0, RMSE: 4787.38623046875\n",
      "Эпоха: 2500, Loss: 36852132.0, RMSE: 4786.8203125\n",
      "Эпоха: 2600, Loss: 32926622.0, RMSE: 4739.537109375\n",
      "Эпоха: 2600, Loss: 30975340.0, RMSE: 4739.12548828125\n",
      "Эпоха: 2700, Loss: 32262190.0, RMSE: 4705.3818359375\n",
      "Эпоха: 2700, Loss: 29825726.0, RMSE: 4705.11181640625\n",
      "Эпоха: 2800, Loss: 28376158.0, RMSE: 4680.6875\n",
      "Эпоха: 2800, Loss: 34335740.0, RMSE: 4680.49609375\n",
      "Эпоха: 2900, Loss: 24750028.0, RMSE: 4662.90087890625\n",
      "Эпоха: 2900, Loss: 38628224.0, RMSE: 4662.736328125\n",
      "Эпоха: 3000, Loss: 27123376.0, RMSE: 4649.50927734375\n",
      "Эпоха: 3000, Loss: 33143200.0, RMSE: 4649.38525390625\n",
      "Эпоха: 3100, Loss: 24776034.0, RMSE: 4637.50830078125\n",
      "Эпоха: 3100, Loss: 35692528.0, RMSE: 4637.42724609375\n",
      "Эпоха: 3200, Loss: 28795462.0, RMSE: 4629.45751953125\n",
      "Эпоха: 3200, Loss: 27758668.0, RMSE: 4629.3984375\n",
      "Эпоха: 3300, Loss: 25616322.0, RMSE: 4621.25927734375\n",
      "Эпоха: 3300, Loss: 31955460.0, RMSE: 4621.2060546875\n",
      "Эпоха: 3400, Loss: 26770352.0, RMSE: 4614.26171875\n",
      "Эпоха: 3400, Loss: 29027602.0, RMSE: 4614.20263671875\n",
      "Эпоха: 3500, Loss: 25418102.0, RMSE: 4607.134765625\n",
      "Эпоха: 3500, Loss: 30379230.0, RMSE: 4607.11083984375\n",
      "Эпоха: 3600, Loss: 32210150.0, RMSE: 4603.1376953125\n",
      "Эпоха: 3600, Loss: 18235752.0, RMSE: 4603.03515625\n",
      "Эпоха: 3700, Loss: 33433426.0, RMSE: 4595.39111328125\n",
      "Эпоха: 3700, Loss: 15459203.0, RMSE: 4595.2841796875\n",
      "Эпоха: 3800, Loss: 26459966.0, RMSE: 4590.1962890625\n",
      "Эпоха: 3800, Loss: 26409866.0, RMSE: 4590.18017578125\n",
      "Эпоха: 3900, Loss: 29189352.0, RMSE: 4589.888671875\n",
      "Эпоха: 3900, Loss: 21245514.0, RMSE: 4589.7998046875\n",
      "Эпоха: 4000, Loss: 24105236.0, RMSE: 4586.87646484375\n",
      "Эпоха: 4000, Loss: 29170998.0, RMSE: 4586.9072265625\n",
      "Эпоха: 4100, Loss: 19554778.0, RMSE: 4584.18310546875\n",
      "Эпоха: 4100, Loss: 36252140.0, RMSE: 4584.3115234375\n",
      "Эпоха: 4200, Loss: 29295384.0, RMSE: 4582.01416015625\n",
      "Эпоха: 4200, Loss: 19564202.0, RMSE: 4581.943359375\n",
      "Эпоха: 4300, Loss: 26480308.0, RMSE: 4580.22412109375\n",
      "Эпоха: 4300, Loss: 23854994.0, RMSE: 4580.2021484375\n",
      "Эпоха: 4400, Loss: 26149964.0, RMSE: 4575.5869140625\n",
      "Эпоха: 4400, Loss: 24041148.0, RMSE: 4575.5087890625\n",
      "Эпоха: 4500, Loss: 26604570.0, RMSE: 4568.8359375\n",
      "Эпоха: 4500, Loss: 22950108.0, RMSE: 4568.833984375\n",
      "Эпоха: 4600, Loss: 28943354.0, RMSE: 4568.8955078125\n",
      "Эпоха: 4600, Loss: 18759480.0, RMSE: 4568.974609375\n",
      "Эпоха: 4700, Loss: 23641800.0, RMSE: 4561.322265625\n",
      "Эпоха: 4700, Loss: 27339496.0, RMSE: 4561.216796875\n",
      "Эпоха: 4800, Loss: 28502248.0, RMSE: 4565.35302734375\n",
      "Эпоха: 4800, Loss: 19004922.0, RMSE: 4565.30078125\n",
      "Эпоха: 4900, Loss: 24568348.0, RMSE: 4560.72314453125\n",
      "Эпоха: 4900, Loss: 25357728.0, RMSE: 4560.78369140625\n",
      "Эпоха: 5000, Loss: 26309242.0, RMSE: 4553.099609375\n",
      "Эпоха: 5000, Loss: 22272392.0, RMSE: 4552.8349609375\n",
      "Эпоха: 5100, Loss: 24504284.0, RMSE: 4546.28515625\n",
      "Эпоха: 5100, Loss: 25119262.0, RMSE: 4546.1552734375\n",
      "Эпоха: 5200, Loss: 24430930.0, RMSE: 4545.0859375\n",
      "Эпоха: 5200, Loss: 25097938.0, RMSE: 4545.03564453125\n",
      "Эпоха: 5300, Loss: 23896092.0, RMSE: 4540.859375\n",
      "Эпоха: 5300, Loss: 25856260.0, RMSE: 4540.98193359375\n",
      "Эпоха: 5400, Loss: 26416914.0, RMSE: 4541.77001953125\n",
      "Эпоха: 5400, Loss: 21532664.0, RMSE: 4541.68115234375\n",
      "Эпоха: 5500, Loss: 26048318.0, RMSE: 4531.37548828125\n",
      "Эпоха: 5500, Loss: 22039068.0, RMSE: 4531.3408203125\n",
      "Эпоха: 5600, Loss: 25560814.0, RMSE: 4530.8798828125\n",
      "Эпоха: 5600, Loss: 22749966.0, RMSE: 4530.85400390625\n",
      "Эпоха: 5700, Loss: 26587912.0, RMSE: 4524.169921875\n",
      "Эпоха: 5700, Loss: 20944882.0, RMSE: 4523.91357421875\n",
      "Эпоха: 5800, Loss: 29081264.0, RMSE: 4517.8525390625\n",
      "Эпоха: 5800, Loss: 16699689.0, RMSE: 4517.4599609375\n",
      "Эпоха: 5900, Loss: 23352620.0, RMSE: 4508.59130859375\n",
      "Эпоха: 5900, Loss: 26163634.0, RMSE: 4508.6826171875\n",
      "Эпоха: 5999, Loss: 24513206.0, RMSE: 4503.78564453125\n",
      "Эпоха: 5999, Loss: 24147776.0, RMSE: 4503.76025390625\n"
     ]
    }
   ],
   "source": [
    "dp_net = DP_Net(n_in_neurons, n_hidden_neurons_1, n_hidden_neurons_2, n_out_neurons)\n",
    "dp_net.apply(init_weights)\n",
    "optimizer = torch.optim.Adam(dp_net.parameters(), lr=learning_rate)\n",
    "\n",
    "for epoch in range(num_epochs):\n",
    "    \n",
    "    order = np.random.permutation(len(X_train_tensor))\n",
    "    optimizer.zero_grad()\n",
    "    \n",
    "    for batch_i in range(num_batches):\n",
    "        \n",
    "        start_index = batch_i * batch_size\n",
    "        batch_indexes = order[start_index:start_index+batch_size]\n",
    "        X_batch = X_train_tensor[batch_indexes]\n",
    "        y_batch = y_train_tensor[batch_indexes]\n",
    "        \n",
    "        preds = dp_net.forward(X_batch).flatten()\n",
    "        loss_value = loss(preds, y_batch)\n",
    "        loss_value.backward()\n",
    "        \n",
    "        if ((batch_i+1) % accumulation_iteration == 0) or (batch_i+1 == num_batches):\n",
    "            optimizer.step()\n",
    "            optimizer.zero_grad()\n",
    "        if epoch % 100 == 0 or epoch == num_epochs-1:\n",
    "            dp_net.eval()\n",
    "            test_preds = dp_net.forward(X_test_tensor).flatten()\n",
    "            mse = (torch.sum((y_test_tensor - test_preds)**2)/len(test_preds)).data\n",
    "            rmse = np.sqrt(mse)\n",
    "            print(f'Эпоха: {epoch}, Loss: {loss_value}, RMSE: {rmse}')"
   ]
  },
  {
   "cell_type": "code",
   "execution_count": 38,
   "id": "699eb00f",
   "metadata": {},
   "outputs": [
    {
     "data": {
      "image/png": "[encoded data removed]",
      "text/plain": [
       "<Figure size 720x576 with 1 Axes>"
      ]
     },
     "metadata": {
      "needs_background": "light"
     },
     "output_type": "display_data"
    }
   ],
   "source": [
    "build_graphic()"
   ]
  },
  {
   "cell_type": "markdown",
   "id": "10bb41e8",
   "metadata": {},
   "source": [
    "Лучшее значение метрики RMSE на тестовой выборке - **3901**. Было достигнуто на 3000-й эпохе, после чего метрика начала падать. Однако, при каждом новом запуске результаты значительно отличаются. Этот вариант выглядит самым нестабильным из всех."
   ]
  },
  {
   "cell_type": "markdown",
   "id": "accurate-infrastructure",
   "metadata": {},
   "source": [
    "## Выводы"
   ]
  },
  {
   "cell_type": "markdown",
   "id": "7e719cae",
   "metadata": {},
   "source": [
    "В целом, все 3 модели хорошо справляются с поставленной задачей. Базовая модель обучается медленно, но стабильно, и по ней легче отследить процесс обучения. BatchNorm работает быстрее, использование этой техники кажется предпочтительным. Dropout сильно зависит от изменения гиперпараметров и, есть ощущение, что для конкретно этой задачи не очень подходит."
   ]
  }
 ],
 "metadata": {
  "ExecuteTimeLog": [
   {
    "duration": 433,
    "start_time": "2023-03-20T06:43:15.180Z"
   },
   {
    "duration": 86,
    "start_time": "2023-03-20T06:43:39.394Z"
   },
   {
    "duration": 62,
    "start_time": "2023-03-20T06:44:33.008Z"
   },
   {
    "duration": 5,
    "start_time": "2023-03-20T06:45:25.769Z"
   },
   {
    "duration": 30,
    "start_time": "2023-03-20T06:46:23.934Z"
   },
   {
    "duration": 10,
    "start_time": "2023-03-20T06:47:09.429Z"
   },
   {
    "duration": 3,
    "start_time": "2023-03-20T06:50:22.202Z"
   },
   {
    "duration": 5,
    "start_time": "2023-03-20T06:50:38.024Z"
   },
   {
    "duration": 862,
    "start_time": "2023-03-20T06:51:36.331Z"
   },
   {
    "duration": 2,
    "start_time": "2023-03-20T06:51:51.621Z"
   },
   {
    "duration": 138,
    "start_time": "2023-03-20T06:51:53.879Z"
   },
   {
    "duration": 3,
    "start_time": "2023-03-20T06:52:11.009Z"
   },
   {
    "duration": 124,
    "start_time": "2023-03-20T06:52:13.333Z"
   },
   {
    "duration": 3,
    "start_time": "2023-03-20T06:52:49.495Z"
   },
   {
    "duration": 119,
    "start_time": "2023-03-20T06:52:50.340Z"
   },
   {
    "duration": 4,
    "start_time": "2023-03-20T06:53:09.236Z"
   },
   {
    "duration": 184,
    "start_time": "2023-03-20T06:53:09.986Z"
   },
   {
    "duration": 2,
    "start_time": "2023-03-20T06:53:27.125Z"
   },
   {
    "duration": 3,
    "start_time": "2023-03-20T06:53:30.587Z"
   },
   {
    "duration": 128,
    "start_time": "2023-03-20T06:53:31.480Z"
   },
   {
    "duration": 3,
    "start_time": "2023-03-20T06:56:59.205Z"
   },
   {
    "duration": 143,
    "start_time": "2023-03-20T06:57:00.144Z"
   },
   {
    "duration": 4,
    "start_time": "2023-03-20T06:57:21.998Z"
   },
   {
    "duration": 159,
    "start_time": "2023-03-20T06:57:22.843Z"
   },
   {
    "duration": 4,
    "start_time": "2023-03-20T06:57:47.765Z"
   },
   {
    "duration": 202,
    "start_time": "2023-03-20T06:57:48.595Z"
   },
   {
    "duration": 3,
    "start_time": "2023-03-20T06:59:30.932Z"
   },
   {
    "duration": 172,
    "start_time": "2023-03-20T06:59:31.777Z"
   },
   {
    "duration": 3,
    "start_time": "2023-03-20T07:04:44.445Z"
   },
   {
    "duration": 175,
    "start_time": "2023-03-20T07:04:45.350Z"
   },
   {
    "duration": 3,
    "start_time": "2023-03-20T07:05:24.918Z"
   },
   {
    "duration": 168,
    "start_time": "2023-03-20T07:05:25.738Z"
   },
   {
    "duration": 4,
    "start_time": "2023-03-20T07:06:46.570Z"
   },
   {
    "duration": 157,
    "start_time": "2023-03-20T07:06:47.426Z"
   },
   {
    "duration": 4,
    "start_time": "2023-03-20T07:07:10.601Z"
   },
   {
    "duration": 201,
    "start_time": "2023-03-20T07:07:12.886Z"
   },
   {
    "duration": 3,
    "start_time": "2023-03-20T07:07:24.380Z"
   },
   {
    "duration": 191,
    "start_time": "2023-03-20T07:07:25.472Z"
   },
   {
    "duration": 4,
    "start_time": "2023-03-20T07:08:13.532Z"
   },
   {
    "duration": 187,
    "start_time": "2023-03-20T07:08:14.342Z"
   },
   {
    "duration": 4,
    "start_time": "2023-03-20T07:08:28.822Z"
   },
   {
    "duration": 183,
    "start_time": "2023-03-20T07:08:29.775Z"
   },
   {
    "duration": 4,
    "start_time": "2023-03-20T07:09:03.498Z"
   },
   {
    "duration": 277,
    "start_time": "2023-03-20T07:09:04.534Z"
   },
   {
    "duration": 4,
    "start_time": "2023-03-20T07:11:10.618Z"
   },
   {
    "duration": 6,
    "start_time": "2023-03-20T07:11:13.778Z"
   },
   {
    "duration": 305,
    "start_time": "2023-03-20T07:11:14.547Z"
   },
   {
    "duration": 5,
    "start_time": "2023-03-20T07:11:43.445Z"
   },
   {
    "duration": 311,
    "start_time": "2023-03-20T07:11:45.228Z"
   },
   {
    "duration": 5,
    "start_time": "2023-03-20T07:16:41.174Z"
   },
   {
    "duration": 229,
    "start_time": "2023-03-20T07:16:42.071Z"
   },
   {
    "duration": 8,
    "start_time": "2023-03-20T07:17:05.920Z"
   },
   {
    "duration": 266,
    "start_time": "2023-03-20T07:17:06.754Z"
   },
   {
    "duration": 4,
    "start_time": "2023-03-20T07:17:51.047Z"
   },
   {
    "duration": 202,
    "start_time": "2023-03-20T07:17:51.910Z"
   },
   {
    "duration": 4,
    "start_time": "2023-03-20T07:18:04.804Z"
   },
   {
    "duration": 235,
    "start_time": "2023-03-20T07:18:06.047Z"
   },
   {
    "duration": 4,
    "start_time": "2023-03-20T07:18:24.242Z"
   },
   {
    "duration": 192,
    "start_time": "2023-03-20T07:18:25.255Z"
   },
   {
    "duration": 4,
    "start_time": "2023-03-20T07:18:37.683Z"
   },
   {
    "duration": 209,
    "start_time": "2023-03-20T07:18:38.654Z"
   },
   {
    "duration": 4,
    "start_time": "2023-03-20T07:18:51.830Z"
   },
   {
    "duration": 188,
    "start_time": "2023-03-20T07:18:52.610Z"
   },
   {
    "duration": 4,
    "start_time": "2023-03-20T07:19:02.403Z"
   },
   {
    "duration": 208,
    "start_time": "2023-03-20T07:19:03.204Z"
   },
   {
    "duration": 4,
    "start_time": "2023-03-20T07:19:15.290Z"
   },
   {
    "duration": 212,
    "start_time": "2023-03-20T07:19:16.171Z"
   },
   {
    "duration": 4,
    "start_time": "2023-03-20T07:19:27.874Z"
   },
   {
    "duration": 297,
    "start_time": "2023-03-20T07:19:28.564Z"
   },
   {
    "duration": 4,
    "start_time": "2023-03-20T07:19:42.394Z"
   },
   {
    "duration": 214,
    "start_time": "2023-03-20T07:19:43.160Z"
   },
   {
    "duration": 4,
    "start_time": "2023-03-20T07:19:54.105Z"
   },
   {
    "duration": 214,
    "start_time": "2023-03-20T07:19:54.834Z"
   },
   {
    "duration": 4,
    "start_time": "2023-03-20T07:20:04.361Z"
   },
   {
    "duration": 226,
    "start_time": "2023-03-20T07:20:05.069Z"
   },
   {
    "duration": 5,
    "start_time": "2023-03-20T07:20:30.936Z"
   },
   {
    "duration": 236,
    "start_time": "2023-03-20T07:20:31.560Z"
   },
   {
    "duration": 4,
    "start_time": "2023-03-20T07:20:45.445Z"
   },
   {
    "duration": 288,
    "start_time": "2023-03-20T07:20:46.076Z"
   },
   {
    "duration": 4,
    "start_time": "2023-03-20T07:21:01.024Z"
   },
   {
    "duration": 229,
    "start_time": "2023-03-20T07:21:01.618Z"
   },
   {
    "duration": 4,
    "start_time": "2023-03-20T07:21:13.196Z"
   },
   {
    "duration": 238,
    "start_time": "2023-03-20T07:21:13.813Z"
   },
   {
    "duration": 4,
    "start_time": "2023-03-20T07:21:24.735Z"
   },
   {
    "duration": 211,
    "start_time": "2023-03-20T07:21:25.396Z"
   },
   {
    "duration": 4,
    "start_time": "2023-03-20T07:21:38.627Z"
   },
   {
    "duration": 224,
    "start_time": "2023-03-20T07:21:39.393Z"
   },
   {
    "duration": 4,
    "start_time": "2023-03-20T07:21:53.401Z"
   },
   {
    "duration": 217,
    "start_time": "2023-03-20T07:21:54.528Z"
   },
   {
    "duration": 4,
    "start_time": "2023-03-20T07:22:06.134Z"
   },
   {
    "duration": 307,
    "start_time": "2023-03-20T07:22:06.872Z"
   },
   {
    "duration": 4,
    "start_time": "2023-03-20T07:22:20.650Z"
   },
   {
    "duration": 226,
    "start_time": "2023-03-20T07:22:21.364Z"
   },
   {
    "duration": 4,
    "start_time": "2023-03-20T07:22:32.440Z"
   },
   {
    "duration": 208,
    "start_time": "2023-03-20T07:22:33.235Z"
   },
   {
    "duration": 4,
    "start_time": "2023-03-20T07:22:44.100Z"
   },
   {
    "duration": 252,
    "start_time": "2023-03-20T07:22:45.081Z"
   },
   {
    "duration": 4,
    "start_time": "2023-03-20T07:22:56.780Z"
   },
   {
    "duration": 212,
    "start_time": "2023-03-20T07:22:57.602Z"
   },
   {
    "duration": 5,
    "start_time": "2023-03-20T07:23:08.460Z"
   },
   {
    "duration": 338,
    "start_time": "2023-03-20T07:23:09.201Z"
   },
   {
    "duration": 5,
    "start_time": "2023-03-20T07:23:19.297Z"
   },
   {
    "duration": 245,
    "start_time": "2023-03-20T07:23:19.940Z"
   },
   {
    "duration": 4,
    "start_time": "2023-03-20T07:23:32.096Z"
   },
   {
    "duration": 253,
    "start_time": "2023-03-20T07:23:32.777Z"
   },
   {
    "duration": 6,
    "start_time": "2023-03-20T07:23:44.672Z"
   },
   {
    "duration": 269,
    "start_time": "2023-03-20T07:23:45.504Z"
   },
   {
    "duration": 6,
    "start_time": "2023-03-20T07:23:56.806Z"
   },
   {
    "duration": 271,
    "start_time": "2023-03-20T07:23:57.650Z"
   },
   {
    "duration": 5,
    "start_time": "2023-03-20T07:24:10.725Z"
   },
   {
    "duration": 257,
    "start_time": "2023-03-20T07:24:11.470Z"
   },
   {
    "duration": 4,
    "start_time": "2023-03-20T07:24:29.047Z"
   },
   {
    "duration": 293,
    "start_time": "2023-03-20T07:24:29.641Z"
   },
   {
    "duration": 4,
    "start_time": "2023-03-20T07:24:43.479Z"
   },
   {
    "duration": 240,
    "start_time": "2023-03-20T07:24:44.201Z"
   },
   {
    "duration": 5,
    "start_time": "2023-03-20T07:24:56.618Z"
   },
   {
    "duration": 218,
    "start_time": "2023-03-20T07:24:57.353Z"
   },
   {
    "duration": 4,
    "start_time": "2023-03-20T07:25:15.131Z"
   },
   {
    "duration": 304,
    "start_time": "2023-03-20T07:25:15.776Z"
   },
   {
    "duration": 4,
    "start_time": "2023-03-20T07:25:26.863Z"
   },
   {
    "duration": 250,
    "start_time": "2023-03-20T07:25:27.434Z"
   },
   {
    "duration": 5,
    "start_time": "2023-03-20T07:25:50.753Z"
   },
   {
    "duration": 241,
    "start_time": "2023-03-20T07:25:51.512Z"
   },
   {
    "duration": 6,
    "start_time": "2023-03-20T07:26:02.864Z"
   },
   {
    "duration": 221,
    "start_time": "2023-03-20T07:26:03.500Z"
   },
   {
    "duration": 4,
    "start_time": "2023-03-20T07:26:10.844Z"
   },
   {
    "duration": 224,
    "start_time": "2023-03-20T07:26:11.498Z"
   },
   {
    "duration": 1118,
    "start_time": "2023-03-20T07:26:53.841Z"
   },
   {
    "duration": 36,
    "start_time": "2023-03-20T07:26:54.961Z"
   },
   {
    "duration": 11,
    "start_time": "2023-03-20T07:26:54.998Z"
   },
   {
    "duration": 6,
    "start_time": "2023-03-20T07:26:55.010Z"
   },
   {
    "duration": 233,
    "start_time": "2023-03-20T07:26:55.018Z"
   },
   {
    "duration": 5,
    "start_time": "2023-03-20T07:29:00.606Z"
   },
   {
    "duration": 214,
    "start_time": "2023-03-20T07:29:01.405Z"
   },
   {
    "duration": 5,
    "start_time": "2023-03-20T07:29:19.393Z"
   },
   {
    "duration": 254,
    "start_time": "2023-03-20T07:29:20.208Z"
   },
   {
    "duration": 4,
    "start_time": "2023-03-20T07:29:38.247Z"
   },
   {
    "duration": 220,
    "start_time": "2023-03-20T07:29:38.836Z"
   },
   {
    "duration": 4,
    "start_time": "2023-03-20T07:30:52.318Z"
   },
   {
    "duration": 257,
    "start_time": "2023-03-20T07:30:53.152Z"
   },
   {
    "duration": 5,
    "start_time": "2023-03-20T07:35:23.087Z"
   },
   {
    "duration": 251,
    "start_time": "2023-03-20T07:35:23.815Z"
   },
   {
    "duration": 4,
    "start_time": "2023-03-20T07:35:36.449Z"
   },
   {
    "duration": 189,
    "start_time": "2023-03-20T07:35:37.103Z"
   },
   {
    "duration": 4,
    "start_time": "2023-03-20T07:36:19.994Z"
   },
   {
    "duration": 296,
    "start_time": "2023-03-20T07:36:20.842Z"
   },
   {
    "duration": 4,
    "start_time": "2023-03-20T07:36:42.816Z"
   },
   {
    "duration": 223,
    "start_time": "2023-03-20T07:36:44.422Z"
   },
   {
    "duration": 4,
    "start_time": "2023-03-20T07:36:54.324Z"
   },
   {
    "duration": 211,
    "start_time": "2023-03-20T07:36:55.465Z"
   },
   {
    "duration": 10,
    "start_time": "2023-03-20T07:37:13.377Z"
   },
   {
    "duration": 487,
    "start_time": "2023-03-20T07:37:14.150Z"
   },
   {
    "duration": 5,
    "start_time": "2023-03-20T07:37:22.967Z"
   },
   {
    "duration": 246,
    "start_time": "2023-03-20T07:37:23.853Z"
   },
   {
    "duration": 4,
    "start_time": "2023-03-20T07:37:33.293Z"
   },
   {
    "duration": 262,
    "start_time": "2023-03-20T07:37:34.368Z"
   },
   {
    "duration": 3,
    "start_time": "2023-03-20T07:37:41.962Z"
   },
   {
    "duration": 263,
    "start_time": "2023-03-20T07:37:42.856Z"
   },
   {
    "duration": 4,
    "start_time": "2023-03-20T07:37:50.193Z"
   },
   {
    "duration": 261,
    "start_time": "2023-03-20T07:37:50.923Z"
   },
   {
    "duration": 6,
    "start_time": "2023-03-20T07:38:00.445Z"
   },
   {
    "duration": 220,
    "start_time": "2023-03-20T07:38:01.142Z"
   },
   {
    "duration": 3,
    "start_time": "2023-03-20T07:38:10.823Z"
   },
   {
    "duration": 223,
    "start_time": "2023-03-20T07:38:11.495Z"
   },
   {
    "duration": 7,
    "start_time": "2023-03-20T07:40:27.777Z"
   },
   {
    "duration": 888,
    "start_time": "2023-03-20T07:40:48.573Z"
   },
   {
    "duration": 6,
    "start_time": "2023-03-20T07:52:45.262Z"
   },
   {
    "duration": 5,
    "start_time": "2023-03-20T07:52:52.357Z"
   },
   {
    "duration": 101,
    "start_time": "2023-03-20T07:52:58.988Z"
   },
   {
    "duration": 5,
    "start_time": "2023-03-20T07:53:03.453Z"
   },
   {
    "duration": 5,
    "start_time": "2023-03-20T07:56:19.986Z"
   },
   {
    "duration": 3,
    "start_time": "2023-03-20T07:56:37.042Z"
   },
   {
    "duration": 261,
    "start_time": "2023-03-20T07:56:54.110Z"
   },
   {
    "duration": 4,
    "start_time": "2023-03-20T07:57:29.008Z"
   },
   {
    "duration": 2,
    "start_time": "2023-03-20T07:57:29.487Z"
   },
   {
    "duration": 682,
    "start_time": "2023-03-20T07:57:29.931Z"
   },
   {
    "duration": 4,
    "start_time": "2023-03-20T07:57:57.094Z"
   },
   {
    "duration": 2,
    "start_time": "2023-03-20T07:57:57.615Z"
   },
   {
    "duration": 860,
    "start_time": "2023-03-20T07:57:58.025Z"
   },
   {
    "duration": 7,
    "start_time": "2023-03-20T07:58:17.843Z"
   },
   {
    "duration": 3,
    "start_time": "2023-03-20T07:58:18.248Z"
   },
   {
    "duration": 859,
    "start_time": "2023-03-20T07:58:18.629Z"
   },
   {
    "duration": 5,
    "start_time": "2023-03-20T07:58:34.042Z"
   },
   {
    "duration": 3,
    "start_time": "2023-03-20T07:58:34.438Z"
   },
   {
    "duration": 1051,
    "start_time": "2023-03-20T07:58:35.525Z"
   },
   {
    "duration": 4,
    "start_time": "2023-03-20T07:59:28.601Z"
   },
   {
    "duration": 2,
    "start_time": "2023-03-20T07:59:29.101Z"
   },
   {
    "duration": 460,
    "start_time": "2023-03-20T07:59:30.119Z"
   },
   {
    "duration": 4,
    "start_time": "2023-03-20T08:01:48.318Z"
   },
   {
    "duration": 3,
    "start_time": "2023-03-20T08:01:48.757Z"
   },
   {
    "duration": 721,
    "start_time": "2023-03-20T08:01:49.411Z"
   },
   {
    "duration": 4,
    "start_time": "2023-03-20T08:02:17.457Z"
   },
   {
    "duration": 3,
    "start_time": "2023-03-20T08:02:17.951Z"
   },
   {
    "duration": 112,
    "start_time": "2023-03-20T08:02:18.373Z"
   },
   {
    "duration": 4,
    "start_time": "2023-03-20T08:02:33.227Z"
   },
   {
    "duration": 2,
    "start_time": "2023-03-20T08:02:33.567Z"
   },
   {
    "duration": 104,
    "start_time": "2023-03-20T08:02:33.877Z"
   },
   {
    "duration": 6,
    "start_time": "2023-03-20T08:03:36.004Z"
   },
   {
    "duration": 2,
    "start_time": "2023-03-20T08:03:36.362Z"
   },
   {
    "duration": 188,
    "start_time": "2023-03-20T08:03:36.682Z"
   },
   {
    "duration": 5,
    "start_time": "2023-03-20T08:03:50.502Z"
   },
   {
    "duration": 3,
    "start_time": "2023-03-20T08:03:51.207Z"
   },
   {
    "duration": 534,
    "start_time": "2023-03-20T08:03:51.923Z"
   },
   {
    "duration": 4,
    "start_time": "2023-03-20T08:04:16.926Z"
   },
   {
    "duration": 3,
    "start_time": "2023-03-20T08:04:17.296Z"
   },
   {
    "duration": 506,
    "start_time": "2023-03-20T08:04:17.702Z"
   },
   {
    "duration": 4,
    "start_time": "2023-03-20T08:05:35.001Z"
   },
   {
    "duration": 2,
    "start_time": "2023-03-20T08:05:35.419Z"
   },
   {
    "duration": 473,
    "start_time": "2023-03-20T08:05:35.787Z"
   },
   {
    "duration": 4,
    "start_time": "2023-03-20T08:05:57.703Z"
   },
   {
    "duration": 3,
    "start_time": "2023-03-20T08:05:58.165Z"
   },
   {
    "duration": 353,
    "start_time": "2023-03-20T08:05:58.781Z"
   },
   {
    "duration": 5,
    "start_time": "2023-03-20T08:08:10.473Z"
   },
   {
    "duration": 4,
    "start_time": "2023-03-20T08:08:58.615Z"
   },
   {
    "duration": 2,
    "start_time": "2023-03-20T08:08:59.331Z"
   },
   {
    "duration": 277,
    "start_time": "2023-03-20T08:08:59.634Z"
   },
   {
    "duration": 6,
    "start_time": "2023-03-20T08:09:45.105Z"
   },
   {
    "duration": 9,
    "start_time": "2023-03-20T08:12:40.652Z"
   },
   {
    "duration": 5,
    "start_time": "2023-03-20T08:13:06.443Z"
   },
   {
    "duration": 3,
    "start_time": "2023-03-20T08:13:29.261Z"
   },
   {
    "duration": 4,
    "start_time": "2023-03-20T08:13:35.169Z"
   },
   {
    "duration": 10,
    "start_time": "2023-03-20T08:15:55.743Z"
   },
   {
    "duration": 3,
    "start_time": "2023-03-20T08:16:02.992Z"
   },
   {
    "duration": 4,
    "start_time": "2023-03-20T08:16:04.281Z"
   },
   {
    "duration": 7,
    "start_time": "2023-03-20T08:17:57.085Z"
   },
   {
    "duration": 3,
    "start_time": "2023-03-20T08:18:06.293Z"
   },
   {
    "duration": 5,
    "start_time": "2023-03-20T08:18:11.357Z"
   },
   {
    "duration": 4,
    "start_time": "2023-03-20T08:19:22.677Z"
   },
   {
    "duration": 4,
    "start_time": "2023-03-20T08:19:23.248Z"
   },
   {
    "duration": 4,
    "start_time": "2023-03-20T08:20:10.594Z"
   },
   {
    "duration": 4,
    "start_time": "2023-03-20T08:20:11.018Z"
   },
   {
    "duration": 4,
    "start_time": "2023-03-20T08:20:19.951Z"
   },
   {
    "duration": 3,
    "start_time": "2023-03-20T08:20:20.463Z"
   },
   {
    "duration": 216,
    "start_time": "2023-03-20T08:20:21.098Z"
   },
   {
    "duration": 13,
    "start_time": "2023-03-20T08:22:14.081Z"
   },
   {
    "duration": 3,
    "start_time": "2023-03-20T08:22:38.607Z"
   },
   {
    "duration": 3,
    "start_time": "2023-03-20T08:23:10.387Z"
   },
   {
    "duration": 9,
    "start_time": "2023-03-20T08:24:16.125Z"
   },
   {
    "duration": 604,
    "start_time": "2023-03-20T08:26:00.619Z"
   },
   {
    "duration": 5,
    "start_time": "2023-03-20T08:26:10.403Z"
   },
   {
    "duration": 17,
    "start_time": "2023-03-20T08:26:19.739Z"
   },
   {
    "duration": 3,
    "start_time": "2023-03-20T08:26:21.648Z"
   },
   {
    "duration": 3,
    "start_time": "2023-03-20T08:26:54.421Z"
   },
   {
    "duration": 1255,
    "start_time": "2023-03-20T08:27:53.233Z"
   },
   {
    "duration": 34,
    "start_time": "2023-03-20T08:27:54.490Z"
   },
   {
    "duration": 9,
    "start_time": "2023-03-20T08:27:54.526Z"
   },
   {
    "duration": 13,
    "start_time": "2023-03-20T08:27:54.537Z"
   },
   {
    "duration": 5,
    "start_time": "2023-03-20T08:27:54.552Z"
   },
   {
    "duration": 814,
    "start_time": "2023-03-20T08:27:54.558Z"
   },
   {
    "duration": 7,
    "start_time": "2023-03-20T08:27:55.373Z"
   },
   {
    "duration": 6,
    "start_time": "2023-03-20T08:27:55.382Z"
   },
   {
    "duration": 7,
    "start_time": "2023-03-20T08:27:55.389Z"
   },
   {
    "duration": 5,
    "start_time": "2023-03-20T08:27:55.398Z"
   },
   {
    "duration": 7,
    "start_time": "2023-03-20T08:27:55.404Z"
   },
   {
    "duration": 8,
    "start_time": "2023-03-20T08:27:55.412Z"
   },
   {
    "duration": 8,
    "start_time": "2023-03-20T08:27:55.421Z"
   },
   {
    "duration": 281,
    "start_time": "2023-03-20T08:27:55.430Z"
   },
   {
    "duration": 4,
    "start_time": "2023-03-20T08:27:55.712Z"
   },
   {
    "duration": 7,
    "start_time": "2023-03-20T08:27:55.717Z"
   },
   {
    "duration": 7,
    "start_time": "2023-03-20T08:27:55.725Z"
   },
   {
    "duration": 4,
    "start_time": "2023-03-20T08:28:42.161Z"
   },
   {
    "duration": 3,
    "start_time": "2023-03-20T08:29:03.121Z"
   },
   {
    "duration": 2,
    "start_time": "2023-03-20T08:30:51.866Z"
   },
   {
    "duration": 101,
    "start_time": "2023-03-20T08:34:06.431Z"
   },
   {
    "duration": 12,
    "start_time": "2023-03-20T08:34:47.215Z"
   },
   {
    "duration": 17,
    "start_time": "2023-03-20T08:34:52.674Z"
   },
   {
    "duration": 9,
    "start_time": "2023-03-20T08:34:58.013Z"
   },
   {
    "duration": 5,
    "start_time": "2023-03-20T08:36:01.901Z"
   },
   {
    "duration": 4,
    "start_time": "2023-03-20T08:36:06.107Z"
   },
   {
    "duration": 17,
    "start_time": "2023-03-20T08:36:51.773Z"
   },
   {
    "duration": 6,
    "start_time": "2023-03-20T08:41:04.479Z"
   },
   {
    "duration": 4,
    "start_time": "2023-03-20T08:41:30.792Z"
   },
   {
    "duration": 2,
    "start_time": "2023-03-20T08:41:55.713Z"
   },
   {
    "duration": 3,
    "start_time": "2023-03-20T08:42:12.704Z"
   },
   {
    "duration": 6,
    "start_time": "2023-03-20T08:42:38.708Z"
   },
   {
    "duration": 1673,
    "start_time": "2023-03-21T06:12:16.183Z"
   },
   {
    "duration": 96,
    "start_time": "2023-03-21T06:12:17.858Z"
   },
   {
    "duration": 14,
    "start_time": "2023-03-21T06:12:17.956Z"
   },
   {
    "duration": 8,
    "start_time": "2023-03-21T06:12:17.972Z"
   },
   {
    "duration": 14,
    "start_time": "2023-03-21T06:12:17.982Z"
   },
   {
    "duration": 1098,
    "start_time": "2023-03-21T06:12:17.998Z"
   },
   {
    "duration": 6,
    "start_time": "2023-03-21T06:12:19.098Z"
   },
   {
    "duration": 13,
    "start_time": "2023-03-21T06:12:19.105Z"
   },
   {
    "duration": 11,
    "start_time": "2023-03-21T06:12:19.120Z"
   },
   {
    "duration": 6,
    "start_time": "2023-03-21T06:12:19.142Z"
   },
   {
    "duration": 18,
    "start_time": "2023-03-21T06:12:19.149Z"
   },
   {
    "duration": 9,
    "start_time": "2023-03-21T06:12:19.169Z"
   },
   {
    "duration": 11,
    "start_time": "2023-03-21T06:12:19.180Z"
   },
   {
    "duration": 383,
    "start_time": "2023-03-21T06:12:19.194Z"
   },
   {
    "duration": 4,
    "start_time": "2023-03-21T06:12:19.579Z"
   },
   {
    "duration": 10,
    "start_time": "2023-03-21T06:12:19.585Z"
   },
   {
    "duration": 13,
    "start_time": "2023-03-21T06:12:19.597Z"
   },
   {
    "duration": 18,
    "start_time": "2023-03-21T06:12:19.611Z"
   },
   {
    "duration": 12,
    "start_time": "2023-03-21T06:12:19.631Z"
   },
   {
    "duration": 6,
    "start_time": "2023-03-21T06:12:19.645Z"
   },
   {
    "duration": 8,
    "start_time": "2023-03-21T06:12:19.652Z"
   },
   {
    "duration": 8077,
    "start_time": "2023-03-21T06:20:55.476Z"
   },
   {
    "duration": 220,
    "start_time": "2023-03-21T06:55:18.813Z"
   },
   {
    "duration": 12,
    "start_time": "2023-03-21T06:56:13.804Z"
   },
   {
    "duration": 17,
    "start_time": "2023-03-21T06:56:30.585Z"
   },
   {
    "duration": 16,
    "start_time": "2023-03-21T06:56:52.782Z"
   },
   {
    "duration": 5,
    "start_time": "2023-03-21T06:57:03.839Z"
   },
   {
    "duration": 7,
    "start_time": "2023-03-21T06:57:10.309Z"
   },
   {
    "duration": 13,
    "start_time": "2023-03-21T06:58:01.695Z"
   },
   {
    "duration": 154,
    "start_time": "2023-03-21T07:07:46.052Z"
   },
   {
    "duration": 35,
    "start_time": "2023-03-21T07:08:30.822Z"
   },
   {
    "duration": 24,
    "start_time": "2023-03-21T07:09:01.382Z"
   },
   {
    "duration": 19,
    "start_time": "2023-03-21T07:09:13.927Z"
   },
   {
    "duration": 47,
    "start_time": "2023-03-21T07:09:21.863Z"
   },
   {
    "duration": 29,
    "start_time": "2023-03-21T07:11:06.654Z"
   },
   {
    "duration": 44,
    "start_time": "2023-03-21T07:11:13.450Z"
   },
   {
    "duration": 70,
    "start_time": "2023-03-21T07:13:18.919Z"
   },
   {
    "duration": 2057,
    "start_time": "2023-03-21T07:13:25.113Z"
   },
   {
    "duration": 6,
    "start_time": "2023-03-21T07:29:00.413Z"
   },
   {
    "duration": 4,
    "start_time": "2023-03-21T07:29:05.912Z"
   },
   {
    "duration": 22,
    "start_time": "2023-03-21T07:29:09.258Z"
   },
   {
    "duration": 58,
    "start_time": "2023-03-21T07:29:36.519Z"
   },
   {
    "duration": 5,
    "start_time": "2023-03-21T07:30:35.806Z"
   },
   {
    "duration": 249,
    "start_time": "2023-03-21T07:30:36.703Z"
   },
   {
    "duration": 7,
    "start_time": "2023-03-21T07:39:16.378Z"
   },
   {
    "duration": 7,
    "start_time": "2023-03-21T07:39:32.362Z"
   },
   {
    "duration": 6,
    "start_time": "2023-03-21T07:40:20.942Z"
   },
   {
    "duration": 5,
    "start_time": "2023-03-21T07:40:28.624Z"
   },
   {
    "duration": 39,
    "start_time": "2023-03-21T07:43:49.435Z"
   },
   {
    "duration": 66,
    "start_time": "2023-03-21T07:44:57.089Z"
   },
   {
    "duration": 6,
    "start_time": "2023-03-21T07:45:54.714Z"
   },
   {
    "duration": 8,
    "start_time": "2023-03-21T07:45:59.446Z"
   },
   {
    "duration": 10,
    "start_time": "2023-03-21T07:45:59.458Z"
   },
   {
    "duration": 136,
    "start_time": "2023-03-21T07:46:03.937Z"
   },
   {
    "duration": 7,
    "start_time": "2023-03-21T07:47:35.235Z"
   },
   {
    "duration": 5,
    "start_time": "2023-03-21T07:47:36.286Z"
   },
   {
    "duration": 6,
    "start_time": "2023-03-21T07:47:37.683Z"
   },
   {
    "duration": 43,
    "start_time": "2023-03-21T07:47:38.363Z"
   },
   {
    "duration": 6,
    "start_time": "2023-03-21T07:48:12.080Z"
   },
   {
    "duration": 4,
    "start_time": "2023-03-21T07:48:12.603Z"
   },
   {
    "duration": 5,
    "start_time": "2023-03-21T07:48:12.915Z"
   },
   {
    "duration": 38,
    "start_time": "2023-03-21T07:48:13.361Z"
   },
   {
    "duration": 7,
    "start_time": "2023-03-21T07:51:04.593Z"
   },
   {
    "duration": 5,
    "start_time": "2023-03-21T07:51:05.066Z"
   },
   {
    "duration": 61,
    "start_time": "2023-03-21T07:51:08.384Z"
   },
   {
    "duration": 368,
    "start_time": "2023-03-21T07:51:52.230Z"
   },
   {
    "duration": 31,
    "start_time": "2023-03-21T07:55:55.311Z"
   },
   {
    "duration": 30,
    "start_time": "2023-03-21T07:56:07.938Z"
   },
   {
    "duration": 53,
    "start_time": "2023-03-21T07:58:22.218Z"
   },
   {
    "duration": 23,
    "start_time": "2023-03-21T07:59:56.624Z"
   },
   {
    "duration": 22,
    "start_time": "2023-03-21T08:00:45.364Z"
   },
   {
    "duration": 1226,
    "start_time": "2023-03-21T08:02:43.834Z"
   },
   {
    "duration": 1153,
    "start_time": "2023-03-21T08:03:14.733Z"
   },
   {
    "duration": 760,
    "start_time": "2023-03-21T08:03:33.007Z"
   },
   {
    "duration": 7,
    "start_time": "2023-03-21T09:15:29.508Z"
   },
   {
    "duration": 4,
    "start_time": "2023-03-21T09:15:30.336Z"
   },
   {
    "duration": 71,
    "start_time": "2023-03-21T09:15:30.808Z"
   },
   {
    "duration": 1297,
    "start_time": "2023-03-21T09:15:31.362Z"
   },
   {
    "duration": 201,
    "start_time": "2023-03-21T09:17:46.113Z"
   },
   {
    "duration": 799,
    "start_time": "2023-03-21T09:18:16.762Z"
   },
   {
    "duration": 8,
    "start_time": "2023-03-21T09:18:46.044Z"
   },
   {
    "duration": 4,
    "start_time": "2023-03-21T09:18:46.433Z"
   },
   {
    "duration": 6,
    "start_time": "2023-03-21T09:18:46.907Z"
   },
   {
    "duration": 9187,
    "start_time": "2023-03-21T09:18:47.583Z"
   },
   {
    "duration": 7,
    "start_time": "2023-03-21T09:19:08.464Z"
   },
   {
    "duration": 4,
    "start_time": "2023-03-21T09:19:08.978Z"
   },
   {
    "duration": 9304,
    "start_time": "2023-03-21T09:19:11.838Z"
   },
   {
    "duration": 2278,
    "start_time": "2023-03-22T03:01:11.101Z"
   },
   {
    "duration": 95,
    "start_time": "2023-03-22T03:01:13.382Z"
   },
   {
    "duration": 14,
    "start_time": "2023-03-22T03:01:13.479Z"
   },
   {
    "duration": 6,
    "start_time": "2023-03-22T03:01:13.495Z"
   },
   {
    "duration": 7,
    "start_time": "2023-03-22T03:01:13.504Z"
   },
   {
    "duration": 1133,
    "start_time": "2023-03-22T03:01:13.513Z"
   },
   {
    "duration": 5,
    "start_time": "2023-03-22T03:01:14.647Z"
   },
   {
    "duration": 13,
    "start_time": "2023-03-22T03:01:14.654Z"
   },
   {
    "duration": 13,
    "start_time": "2023-03-22T03:01:14.668Z"
   },
   {
    "duration": 15,
    "start_time": "2023-03-22T03:01:14.683Z"
   },
   {
    "duration": 23,
    "start_time": "2023-03-22T03:01:14.699Z"
   },
   {
    "duration": 5,
    "start_time": "2023-03-22T03:01:14.724Z"
   },
   {
    "duration": 5,
    "start_time": "2023-03-22T03:01:14.731Z"
   },
   {
    "duration": 305,
    "start_time": "2023-03-22T03:01:14.739Z"
   },
   {
    "duration": 4,
    "start_time": "2023-03-22T03:01:15.046Z"
   },
   {
    "duration": 32,
    "start_time": "2023-03-22T03:01:15.052Z"
   },
   {
    "duration": 16,
    "start_time": "2023-03-22T03:01:15.086Z"
   },
   {
    "duration": 13,
    "start_time": "2023-03-22T03:01:15.104Z"
   },
   {
    "duration": 17,
    "start_time": "2023-03-22T03:01:15.120Z"
   },
   {
    "duration": 27,
    "start_time": "2023-03-22T03:01:15.139Z"
   },
   {
    "duration": 30,
    "start_time": "2023-03-22T03:01:15.168Z"
   },
   {
    "duration": 22,
    "start_time": "2023-03-22T03:01:15.200Z"
   },
   {
    "duration": 34,
    "start_time": "2023-03-22T03:01:15.224Z"
   },
   {
    "duration": 6,
    "start_time": "2023-03-22T03:01:19.567Z"
   },
   {
    "duration": 3,
    "start_time": "2023-03-22T03:01:22.393Z"
   },
   {
    "duration": 146,
    "start_time": "2023-03-22T03:04:42.163Z"
   },
   {
    "duration": 4,
    "start_time": "2023-03-22T03:04:56.639Z"
   },
   {
    "duration": 1682,
    "start_time": "2023-03-22T03:05:02.023Z"
   },
   {
    "duration": 4,
    "start_time": "2023-03-22T03:11:30.916Z"
   },
   {
    "duration": 37,
    "start_time": "2023-03-22T03:11:42.240Z"
   },
   {
    "duration": 4,
    "start_time": "2023-03-22T03:16:39.678Z"
   },
   {
    "duration": 4,
    "start_time": "2023-03-22T03:16:45.616Z"
   },
   {
    "duration": 22,
    "start_time": "2023-03-22T03:17:46.818Z"
   },
   {
    "duration": 5,
    "start_time": "2023-03-22T03:18:14.598Z"
   },
   {
    "duration": 4,
    "start_time": "2023-03-22T03:18:29.355Z"
   },
   {
    "duration": 1303,
    "start_time": "2023-03-22T03:18:38.868Z"
   },
   {
    "duration": 1389,
    "start_time": "2023-03-22T03:21:19.494Z"
   },
   {
    "duration": 2652,
    "start_time": "2023-03-22T03:21:38.046Z"
   },
   {
    "duration": 4177,
    "start_time": "2023-03-22T03:22:06.301Z"
   },
   {
    "duration": 3964,
    "start_time": "2023-03-22T03:22:20.760Z"
   },
   {
    "duration": 7178,
    "start_time": "2023-03-22T03:22:38.912Z"
   },
   {
    "duration": 6770,
    "start_time": "2023-03-22T03:23:20.776Z"
   },
   {
    "duration": 6751,
    "start_time": "2023-03-22T03:23:45.271Z"
   },
   {
    "duration": 7052,
    "start_time": "2023-03-22T03:24:43.020Z"
   },
   {
    "duration": 23211,
    "start_time": "2023-03-22T03:24:58.709Z"
   },
   {
    "duration": 13497,
    "start_time": "2023-03-22T03:25:37.448Z"
   },
   {
    "duration": 13375,
    "start_time": "2023-03-22T03:26:13.630Z"
   },
   {
    "duration": 13454,
    "start_time": "2023-03-22T03:27:20.886Z"
   },
   {
    "duration": 134828,
    "start_time": "2023-03-22T03:27:49.944Z"
   },
   {
    "duration": 4,
    "start_time": "2023-03-22T03:34:39.986Z"
   },
   {
    "duration": 5,
    "start_time": "2023-03-22T03:34:45.731Z"
   },
   {
    "duration": 6,
    "start_time": "2023-03-22T03:34:53.296Z"
   },
   {
    "duration": 6,
    "start_time": "2023-03-22T03:35:26.524Z"
   },
   {
    "duration": 5,
    "start_time": "2023-03-22T03:36:43.657Z"
   },
   {
    "duration": 6,
    "start_time": "2023-03-22T03:37:03.343Z"
   },
   {
    "duration": 6,
    "start_time": "2023-03-22T03:37:12.875Z"
   },
   {
    "duration": 6,
    "start_time": "2023-03-22T03:39:59.912Z"
   },
   {
    "duration": 14,
    "start_time": "2023-03-22T03:40:08.680Z"
   },
   {
    "duration": 8,
    "start_time": "2023-03-22T03:40:17.443Z"
   },
   {
    "duration": 11,
    "start_time": "2023-03-22T04:20:51.694Z"
   },
   {
    "duration": 4,
    "start_time": "2023-03-22T04:20:55.444Z"
   },
   {
    "duration": 1220,
    "start_time": "2023-03-22T04:21:36.997Z"
   },
   {
    "duration": 15,
    "start_time": "2023-03-22T04:21:49.556Z"
   },
   {
    "duration": 13,
    "start_time": "2023-03-22T04:22:01.794Z"
   },
   {
    "duration": 198,
    "start_time": "2023-03-22T04:22:46.934Z"
   },
   {
    "duration": 6,
    "start_time": "2023-03-22T04:23:09.115Z"
   },
   {
    "duration": 6,
    "start_time": "2023-03-22T04:23:15.242Z"
   },
   {
    "duration": 6,
    "start_time": "2023-03-22T04:23:28.348Z"
   },
   {
    "duration": 131,
    "start_time": "2023-03-22T04:23:34.331Z"
   },
   {
    "duration": 133,
    "start_time": "2023-03-22T04:24:02.389Z"
   },
   {
    "duration": 91,
    "start_time": "2023-03-22T04:24:40.647Z"
   },
   {
    "duration": 502,
    "start_time": "2023-03-22T04:25:22.947Z"
   },
   {
    "duration": 344,
    "start_time": "2023-03-22T04:25:28.607Z"
   },
   {
    "duration": 358,
    "start_time": "2023-03-22T04:25:54.285Z"
   },
   {
    "duration": 340,
    "start_time": "2023-03-22T04:26:03.830Z"
   },
   {
    "duration": 503,
    "start_time": "2023-03-22T04:26:19.712Z"
   },
   {
    "duration": 18,
    "start_time": "2023-03-22T04:27:32.979Z"
   },
   {
    "duration": 14,
    "start_time": "2023-03-22T04:27:47.743Z"
   },
   {
    "duration": 360,
    "start_time": "2023-03-22T04:28:03.890Z"
   },
   {
    "duration": 465,
    "start_time": "2023-03-22T04:28:20.230Z"
   },
   {
    "duration": 88,
    "start_time": "2023-03-22T04:28:46.493Z"
   },
   {
    "duration": 457,
    "start_time": "2023-03-22T04:28:50.714Z"
   },
   {
    "duration": 5,
    "start_time": "2023-03-22T04:29:28.901Z"
   },
   {
    "duration": 574,
    "start_time": "2023-03-22T04:29:31.307Z"
   },
   {
    "duration": 400,
    "start_time": "2023-03-22T04:30:06.337Z"
   },
   {
    "duration": 1886,
    "start_time": "2023-03-22T07:20:12.123Z"
   },
   {
    "duration": 92,
    "start_time": "2023-03-22T07:20:14.011Z"
   },
   {
    "duration": 11,
    "start_time": "2023-03-22T07:20:14.105Z"
   },
   {
    "duration": 14,
    "start_time": "2023-03-22T07:20:14.118Z"
   },
   {
    "duration": 16,
    "start_time": "2023-03-22T07:20:14.134Z"
   },
   {
    "duration": 1011,
    "start_time": "2023-03-22T07:20:14.151Z"
   },
   {
    "duration": 5,
    "start_time": "2023-03-22T07:20:15.164Z"
   },
   {
    "duration": 43,
    "start_time": "2023-03-22T07:20:15.170Z"
   },
   {
    "duration": 34,
    "start_time": "2023-03-22T07:20:15.214Z"
   },
   {
    "duration": 32,
    "start_time": "2023-03-22T07:20:15.250Z"
   },
   {
    "duration": 29,
    "start_time": "2023-03-22T07:20:15.283Z"
   },
   {
    "duration": 29,
    "start_time": "2023-03-22T07:20:15.313Z"
   },
   {
    "duration": 30,
    "start_time": "2023-03-22T07:20:15.343Z"
   },
   {
    "duration": 313,
    "start_time": "2023-03-22T07:20:15.375Z"
   },
   {
    "duration": 4,
    "start_time": "2023-03-22T07:20:15.689Z"
   },
   {
    "duration": 52,
    "start_time": "2023-03-22T07:20:15.695Z"
   },
   {
    "duration": 27,
    "start_time": "2023-03-22T07:20:15.749Z"
   },
   {
    "duration": 16,
    "start_time": "2023-03-22T07:20:15.777Z"
   },
   {
    "duration": 18,
    "start_time": "2023-03-22T07:20:15.794Z"
   },
   {
    "duration": 25,
    "start_time": "2023-03-22T07:20:15.813Z"
   },
   {
    "duration": 28,
    "start_time": "2023-03-22T07:20:15.839Z"
   },
   {
    "duration": 31,
    "start_time": "2023-03-22T07:20:15.869Z"
   },
   {
    "duration": 72,
    "start_time": "2023-03-22T07:20:15.902Z"
   },
   {
    "duration": 5,
    "start_time": "2023-03-22T07:20:15.975Z"
   },
   {
    "duration": 25,
    "start_time": "2023-03-22T07:20:15.982Z"
   },
   {
    "duration": 189,
    "start_time": "2023-03-22T07:20:16.009Z"
   },
   {
    "duration": 0,
    "start_time": "2023-03-22T07:20:16.200Z"
   },
   {
    "duration": 0,
    "start_time": "2023-03-22T07:20:16.201Z"
   },
   {
    "duration": 0,
    "start_time": "2023-03-22T07:20:16.203Z"
   },
   {
    "duration": 16,
    "start_time": "2023-03-22T07:20:43.422Z"
   },
   {
    "duration": 3,
    "start_time": "2023-03-22T07:21:01.880Z"
   },
   {
    "duration": 59,
    "start_time": "2023-03-22T07:21:01.885Z"
   },
   {
    "duration": 8,
    "start_time": "2023-03-22T07:21:01.945Z"
   },
   {
    "duration": 25,
    "start_time": "2023-03-22T07:21:01.955Z"
   },
   {
    "duration": 61,
    "start_time": "2023-03-22T07:21:01.981Z"
   },
   {
    "duration": 893,
    "start_time": "2023-03-22T07:21:02.044Z"
   },
   {
    "duration": 4,
    "start_time": "2023-03-22T07:21:02.939Z"
   },
   {
    "duration": 9,
    "start_time": "2023-03-22T07:21:02.944Z"
   },
   {
    "duration": 5,
    "start_time": "2023-03-22T07:21:02.960Z"
   },
   {
    "duration": 7,
    "start_time": "2023-03-22T07:21:02.966Z"
   },
   {
    "duration": 15,
    "start_time": "2023-03-22T07:21:02.974Z"
   },
   {
    "duration": 16,
    "start_time": "2023-03-22T07:21:02.990Z"
   },
   {
    "duration": 5,
    "start_time": "2023-03-22T07:21:03.007Z"
   },
   {
    "duration": 232,
    "start_time": "2023-03-22T07:21:03.013Z"
   },
   {
    "duration": 4,
    "start_time": "2023-03-22T07:21:03.246Z"
   },
   {
    "duration": 5,
    "start_time": "2023-03-22T07:21:03.260Z"
   },
   {
    "duration": 10,
    "start_time": "2023-03-22T07:21:03.266Z"
   },
   {
    "duration": 22,
    "start_time": "2023-03-22T07:21:03.278Z"
   },
   {
    "duration": 13,
    "start_time": "2023-03-22T07:21:03.301Z"
   },
   {
    "duration": 7,
    "start_time": "2023-03-22T07:21:03.315Z"
   },
   {
    "duration": 23,
    "start_time": "2023-03-22T07:21:03.323Z"
   },
   {
    "duration": 12,
    "start_time": "2023-03-22T07:21:03.347Z"
   },
   {
    "duration": 20,
    "start_time": "2023-03-22T07:21:03.360Z"
   },
   {
    "duration": 12,
    "start_time": "2023-03-22T07:21:03.382Z"
   },
   {
    "duration": 11,
    "start_time": "2023-03-22T07:21:03.395Z"
   },
   {
    "duration": 15,
    "start_time": "2023-03-22T07:21:03.407Z"
   },
   {
    "duration": 0,
    "start_time": "2023-03-22T07:21:03.424Z"
   },
   {
    "duration": 0,
    "start_time": "2023-03-22T07:21:03.424Z"
   },
   {
    "duration": 0,
    "start_time": "2023-03-22T07:21:03.426Z"
   },
   {
    "duration": 83820,
    "start_time": "2023-03-22T07:21:25.660Z"
   },
   {
    "duration": 24,
    "start_time": "2023-03-22T07:24:14.238Z"
   },
   {
    "duration": 253,
    "start_time": "2023-03-22T07:24:31.939Z"
   },
   {
    "duration": 79,
    "start_time": "2023-03-22T07:26:11.648Z"
   },
   {
    "duration": 255,
    "start_time": "2023-03-22T07:26:30.309Z"
   },
   {
    "duration": 6,
    "start_time": "2023-03-22T07:28:14.912Z"
   },
   {
    "duration": 23,
    "start_time": "2023-03-22T07:28:28.829Z"
   },
   {
    "duration": 6,
    "start_time": "2023-03-22T07:28:34.376Z"
   },
   {
    "duration": 20,
    "start_time": "2023-03-22T07:28:52.916Z"
   },
   {
    "duration": 4,
    "start_time": "2023-03-22T07:29:06.152Z"
   },
   {
    "duration": 6,
    "start_time": "2023-03-22T07:29:10.669Z"
   },
   {
    "duration": 7,
    "start_time": "2023-03-22T07:29:14.860Z"
   },
   {
    "duration": 5,
    "start_time": "2023-03-22T07:29:20.632Z"
   },
   {
    "duration": 358,
    "start_time": "2023-03-22T07:29:42.078Z"
   },
   {
    "duration": 307,
    "start_time": "2023-03-22T07:30:00.586Z"
   },
   {
    "duration": 4,
    "start_time": "2023-03-22T07:30:26.638Z"
   },
   {
    "duration": 4,
    "start_time": "2023-03-22T07:30:36.016Z"
   },
   {
    "duration": 10,
    "start_time": "2023-03-22T07:31:19.965Z"
   },
   {
    "duration": 4,
    "start_time": "2023-03-22T07:31:31.682Z"
   },
   {
    "duration": 4,
    "start_time": "2023-03-22T07:31:44.127Z"
   },
   {
    "duration": 4,
    "start_time": "2023-03-22T07:31:52.179Z"
   },
   {
    "duration": 15,
    "start_time": "2023-03-22T07:32:02.158Z"
   },
   {
    "duration": 11,
    "start_time": "2023-03-22T07:32:14.364Z"
   },
   {
    "duration": 5,
    "start_time": "2023-03-22T07:32:23.355Z"
   },
   {
    "duration": 11,
    "start_time": "2023-03-22T07:32:28.776Z"
   },
   {
    "duration": 259,
    "start_time": "2023-03-22T07:32:46.722Z"
   },
   {
    "duration": 5,
    "start_time": "2023-03-22T07:33:10.063Z"
   },
   {
    "duration": 6,
    "start_time": "2023-03-22T07:33:31.957Z"
   },
   {
    "duration": 10,
    "start_time": "2023-03-22T07:33:37.545Z"
   },
   {
    "duration": 13,
    "start_time": "2023-03-22T07:34:37.683Z"
   },
   {
    "duration": 10,
    "start_time": "2023-03-22T07:34:52.397Z"
   },
   {
    "duration": 10,
    "start_time": "2023-03-22T07:35:20.825Z"
   },
   {
    "duration": 5,
    "start_time": "2023-03-22T07:35:37.326Z"
   },
   {
    "duration": 388,
    "start_time": "2023-03-22T07:35:56.153Z"
   },
   {
    "duration": 443,
    "start_time": "2023-03-22T07:36:28.251Z"
   },
   {
    "duration": 4,
    "start_time": "2023-03-22T07:36:47.520Z"
   },
   {
    "duration": 3,
    "start_time": "2023-03-22T07:37:14.545Z"
   },
   {
    "duration": 4,
    "start_time": "2023-03-22T07:37:26.213Z"
   },
   {
    "duration": 11,
    "start_time": "2023-03-22T07:37:56.382Z"
   },
   {
    "duration": 5,
    "start_time": "2023-03-22T07:38:15.015Z"
   },
   {
    "duration": 4,
    "start_time": "2023-03-22T07:38:25.728Z"
   },
   {
    "duration": 4,
    "start_time": "2023-03-22T07:38:30.632Z"
   },
   {
    "duration": 173,
    "start_time": "2023-03-22T07:39:07.842Z"
   },
   {
    "duration": 261,
    "start_time": "2023-03-22T07:39:15.816Z"
   },
   {
    "duration": 297,
    "start_time": "2023-03-22T07:39:30.788Z"
   },
   {
    "duration": 213,
    "start_time": "2023-03-22T07:39:44.904Z"
   },
   {
    "duration": 363,
    "start_time": "2023-03-22T07:40:05.169Z"
   },
   {
    "duration": 272,
    "start_time": "2023-03-22T07:41:11.578Z"
   },
   {
    "duration": 368,
    "start_time": "2023-03-22T09:17:46.137Z"
   },
   {
    "duration": 446,
    "start_time": "2023-03-22T09:18:32.328Z"
   },
   {
    "duration": 6,
    "start_time": "2023-03-22T09:25:24.930Z"
   },
   {
    "duration": 457498,
    "start_time": "2023-03-22T09:26:21.253Z"
   },
   {
    "duration": 163040,
    "start_time": "2023-03-22T09:34:32.822Z"
   },
   {
    "duration": 105,
    "start_time": "2023-03-22T09:37:37.803Z"
   },
   {
    "duration": 124407,
    "start_time": "2023-03-22T09:37:53.759Z"
   },
   {
    "duration": 35,
    "start_time": "2023-03-22T09:40:06.987Z"
   },
   {
    "duration": 5,
    "start_time": "2023-03-22T09:42:31.741Z"
   },
   {
    "duration": 1269,
    "start_time": "2023-03-22T09:42:48.976Z"
   },
   {
    "duration": 18,
    "start_time": "2023-03-22T09:43:07.484Z"
   },
   {
    "duration": 4,
    "start_time": "2023-03-22T09:56:17.508Z"
   },
   {
    "duration": 1068,
    "start_time": "2023-03-22T09:56:18.011Z"
   },
   {
    "duration": 6,
    "start_time": "2023-03-22T09:56:26.177Z"
   },
   {
    "duration": 3,
    "start_time": "2023-03-22T10:00:53.991Z"
   },
   {
    "duration": 7,
    "start_time": "2023-03-22T10:01:16.482Z"
   },
   {
    "duration": 1055,
    "start_time": "2023-03-22T10:01:24.728Z"
   },
   {
    "duration": 5,
    "start_time": "2023-03-22T10:01:32.332Z"
   },
   {
    "duration": 2432,
    "start_time": "2023-03-22T10:06:04.462Z"
   },
   {
    "duration": 46,
    "start_time": "2023-03-22T10:06:06.896Z"
   },
   {
    "duration": 25,
    "start_time": "2023-03-22T10:06:06.944Z"
   },
   {
    "duration": 32,
    "start_time": "2023-03-22T10:06:06.975Z"
   },
   {
    "duration": 20,
    "start_time": "2023-03-22T10:06:07.010Z"
   },
   {
    "duration": 1406,
    "start_time": "2023-03-22T10:06:07.032Z"
   },
   {
    "duration": 7,
    "start_time": "2023-03-22T10:06:08.440Z"
   },
   {
    "duration": 28,
    "start_time": "2023-03-22T10:06:08.466Z"
   },
   {
    "duration": 14,
    "start_time": "2023-03-22T10:06:08.496Z"
   },
   {
    "duration": 13,
    "start_time": "2023-03-22T10:06:08.512Z"
   },
   {
    "duration": 9,
    "start_time": "2023-03-22T10:06:08.527Z"
   },
   {
    "duration": 11,
    "start_time": "2023-03-22T10:06:08.537Z"
   },
   {
    "duration": 7,
    "start_time": "2023-03-22T10:06:08.549Z"
   },
   {
    "duration": 383,
    "start_time": "2023-03-22T10:06:08.560Z"
   },
   {
    "duration": 10,
    "start_time": "2023-03-22T10:06:08.949Z"
   },
   {
    "duration": 51,
    "start_time": "2023-03-22T10:06:08.961Z"
   },
   {
    "duration": 17,
    "start_time": "2023-03-22T10:06:09.014Z"
   },
   {
    "duration": 9,
    "start_time": "2023-03-22T10:06:09.032Z"
   },
   {
    "duration": 16,
    "start_time": "2023-03-22T10:06:09.043Z"
   },
   {
    "duration": 65,
    "start_time": "2023-03-22T10:06:09.061Z"
   },
   {
    "duration": 15,
    "start_time": "2023-03-22T10:06:09.128Z"
   },
   {
    "duration": 21,
    "start_time": "2023-03-22T10:06:09.145Z"
   },
   {
    "duration": 39,
    "start_time": "2023-03-22T10:06:09.175Z"
   },
   {
    "duration": 288,
    "start_time": "2023-03-22T10:06:09.216Z"
   },
   {
    "duration": 2258,
    "start_time": "2023-03-23T07:15:46.385Z"
   },
   {
    "duration": 81,
    "start_time": "2023-03-23T07:15:48.646Z"
   },
   {
    "duration": 17,
    "start_time": "2023-03-23T07:15:48.730Z"
   },
   {
    "duration": 5,
    "start_time": "2023-03-23T07:15:48.749Z"
   },
   {
    "duration": 9,
    "start_time": "2023-03-23T07:15:48.757Z"
   },
   {
    "duration": 1071,
    "start_time": "2023-03-23T07:15:48.768Z"
   },
   {
    "duration": 4,
    "start_time": "2023-03-23T07:15:49.841Z"
   },
   {
    "duration": 8,
    "start_time": "2023-03-23T07:15:49.847Z"
   },
   {
    "duration": 6,
    "start_time": "2023-03-23T07:15:49.857Z"
   },
   {
    "duration": 24,
    "start_time": "2023-03-23T07:15:49.865Z"
   },
   {
    "duration": 5,
    "start_time": "2023-03-23T07:15:49.891Z"
   },
   {
    "duration": 5,
    "start_time": "2023-03-23T07:15:49.898Z"
   },
   {
    "duration": 9,
    "start_time": "2023-03-23T07:15:49.905Z"
   },
   {
    "duration": 295,
    "start_time": "2023-03-23T07:15:49.918Z"
   },
   {
    "duration": 5,
    "start_time": "2023-03-23T07:15:50.215Z"
   },
   {
    "duration": 9,
    "start_time": "2023-03-23T07:15:50.222Z"
   },
   {
    "duration": 5,
    "start_time": "2023-03-23T07:15:50.233Z"
   },
   {
    "duration": 5,
    "start_time": "2023-03-23T07:15:50.240Z"
   },
   {
    "duration": 43,
    "start_time": "2023-03-23T07:15:50.246Z"
   },
   {
    "duration": 42,
    "start_time": "2023-03-23T07:15:50.291Z"
   },
   {
    "duration": 23,
    "start_time": "2023-03-23T07:15:50.335Z"
   },
   {
    "duration": 5,
    "start_time": "2023-03-23T07:15:50.360Z"
   },
   {
    "duration": 11,
    "start_time": "2023-03-23T07:15:50.366Z"
   },
   {
    "duration": 213,
    "start_time": "2023-03-23T07:15:50.378Z"
   },
   {
    "duration": 0,
    "start_time": "2023-03-23T07:15:50.592Z"
   },
   {
    "duration": 0,
    "start_time": "2023-03-23T07:15:50.594Z"
   },
   {
    "duration": 0,
    "start_time": "2023-03-23T07:15:50.595Z"
   },
   {
    "duration": 0,
    "start_time": "2023-03-23T07:15:50.596Z"
   },
   {
    "duration": 0,
    "start_time": "2023-03-23T07:15:50.597Z"
   },
   {
    "duration": 0,
    "start_time": "2023-03-23T07:15:50.599Z"
   },
   {
    "duration": 0,
    "start_time": "2023-03-23T07:15:50.600Z"
   },
   {
    "duration": 0,
    "start_time": "2023-03-23T07:15:50.601Z"
   },
   {
    "duration": 5,
    "start_time": "2023-03-23T07:17:43.382Z"
   },
   {
    "duration": 4,
    "start_time": "2023-03-23T07:17:53.895Z"
   },
   {
    "duration": 50,
    "start_time": "2023-03-23T07:18:03.696Z"
   },
   {
    "duration": 3,
    "start_time": "2023-03-23T07:18:08.796Z"
   },
   {
    "duration": 10,
    "start_time": "2023-03-23T07:18:31.263Z"
   },
   {
    "duration": 13,
    "start_time": "2023-03-23T07:19:38.056Z"
   },
   {
    "duration": 33,
    "start_time": "2023-03-23T07:20:07.019Z"
   },
   {
    "duration": 11,
    "start_time": "2023-03-23T07:21:14.058Z"
   },
   {
    "duration": 6,
    "start_time": "2023-03-23T07:21:16.550Z"
   },
   {
    "duration": 21,
    "start_time": "2023-03-23T07:22:07.684Z"
   },
   {
    "duration": 3,
    "start_time": "2023-03-23T07:22:31.241Z"
   },
   {
    "duration": 5,
    "start_time": "2023-03-23T07:22:40.964Z"
   },
   {
    "duration": 3,
    "start_time": "2023-03-23T07:22:55.759Z"
   },
   {
    "duration": 13008,
    "start_time": "2023-03-23T07:23:11.976Z"
   },
   {
    "duration": 455,
    "start_time": "2023-03-23T07:23:37.460Z"
   },
   {
    "duration": 4,
    "start_time": "2023-03-23T07:24:53.135Z"
   },
   {
    "duration": 24,
    "start_time": "2023-03-23T07:24:56.935Z"
   },
   {
    "duration": 7294,
    "start_time": "2023-03-23T07:25:44.799Z"
   },
   {
    "duration": 3,
    "start_time": "2023-03-23T07:26:12.965Z"
   },
   {
    "duration": 4,
    "start_time": "2023-03-23T07:26:13.438Z"
   },
   {
    "duration": 1310,
    "start_time": "2023-03-23T07:26:53.332Z"
   },
   {
    "duration": 5,
    "start_time": "2023-03-23T07:38:04.446Z"
   },
   {
    "duration": 3,
    "start_time": "2023-03-23T07:38:10.855Z"
   },
   {
    "duration": 3,
    "start_time": "2023-03-23T07:38:16.532Z"
   },
   {
    "duration": 11,
    "start_time": "2023-03-23T07:39:18.635Z"
   },
   {
    "duration": 5,
    "start_time": "2023-03-23T07:40:44.187Z"
   },
   {
    "duration": 5,
    "start_time": "2023-03-23T07:44:07.683Z"
   },
   {
    "duration": 20,
    "start_time": "2023-03-23T07:47:52.230Z"
   },
   {
    "duration": 4,
    "start_time": "2023-03-23T07:49:27.526Z"
   },
   {
    "duration": 4,
    "start_time": "2023-03-23T07:49:40.881Z"
   },
   {
    "duration": 3,
    "start_time": "2023-03-23T07:49:53.443Z"
   },
   {
    "duration": 5,
    "start_time": "2023-03-23T07:50:06.477Z"
   },
   {
    "duration": 5,
    "start_time": "2023-03-23T07:50:17.587Z"
   },
   {
    "duration": 4,
    "start_time": "2023-03-23T07:50:19.851Z"
   },
   {
    "duration": 23,
    "start_time": "2023-03-23T07:50:20.335Z"
   },
   {
    "duration": 17,
    "start_time": "2023-03-23T07:51:08.050Z"
   },
   {
    "duration": 16,
    "start_time": "2023-03-23T07:51:49.145Z"
   },
   {
    "duration": 11,
    "start_time": "2023-03-23T07:52:01.655Z"
   },
   {
    "duration": 11,
    "start_time": "2023-03-23T07:52:22.334Z"
   },
   {
    "duration": 10,
    "start_time": "2023-03-23T07:52:35.644Z"
   },
   {
    "duration": 4,
    "start_time": "2023-03-23T07:52:52.135Z"
   },
   {
    "duration": 4,
    "start_time": "2023-03-23T07:52:53.259Z"
   },
   {
    "duration": 4,
    "start_time": "2023-03-23T07:56:46.854Z"
   },
   {
    "duration": 17,
    "start_time": "2023-03-23T07:56:47.838Z"
   },
   {
    "duration": 1804,
    "start_time": "2023-03-23T07:57:10.505Z"
   },
   {
    "duration": 37,
    "start_time": "2023-03-23T07:57:12.311Z"
   },
   {
    "duration": 12,
    "start_time": "2023-03-23T07:57:12.350Z"
   },
   {
    "duration": 5,
    "start_time": "2023-03-23T07:57:12.365Z"
   },
   {
    "duration": 11,
    "start_time": "2023-03-23T07:57:12.371Z"
   },
   {
    "duration": 1037,
    "start_time": "2023-03-23T07:57:12.384Z"
   },
   {
    "duration": 5,
    "start_time": "2023-03-23T07:57:13.422Z"
   },
   {
    "duration": 5,
    "start_time": "2023-03-23T07:57:13.429Z"
   },
   {
    "duration": 5,
    "start_time": "2023-03-23T07:57:13.436Z"
   },
   {
    "duration": 4,
    "start_time": "2023-03-23T07:57:13.444Z"
   },
   {
    "duration": 40,
    "start_time": "2023-03-23T07:57:13.450Z"
   },
   {
    "duration": 5,
    "start_time": "2023-03-23T07:57:13.492Z"
   },
   {
    "duration": 6,
    "start_time": "2023-03-23T07:57:13.498Z"
   },
   {
    "duration": 276,
    "start_time": "2023-03-23T07:57:13.505Z"
   },
   {
    "duration": 8,
    "start_time": "2023-03-23T07:57:13.783Z"
   },
   {
    "duration": 7,
    "start_time": "2023-03-23T07:57:13.792Z"
   },
   {
    "duration": 5,
    "start_time": "2023-03-23T07:57:13.800Z"
   },
   {
    "duration": 5,
    "start_time": "2023-03-23T07:57:13.806Z"
   },
   {
    "duration": 11,
    "start_time": "2023-03-23T07:57:13.813Z"
   },
   {
    "duration": 10,
    "start_time": "2023-03-23T07:57:13.826Z"
   },
   {
    "duration": 4,
    "start_time": "2023-03-23T07:57:13.838Z"
   },
   {
    "duration": 4,
    "start_time": "2023-03-23T07:57:13.844Z"
   },
   {
    "duration": 4,
    "start_time": "2023-03-23T07:57:13.850Z"
   },
   {
    "duration": 15218,
    "start_time": "2023-03-23T07:57:13.855Z"
   },
   {
    "duration": 462,
    "start_time": "2023-03-23T07:57:29.075Z"
   },
   {
    "duration": 5,
    "start_time": "2023-03-23T07:57:29.539Z"
   },
   {
    "duration": 10358,
    "start_time": "2023-03-23T07:57:29.546Z"
   },
   {
    "duration": 3,
    "start_time": "2023-03-23T07:57:39.907Z"
   },
   {
    "duration": 7,
    "start_time": "2023-03-23T07:57:39.912Z"
   },
   {
    "duration": 1456,
    "start_time": "2023-03-23T07:57:39.921Z"
   },
   {
    "duration": 4,
    "start_time": "2023-03-23T07:58:11.691Z"
   },
   {
    "duration": 3,
    "start_time": "2023-03-23T08:01:37.081Z"
   },
   {
    "duration": 3,
    "start_time": "2023-03-23T08:01:44.314Z"
   },
   {
    "duration": 4,
    "start_time": "2023-03-23T08:02:00.581Z"
   },
   {
    "duration": 3,
    "start_time": "2023-03-23T08:02:01.072Z"
   },
   {
    "duration": 13856,
    "start_time": "2023-03-23T08:02:01.515Z"
   },
   {
    "duration": 13921,
    "start_time": "2023-03-23T08:02:36.085Z"
   },
   {
    "duration": 495,
    "start_time": "2023-03-23T08:03:01.013Z"
   },
   {
    "duration": 4,
    "start_time": "2023-03-23T08:03:14.904Z"
   },
   {
    "duration": 85260,
    "start_time": "2023-03-23T08:03:18.032Z"
   },
   {
    "duration": 5,
    "start_time": "2023-03-23T08:05:05.043Z"
   },
   {
    "duration": 14153,
    "start_time": "2023-03-23T08:05:10.665Z"
   },
   {
    "duration": 14054,
    "start_time": "2023-03-23T08:05:48.694Z"
   },
   {
    "duration": 151,
    "start_time": "2023-03-23T08:16:55.740Z"
   },
   {
    "duration": 14,
    "start_time": "2023-03-23T08:17:27.596Z"
   },
   {
    "duration": 4,
    "start_time": "2023-03-23T08:17:34.873Z"
   },
   {
    "duration": 1970,
    "start_time": "2023-03-23T08:18:17.980Z"
   },
   {
    "duration": 38,
    "start_time": "2023-03-23T08:18:19.951Z"
   },
   {
    "duration": 13,
    "start_time": "2023-03-23T08:18:19.991Z"
   },
   {
    "duration": 8,
    "start_time": "2023-03-23T08:18:20.006Z"
   },
   {
    "duration": 14,
    "start_time": "2023-03-23T08:18:20.016Z"
   },
   {
    "duration": 1041,
    "start_time": "2023-03-23T08:18:20.032Z"
   },
   {
    "duration": 4,
    "start_time": "2023-03-23T08:18:21.074Z"
   },
   {
    "duration": 161,
    "start_time": "2023-03-23T08:18:35.797Z"
   },
   {
    "duration": 18,
    "start_time": "2023-03-23T08:18:48.240Z"
   },
   {
    "duration": 5,
    "start_time": "2023-03-23T08:20:23.828Z"
   },
   {
    "duration": 30,
    "start_time": "2023-03-23T08:20:35.777Z"
   },
   {
    "duration": 1852,
    "start_time": "2023-03-23T08:21:44.440Z"
   },
   {
    "duration": 37,
    "start_time": "2023-03-23T08:21:46.294Z"
   },
   {
    "duration": 11,
    "start_time": "2023-03-23T08:21:46.333Z"
   },
   {
    "duration": 12,
    "start_time": "2023-03-23T08:21:46.345Z"
   },
   {
    "duration": 10,
    "start_time": "2023-03-23T08:21:46.359Z"
   },
   {
    "duration": 1046,
    "start_time": "2023-03-23T08:21:46.371Z"
   },
   {
    "duration": 5,
    "start_time": "2023-03-23T08:21:47.419Z"
   },
   {
    "duration": 7,
    "start_time": "2023-03-23T08:21:47.426Z"
   },
   {
    "duration": 13,
    "start_time": "2023-03-23T08:21:57.274Z"
   },
   {
    "duration": 153,
    "start_time": "2023-03-23T08:22:23.296Z"
   },
   {
    "duration": 3,
    "start_time": "2023-03-23T08:23:42.089Z"
   },
   {
    "duration": 4,
    "start_time": "2023-03-23T08:23:51.352Z"
   },
   {
    "duration": 4,
    "start_time": "2023-03-23T08:24:01.075Z"
   },
   {
    "duration": 4,
    "start_time": "2023-03-23T08:24:02.932Z"
   },
   {
    "duration": 1914,
    "start_time": "2023-03-23T08:24:19.531Z"
   },
   {
    "duration": 38,
    "start_time": "2023-03-23T08:24:21.447Z"
   },
   {
    "duration": 13,
    "start_time": "2023-03-23T08:24:21.487Z"
   },
   {
    "duration": 5,
    "start_time": "2023-03-23T08:24:21.503Z"
   },
   {
    "duration": 4,
    "start_time": "2023-03-23T08:24:21.510Z"
   },
   {
    "duration": 1012,
    "start_time": "2023-03-23T08:24:21.515Z"
   },
   {
    "duration": 4,
    "start_time": "2023-03-23T08:24:22.529Z"
   },
   {
    "duration": 4,
    "start_time": "2023-03-23T08:24:26.257Z"
   },
   {
    "duration": 4,
    "start_time": "2023-03-23T08:24:27.633Z"
   },
   {
    "duration": 5,
    "start_time": "2023-03-23T08:24:28.626Z"
   },
   {
    "duration": 8,
    "start_time": "2023-03-23T08:24:36.002Z"
   },
   {
    "duration": 5,
    "start_time": "2023-03-23T08:25:25.342Z"
   },
   {
    "duration": 5,
    "start_time": "2023-03-23T08:26:14.465Z"
   },
   {
    "duration": 6,
    "start_time": "2023-03-23T08:26:28.548Z"
   },
   {
    "duration": 42,
    "start_time": "2023-03-23T08:26:28.557Z"
   },
   {
    "duration": 41,
    "start_time": "2023-03-23T08:26:28.601Z"
   },
   {
    "duration": 67,
    "start_time": "2023-03-23T08:26:28.644Z"
   },
   {
    "duration": 43,
    "start_time": "2023-03-23T08:26:28.715Z"
   },
   {
    "duration": 51,
    "start_time": "2023-03-23T08:26:28.760Z"
   },
   {
    "duration": 23,
    "start_time": "2023-03-23T08:26:28.813Z"
   },
   {
    "duration": 293,
    "start_time": "2023-03-23T08:26:28.838Z"
   },
   {
    "duration": 149,
    "start_time": "2023-03-23T08:26:29.133Z"
   },
   {
    "duration": 0,
    "start_time": "2023-03-23T08:26:29.284Z"
   },
   {
    "duration": 0,
    "start_time": "2023-03-23T08:26:29.289Z"
   },
   {
    "duration": 0,
    "start_time": "2023-03-23T08:26:29.290Z"
   },
   {
    "duration": 0,
    "start_time": "2023-03-23T08:26:29.291Z"
   },
   {
    "duration": 0,
    "start_time": "2023-03-23T08:26:29.292Z"
   },
   {
    "duration": 0,
    "start_time": "2023-03-23T08:26:29.293Z"
   },
   {
    "duration": 0,
    "start_time": "2023-03-23T08:26:29.294Z"
   },
   {
    "duration": 0,
    "start_time": "2023-03-23T08:26:29.295Z"
   },
   {
    "duration": 0,
    "start_time": "2023-03-23T08:26:29.296Z"
   },
   {
    "duration": 0,
    "start_time": "2023-03-23T08:26:29.297Z"
   },
   {
    "duration": 0,
    "start_time": "2023-03-23T08:26:29.298Z"
   },
   {
    "duration": 0,
    "start_time": "2023-03-23T08:26:29.299Z"
   },
   {
    "duration": 0,
    "start_time": "2023-03-23T08:26:29.300Z"
   },
   {
    "duration": 0,
    "start_time": "2023-03-23T08:26:29.302Z"
   },
   {
    "duration": 0,
    "start_time": "2023-03-23T08:26:29.303Z"
   },
   {
    "duration": 0,
    "start_time": "2023-03-23T08:26:29.304Z"
   },
   {
    "duration": 5,
    "start_time": "2023-03-23T08:26:39.556Z"
   },
   {
    "duration": 6,
    "start_time": "2023-03-23T08:26:41.578Z"
   },
   {
    "duration": 4,
    "start_time": "2023-03-23T08:26:42.070Z"
   },
   {
    "duration": 3,
    "start_time": "2023-03-23T08:26:48.130Z"
   },
   {
    "duration": 21,
    "start_time": "2023-03-23T08:26:48.930Z"
   },
   {
    "duration": 2,
    "start_time": "2023-03-23T08:27:04.935Z"
   },
   {
    "duration": 12,
    "start_time": "2023-03-23T08:27:05.435Z"
   },
   {
    "duration": 13,
    "start_time": "2023-03-23T08:27:06.455Z"
   },
   {
    "duration": 5,
    "start_time": "2023-03-23T08:27:08.334Z"
   },
   {
    "duration": 3,
    "start_time": "2023-03-23T08:27:09.972Z"
   },
   {
    "duration": 4,
    "start_time": "2023-03-23T08:27:10.681Z"
   },
   {
    "duration": 3,
    "start_time": "2023-03-23T08:27:11.416Z"
   },
   {
    "duration": 30,
    "start_time": "2023-03-23T08:27:12.335Z"
   },
   {
    "duration": 12985,
    "start_time": "2023-03-23T08:27:53.564Z"
   },
   {
    "duration": 370,
    "start_time": "2023-03-23T08:28:18.827Z"
   },
   {
    "duration": 5,
    "start_time": "2023-03-23T08:28:28.754Z"
   },
   {
    "duration": 74899,
    "start_time": "2023-03-23T08:28:29.591Z"
   },
   {
    "duration": 70571,
    "start_time": "2023-03-23T12:55:45.024Z"
   },
   {
    "duration": 1759,
    "start_time": "2023-03-23T12:57:29.239Z"
   },
   {
    "duration": 462,
    "start_time": "2023-03-23T12:57:51.360Z"
   },
   {
    "duration": 413,
    "start_time": "2023-03-23T12:58:27.551Z"
   },
   {
    "duration": 400,
    "start_time": "2023-03-23T12:59:08.633Z"
   },
   {
    "duration": 35,
    "start_time": "2023-03-23T12:59:48.529Z"
   },
   {
    "duration": 12763,
    "start_time": "2023-03-23T13:00:14.151Z"
   },
   {
    "duration": 2291,
    "start_time": "2023-03-23T13:00:33.027Z"
   },
   {
    "duration": 11415,
    "start_time": "2023-03-23T13:01:19.608Z"
   },
   {
    "duration": 1745,
    "start_time": "2023-03-23T13:01:34.347Z"
   },
   {
    "duration": 4,
    "start_time": "2023-03-23T13:03:55.834Z"
   },
   {
    "duration": 26,
    "start_time": "2023-03-23T13:05:20.212Z"
   },
   {
    "duration": 24,
    "start_time": "2023-03-23T13:05:32.180Z"
   },
   {
    "duration": 1724,
    "start_time": "2023-03-23T13:06:19.968Z"
   },
   {
    "duration": 6,
    "start_time": "2023-03-23T13:06:30.006Z"
   },
   {
    "duration": 4,
    "start_time": "2023-03-23T13:06:35.551Z"
   },
   {
    "duration": 5,
    "start_time": "2023-03-23T13:06:45.506Z"
   },
   {
    "duration": 17,
    "start_time": "2023-03-23T13:07:46.521Z"
   },
   {
    "duration": 7,
    "start_time": "2023-03-23T13:08:16.242Z"
   },
   {
    "duration": 1809,
    "start_time": "2023-03-23T13:12:24.983Z"
   },
   {
    "duration": 39,
    "start_time": "2023-03-23T13:12:26.794Z"
   },
   {
    "duration": 13,
    "start_time": "2023-03-23T13:12:26.834Z"
   },
   {
    "duration": 9,
    "start_time": "2023-03-23T13:12:26.849Z"
   },
   {
    "duration": 5,
    "start_time": "2023-03-23T13:12:26.860Z"
   },
   {
    "duration": 1014,
    "start_time": "2023-03-23T13:12:26.867Z"
   },
   {
    "duration": 4,
    "start_time": "2023-03-23T13:12:27.890Z"
   },
   {
    "duration": 20,
    "start_time": "2023-03-23T13:12:27.897Z"
   },
   {
    "duration": 7,
    "start_time": "2023-03-23T13:12:27.919Z"
   },
   {
    "duration": 9,
    "start_time": "2023-03-23T13:12:27.930Z"
   },
   {
    "duration": 21,
    "start_time": "2023-03-23T13:12:27.941Z"
   },
   {
    "duration": 12,
    "start_time": "2023-03-23T13:12:27.965Z"
   },
   {
    "duration": 22,
    "start_time": "2023-03-23T13:12:27.979Z"
   },
   {
    "duration": 11,
    "start_time": "2023-03-23T13:12:28.003Z"
   },
   {
    "duration": 7,
    "start_time": "2023-03-23T13:12:28.016Z"
   },
   {
    "duration": 6,
    "start_time": "2023-03-23T13:12:28.025Z"
   },
   {
    "duration": 17,
    "start_time": "2023-03-23T13:12:28.032Z"
   },
   {
    "duration": 18,
    "start_time": "2023-03-23T13:12:28.051Z"
   },
   {
    "duration": 355,
    "start_time": "2023-03-23T13:12:28.071Z"
   },
   {
    "duration": 4,
    "start_time": "2023-03-23T13:12:28.428Z"
   },
   {
    "duration": 9,
    "start_time": "2023-03-23T13:12:28.433Z"
   },
   {
    "duration": 47,
    "start_time": "2023-03-23T13:12:28.443Z"
   },
   {
    "duration": 3,
    "start_time": "2023-03-23T13:12:28.492Z"
   },
   {
    "duration": 16,
    "start_time": "2023-03-23T13:12:28.497Z"
   },
   {
    "duration": 17,
    "start_time": "2023-03-23T13:12:28.515Z"
   },
   {
    "duration": 22,
    "start_time": "2023-03-23T13:12:28.534Z"
   },
   {
    "duration": 16,
    "start_time": "2023-03-23T13:12:28.558Z"
   },
   {
    "duration": 5,
    "start_time": "2023-03-23T13:12:28.578Z"
   },
   {
    "duration": 7,
    "start_time": "2023-03-23T13:12:28.584Z"
   },
   {
    "duration": 403,
    "start_time": "2023-03-23T13:12:28.593Z"
   },
   {
    "duration": 391,
    "start_time": "2023-03-23T13:12:28.998Z"
   },
   {
    "duration": 4,
    "start_time": "2023-03-23T13:12:29.391Z"
   },
   {
    "duration": 1796,
    "start_time": "2023-03-23T13:12:29.397Z"
   },
   {
    "duration": 3,
    "start_time": "2023-03-23T13:12:31.194Z"
   },
   {
    "duration": 29,
    "start_time": "2023-03-23T13:12:31.199Z"
   },
   {
    "duration": 379,
    "start_time": "2023-03-23T13:12:31.230Z"
   },
   {
    "duration": 7,
    "start_time": "2023-03-23T13:12:31.612Z"
   },
   {
    "duration": 5,
    "start_time": "2023-03-23T13:19:59.643Z"
   },
   {
    "duration": 1976,
    "start_time": "2023-03-23T13:21:11.491Z"
   },
   {
    "duration": 39,
    "start_time": "2023-03-23T13:21:13.469Z"
   },
   {
    "duration": 12,
    "start_time": "2023-03-23T13:21:13.510Z"
   },
   {
    "duration": 5,
    "start_time": "2023-03-23T13:21:13.524Z"
   },
   {
    "duration": 9,
    "start_time": "2023-03-23T13:21:13.532Z"
   },
   {
    "duration": 1065,
    "start_time": "2023-03-23T13:21:13.543Z"
   },
   {
    "duration": 5,
    "start_time": "2023-03-23T13:21:14.610Z"
   },
   {
    "duration": 7,
    "start_time": "2023-03-23T13:21:14.617Z"
   },
   {
    "duration": 8,
    "start_time": "2023-03-23T13:21:14.625Z"
   },
   {
    "duration": 11,
    "start_time": "2023-03-23T13:21:14.636Z"
   },
   {
    "duration": 8,
    "start_time": "2023-03-23T13:21:14.649Z"
   },
   {
    "duration": 10,
    "start_time": "2023-03-23T13:21:14.658Z"
   },
   {
    "duration": 23,
    "start_time": "2023-03-23T13:21:14.670Z"
   },
   {
    "duration": 4,
    "start_time": "2023-03-23T13:21:14.698Z"
   },
   {
    "duration": 11,
    "start_time": "2023-03-23T13:21:14.704Z"
   },
   {
    "duration": 5,
    "start_time": "2023-03-23T13:21:14.716Z"
   },
   {
    "duration": 9,
    "start_time": "2023-03-23T13:21:14.722Z"
   },
   {
    "duration": 31,
    "start_time": "2023-03-23T13:21:14.732Z"
   },
   {
    "duration": 7,
    "start_time": "2023-03-23T13:21:14.765Z"
   },
   {
    "duration": 302,
    "start_time": "2023-03-23T13:21:14.774Z"
   },
   {
    "duration": 12,
    "start_time": "2023-03-23T13:21:15.079Z"
   },
   {
    "duration": 12,
    "start_time": "2023-03-23T13:21:15.094Z"
   },
   {
    "duration": 5,
    "start_time": "2023-03-23T13:21:15.108Z"
   },
   {
    "duration": 9,
    "start_time": "2023-03-23T13:21:15.115Z"
   },
   {
    "duration": 14,
    "start_time": "2023-03-23T13:21:15.126Z"
   },
   {
    "duration": 13,
    "start_time": "2023-03-23T13:21:15.142Z"
   },
   {
    "duration": 5,
    "start_time": "2023-03-23T13:21:15.157Z"
   },
   {
    "duration": 26,
    "start_time": "2023-03-23T13:21:15.163Z"
   },
   {
    "duration": 6,
    "start_time": "2023-03-23T13:21:15.192Z"
   },
   {
    "duration": 4,
    "start_time": "2023-03-23T13:21:15.200Z"
   },
   {
    "duration": 344,
    "start_time": "2023-03-23T13:21:15.206Z"
   },
   {
    "duration": 359,
    "start_time": "2023-03-23T13:21:15.552Z"
   },
   {
    "duration": 5,
    "start_time": "2023-03-23T13:21:15.913Z"
   },
   {
    "duration": 1875,
    "start_time": "2023-03-23T13:21:15.919Z"
   },
   {
    "duration": 3,
    "start_time": "2023-03-23T13:21:17.795Z"
   },
   {
    "duration": 5,
    "start_time": "2023-03-23T13:21:17.800Z"
   },
   {
    "duration": 349,
    "start_time": "2023-03-23T13:21:17.807Z"
   },
   {
    "duration": 9,
    "start_time": "2023-03-23T13:25:23.619Z"
   },
   {
    "duration": 8,
    "start_time": "2023-03-23T13:25:43.856Z"
   },
   {
    "duration": 2013,
    "start_time": "2023-03-23T13:26:14.842Z"
   },
   {
    "duration": 41,
    "start_time": "2023-03-23T13:26:16.857Z"
   },
   {
    "duration": 15,
    "start_time": "2023-03-23T13:26:16.901Z"
   },
   {
    "duration": 10,
    "start_time": "2023-03-23T13:26:16.918Z"
   },
   {
    "duration": 8,
    "start_time": "2023-03-23T13:26:16.929Z"
   },
   {
    "duration": 1082,
    "start_time": "2023-03-23T13:26:16.938Z"
   },
   {
    "duration": 4,
    "start_time": "2023-03-23T13:26:18.021Z"
   },
   {
    "duration": 11,
    "start_time": "2023-03-23T13:26:18.027Z"
   },
   {
    "duration": 12,
    "start_time": "2023-03-23T13:26:18.040Z"
   },
   {
    "duration": 7,
    "start_time": "2023-03-23T13:26:18.054Z"
   },
   {
    "duration": 29,
    "start_time": "2023-03-23T13:26:18.062Z"
   },
   {
    "duration": 12,
    "start_time": "2023-03-23T13:26:18.093Z"
   },
   {
    "duration": 5,
    "start_time": "2023-03-23T13:26:18.106Z"
   },
   {
    "duration": 5,
    "start_time": "2023-03-23T13:26:18.113Z"
   },
   {
    "duration": 7,
    "start_time": "2023-03-23T13:26:18.119Z"
   },
   {
    "duration": 17,
    "start_time": "2023-03-23T13:26:18.128Z"
   },
   {
    "duration": 7,
    "start_time": "2023-03-23T13:26:18.147Z"
   },
   {
    "duration": 12,
    "start_time": "2023-03-23T13:26:18.155Z"
   },
   {
    "duration": 21,
    "start_time": "2023-03-23T13:26:18.169Z"
   },
   {
    "duration": 7,
    "start_time": "2023-03-23T13:26:18.192Z"
   },
   {
    "duration": 30,
    "start_time": "2023-03-23T13:26:18.201Z"
   },
   {
    "duration": 392,
    "start_time": "2023-03-23T13:26:18.233Z"
   },
   {
    "duration": 5,
    "start_time": "2023-03-23T13:26:18.631Z"
   },
   {
    "duration": 12,
    "start_time": "2023-03-23T13:26:18.639Z"
   },
   {
    "duration": 15,
    "start_time": "2023-03-23T13:26:18.653Z"
   },
   {
    "duration": 12,
    "start_time": "2023-03-23T13:26:18.670Z"
   },
   {
    "duration": 18,
    "start_time": "2023-03-23T13:26:18.684Z"
   },
   {
    "duration": 16,
    "start_time": "2023-03-23T13:26:18.707Z"
   },
   {
    "duration": 5,
    "start_time": "2023-03-23T13:26:18.726Z"
   },
   {
    "duration": 4,
    "start_time": "2023-03-23T13:26:18.733Z"
   },
   {
    "duration": 12,
    "start_time": "2023-03-23T13:26:18.739Z"
   },
   {
    "duration": 10,
    "start_time": "2023-03-23T13:26:18.754Z"
   },
   {
    "duration": 401,
    "start_time": "2023-03-23T13:26:18.791Z"
   },
   {
    "duration": 433,
    "start_time": "2023-03-23T13:26:19.194Z"
   },
   {
    "duration": 4,
    "start_time": "2023-03-23T13:26:19.629Z"
   },
   {
    "duration": 1863,
    "start_time": "2023-03-23T13:26:19.635Z"
   },
   {
    "duration": 3,
    "start_time": "2023-03-23T13:26:21.500Z"
   },
   {
    "duration": 16,
    "start_time": "2023-03-23T13:26:21.504Z"
   },
   {
    "duration": 384,
    "start_time": "2023-03-23T13:26:21.522Z"
   },
   {
    "duration": 5,
    "start_time": "2023-03-23T13:29:37.279Z"
   },
   {
    "duration": 511,
    "start_time": "2023-03-23T13:29:46.429Z"
   },
   {
    "duration": 5,
    "start_time": "2023-03-23T13:29:54.298Z"
   },
   {
    "duration": 1769,
    "start_time": "2023-03-23T13:29:54.741Z"
   },
   {
    "duration": 365,
    "start_time": "2023-03-23T13:30:05.346Z"
   },
   {
    "duration": 2,
    "start_time": "2023-03-23T13:30:15.804Z"
   },
   {
    "duration": 4,
    "start_time": "2023-03-23T13:30:16.229Z"
   },
   {
    "duration": 329,
    "start_time": "2023-03-23T13:30:16.652Z"
   },
   {
    "duration": 389,
    "start_time": "2023-03-23T13:30:26.880Z"
   },
   {
    "duration": 5,
    "start_time": "2023-03-23T13:32:35.338Z"
   },
   {
    "duration": 1756,
    "start_time": "2023-03-23T13:32:54.829Z"
   },
   {
    "duration": 40,
    "start_time": "2023-03-23T13:32:56.588Z"
   },
   {
    "duration": 25,
    "start_time": "2023-03-23T13:32:56.630Z"
   },
   {
    "duration": 5,
    "start_time": "2023-03-23T13:32:56.658Z"
   },
   {
    "duration": 6,
    "start_time": "2023-03-23T13:32:56.665Z"
   },
   {
    "duration": 1028,
    "start_time": "2023-03-23T13:32:56.672Z"
   },
   {
    "duration": 4,
    "start_time": "2023-03-23T13:32:57.702Z"
   },
   {
    "duration": 4,
    "start_time": "2023-03-23T13:32:57.708Z"
   },
   {
    "duration": 7,
    "start_time": "2023-03-23T13:32:57.714Z"
   },
   {
    "duration": 8,
    "start_time": "2023-03-23T13:32:57.723Z"
   },
   {
    "duration": 5,
    "start_time": "2023-03-23T13:32:57.732Z"
   },
   {
    "duration": 5,
    "start_time": "2023-03-23T13:32:57.739Z"
   },
   {
    "duration": 3,
    "start_time": "2023-03-23T13:32:57.746Z"
   },
   {
    "duration": 39,
    "start_time": "2023-03-23T13:32:57.751Z"
   },
   {
    "duration": 5,
    "start_time": "2023-03-23T13:32:57.792Z"
   },
   {
    "duration": 6,
    "start_time": "2023-03-23T13:32:57.798Z"
   },
   {
    "duration": 5,
    "start_time": "2023-03-23T13:32:57.806Z"
   },
   {
    "duration": 5,
    "start_time": "2023-03-23T13:32:57.812Z"
   },
   {
    "duration": 4,
    "start_time": "2023-03-23T13:32:57.819Z"
   },
   {
    "duration": 4,
    "start_time": "2023-03-23T13:32:57.824Z"
   },
   {
    "duration": 325,
    "start_time": "2023-03-23T13:32:57.830Z"
   },
   {
    "duration": 5,
    "start_time": "2023-03-23T13:32:58.156Z"
   },
   {
    "duration": 12,
    "start_time": "2023-03-23T13:32:58.162Z"
   },
   {
    "duration": 15,
    "start_time": "2023-03-23T13:32:58.175Z"
   },
   {
    "duration": 3,
    "start_time": "2023-03-23T13:32:58.192Z"
   },
   {
    "duration": 16,
    "start_time": "2023-03-23T13:32:58.196Z"
   },
   {
    "duration": 16,
    "start_time": "2023-03-23T13:32:58.214Z"
   },
   {
    "duration": 4,
    "start_time": "2023-03-23T13:32:58.234Z"
   },
   {
    "duration": 9,
    "start_time": "2023-03-23T13:32:58.240Z"
   },
   {
    "duration": 22,
    "start_time": "2023-03-23T13:32:58.251Z"
   },
   {
    "duration": 14,
    "start_time": "2023-03-23T13:32:58.275Z"
   },
   {
    "duration": 344,
    "start_time": "2023-03-23T13:32:58.291Z"
   },
   {
    "duration": 5,
    "start_time": "2023-03-23T13:32:58.637Z"
   },
   {
    "duration": 408,
    "start_time": "2023-03-23T13:32:58.643Z"
   },
   {
    "duration": 4,
    "start_time": "2023-03-23T13:32:59.053Z"
   },
   {
    "duration": 1649,
    "start_time": "2023-03-23T13:32:59.059Z"
   },
   {
    "duration": 502,
    "start_time": "2023-03-23T13:33:00.710Z"
   },
   {
    "duration": 4,
    "start_time": "2023-03-23T13:33:01.214Z"
   },
   {
    "duration": 341,
    "start_time": "2023-03-23T13:33:01.219Z"
   },
   {
    "duration": 327,
    "start_time": "2023-03-23T13:33:01.562Z"
   },
   {
    "duration": 5,
    "start_time": "2023-03-23T13:36:33.619Z"
   },
   {
    "duration": 16,
    "start_time": "2023-03-23T13:36:37.358Z"
   },
   {
    "duration": 4,
    "start_time": "2023-03-23T13:37:14.927Z"
   },
   {
    "duration": 3,
    "start_time": "2023-03-23T13:37:47.679Z"
   },
   {
    "duration": 4,
    "start_time": "2023-03-23T13:37:53.586Z"
   },
   {
    "duration": 1852,
    "start_time": "2023-03-23T13:38:03.399Z"
   },
   {
    "duration": 38,
    "start_time": "2023-03-23T13:38:05.253Z"
   },
   {
    "duration": 11,
    "start_time": "2023-03-23T13:38:05.292Z"
   },
   {
    "duration": 7,
    "start_time": "2023-03-23T13:38:05.305Z"
   },
   {
    "duration": 8,
    "start_time": "2023-03-23T13:38:05.313Z"
   },
   {
    "duration": 1002,
    "start_time": "2023-03-23T13:38:05.322Z"
   },
   {
    "duration": 4,
    "start_time": "2023-03-23T13:38:06.326Z"
   },
   {
    "duration": 18,
    "start_time": "2023-03-23T13:38:06.331Z"
   },
   {
    "duration": 10,
    "start_time": "2023-03-23T13:38:06.350Z"
   },
   {
    "duration": 13,
    "start_time": "2023-03-23T13:38:06.363Z"
   },
   {
    "duration": 11,
    "start_time": "2023-03-23T13:38:06.378Z"
   },
   {
    "duration": 12,
    "start_time": "2023-03-23T13:38:06.390Z"
   },
   {
    "duration": 15,
    "start_time": "2023-03-23T13:38:06.404Z"
   },
   {
    "duration": 131,
    "start_time": "2023-03-23T13:38:06.421Z"
   },
   {
    "duration": 1,
    "start_time": "2023-03-23T13:38:06.554Z"
   },
   {
    "duration": 0,
    "start_time": "2023-03-23T13:38:06.556Z"
   },
   {
    "duration": 0,
    "start_time": "2023-03-23T13:38:06.557Z"
   },
   {
    "duration": 0,
    "start_time": "2023-03-23T13:38:06.558Z"
   },
   {
    "duration": 0,
    "start_time": "2023-03-23T13:38:06.560Z"
   },
   {
    "duration": 0,
    "start_time": "2023-03-23T13:38:06.561Z"
   },
   {
    "duration": 0,
    "start_time": "2023-03-23T13:38:06.563Z"
   },
   {
    "duration": 0,
    "start_time": "2023-03-23T13:38:06.564Z"
   },
   {
    "duration": 0,
    "start_time": "2023-03-23T13:38:06.566Z"
   },
   {
    "duration": 0,
    "start_time": "2023-03-23T13:38:06.567Z"
   },
   {
    "duration": 0,
    "start_time": "2023-03-23T13:38:06.588Z"
   },
   {
    "duration": 0,
    "start_time": "2023-03-23T13:38:06.590Z"
   },
   {
    "duration": 0,
    "start_time": "2023-03-23T13:38:06.591Z"
   },
   {
    "duration": 0,
    "start_time": "2023-03-23T13:38:06.592Z"
   },
   {
    "duration": 0,
    "start_time": "2023-03-23T13:38:06.592Z"
   },
   {
    "duration": 0,
    "start_time": "2023-03-23T13:38:06.594Z"
   },
   {
    "duration": 0,
    "start_time": "2023-03-23T13:38:06.594Z"
   },
   {
    "duration": 0,
    "start_time": "2023-03-23T13:38:06.595Z"
   },
   {
    "duration": 0,
    "start_time": "2023-03-23T13:38:06.596Z"
   },
   {
    "duration": 0,
    "start_time": "2023-03-23T13:38:06.597Z"
   },
   {
    "duration": 0,
    "start_time": "2023-03-23T13:38:06.598Z"
   },
   {
    "duration": 0,
    "start_time": "2023-03-23T13:38:06.599Z"
   },
   {
    "duration": 0,
    "start_time": "2023-03-23T13:38:06.601Z"
   },
   {
    "duration": 0,
    "start_time": "2023-03-23T13:38:06.602Z"
   },
   {
    "duration": 0,
    "start_time": "2023-03-23T13:38:06.603Z"
   },
   {
    "duration": 0,
    "start_time": "2023-03-23T13:38:06.604Z"
   },
   {
    "duration": 0,
    "start_time": "2023-03-23T13:38:06.606Z"
   },
   {
    "duration": 0,
    "start_time": "2023-03-23T13:38:06.606Z"
   },
   {
    "duration": 1833,
    "start_time": "2023-03-23T13:38:44.190Z"
   },
   {
    "duration": 43,
    "start_time": "2023-03-23T13:38:46.026Z"
   },
   {
    "duration": 13,
    "start_time": "2023-03-23T13:38:46.070Z"
   },
   {
    "duration": 12,
    "start_time": "2023-03-23T13:38:46.085Z"
   },
   {
    "duration": 9,
    "start_time": "2023-03-23T13:38:46.099Z"
   },
   {
    "duration": 1007,
    "start_time": "2023-03-23T13:38:46.109Z"
   },
   {
    "duration": 4,
    "start_time": "2023-03-23T13:38:47.118Z"
   },
   {
    "duration": 9,
    "start_time": "2023-03-23T13:38:47.123Z"
   },
   {
    "duration": 8,
    "start_time": "2023-03-23T13:38:47.134Z"
   },
   {
    "duration": 10,
    "start_time": "2023-03-23T13:38:47.145Z"
   },
   {
    "duration": 3,
    "start_time": "2023-03-23T13:38:47.156Z"
   },
   {
    "duration": 4,
    "start_time": "2023-03-23T13:38:47.160Z"
   },
   {
    "duration": 30,
    "start_time": "2023-03-23T13:38:47.166Z"
   },
   {
    "duration": 6,
    "start_time": "2023-03-23T13:38:47.198Z"
   },
   {
    "duration": 12,
    "start_time": "2023-03-23T13:38:47.206Z"
   },
   {
    "duration": 17,
    "start_time": "2023-03-23T13:38:47.220Z"
   },
   {
    "duration": 7,
    "start_time": "2023-03-23T13:38:47.239Z"
   },
   {
    "duration": 10,
    "start_time": "2023-03-23T13:38:47.248Z"
   },
   {
    "duration": 10,
    "start_time": "2023-03-23T13:38:47.260Z"
   },
   {
    "duration": 11,
    "start_time": "2023-03-23T13:38:47.272Z"
   },
   {
    "duration": 6,
    "start_time": "2023-03-23T13:38:47.284Z"
   },
   {
    "duration": 432,
    "start_time": "2023-03-23T13:38:47.292Z"
   },
   {
    "duration": 4,
    "start_time": "2023-03-23T13:38:47.726Z"
   },
   {
    "duration": 10,
    "start_time": "2023-03-23T13:38:47.732Z"
   },
   {
    "duration": 13,
    "start_time": "2023-03-23T13:38:47.743Z"
   },
   {
    "duration": 9,
    "start_time": "2023-03-23T13:38:47.758Z"
   },
   {
    "duration": 34,
    "start_time": "2023-03-23T13:38:47.768Z"
   },
   {
    "duration": 20,
    "start_time": "2023-03-23T13:38:47.806Z"
   },
   {
    "duration": 7,
    "start_time": "2023-03-23T13:38:47.829Z"
   },
   {
    "duration": 3,
    "start_time": "2023-03-23T13:38:47.838Z"
   },
   {
    "duration": 5,
    "start_time": "2023-03-23T13:38:47.843Z"
   },
   {
    "duration": 6,
    "start_time": "2023-03-23T13:38:47.850Z"
   },
   {
    "duration": 332,
    "start_time": "2023-03-23T13:38:47.857Z"
   },
   {
    "duration": 4,
    "start_time": "2023-03-23T13:38:48.191Z"
   },
   {
    "duration": 427,
    "start_time": "2023-03-23T13:38:48.197Z"
   },
   {
    "duration": 5,
    "start_time": "2023-03-23T13:38:48.626Z"
   },
   {
    "duration": 1880,
    "start_time": "2023-03-23T13:38:48.633Z"
   },
   {
    "duration": 337,
    "start_time": "2023-03-23T13:38:50.590Z"
   },
   {
    "duration": 4,
    "start_time": "2023-03-23T13:38:50.929Z"
   },
   {
    "duration": 304,
    "start_time": "2023-03-23T13:38:50.935Z"
   },
   {
    "duration": 324,
    "start_time": "2023-03-23T13:38:51.241Z"
   },
   {
    "duration": 2028,
    "start_time": "2023-03-23T13:42:27.701Z"
   },
   {
    "duration": 39,
    "start_time": "2023-03-23T13:42:29.731Z"
   },
   {
    "duration": 13,
    "start_time": "2023-03-23T13:42:29.773Z"
   },
   {
    "duration": 6,
    "start_time": "2023-03-23T13:42:29.789Z"
   },
   {
    "duration": 7,
    "start_time": "2023-03-23T13:42:29.796Z"
   },
   {
    "duration": 1073,
    "start_time": "2023-03-23T13:42:29.805Z"
   },
   {
    "duration": 10,
    "start_time": "2023-03-23T13:42:30.880Z"
   },
   {
    "duration": 30,
    "start_time": "2023-03-23T13:42:30.892Z"
   },
   {
    "duration": 51,
    "start_time": "2023-03-23T13:42:30.924Z"
   },
   {
    "duration": 30,
    "start_time": "2023-03-23T13:42:30.979Z"
   },
   {
    "duration": 934,
    "start_time": "2023-03-23T13:42:31.010Z"
   },
   {
    "duration": 0,
    "start_time": "2023-03-23T13:42:31.948Z"
   },
   {
    "duration": 0,
    "start_time": "2023-03-23T13:42:31.950Z"
   },
   {
    "duration": 0,
    "start_time": "2023-03-23T13:42:31.951Z"
   },
   {
    "duration": 0,
    "start_time": "2023-03-23T13:42:31.952Z"
   },
   {
    "duration": 0,
    "start_time": "2023-03-23T13:42:31.953Z"
   },
   {
    "duration": 0,
    "start_time": "2023-03-23T13:42:31.954Z"
   },
   {
    "duration": 0,
    "start_time": "2023-03-23T13:42:31.955Z"
   },
   {
    "duration": 0,
    "start_time": "2023-03-23T13:42:31.956Z"
   },
   {
    "duration": 0,
    "start_time": "2023-03-23T13:42:31.957Z"
   },
   {
    "duration": 0,
    "start_time": "2023-03-23T13:42:31.958Z"
   },
   {
    "duration": 0,
    "start_time": "2023-03-23T13:42:31.959Z"
   },
   {
    "duration": 0,
    "start_time": "2023-03-23T13:42:31.960Z"
   },
   {
    "duration": 0,
    "start_time": "2023-03-23T13:42:31.961Z"
   },
   {
    "duration": 0,
    "start_time": "2023-03-23T13:42:31.962Z"
   },
   {
    "duration": 0,
    "start_time": "2023-03-23T13:42:31.963Z"
   },
   {
    "duration": 1,
    "start_time": "2023-03-23T13:42:31.964Z"
   },
   {
    "duration": 0,
    "start_time": "2023-03-23T13:42:31.966Z"
   },
   {
    "duration": 0,
    "start_time": "2023-03-23T13:42:31.967Z"
   },
   {
    "duration": 0,
    "start_time": "2023-03-23T13:42:31.969Z"
   },
   {
    "duration": 0,
    "start_time": "2023-03-23T13:42:31.970Z"
   },
   {
    "duration": 0,
    "start_time": "2023-03-23T13:42:31.972Z"
   },
   {
    "duration": 0,
    "start_time": "2023-03-23T13:42:31.973Z"
   },
   {
    "duration": 0,
    "start_time": "2023-03-23T13:42:31.975Z"
   },
   {
    "duration": 0,
    "start_time": "2023-03-23T13:42:31.976Z"
   },
   {
    "duration": 0,
    "start_time": "2023-03-23T13:42:31.978Z"
   },
   {
    "duration": 0,
    "start_time": "2023-03-23T13:42:31.979Z"
   },
   {
    "duration": 0,
    "start_time": "2023-03-23T13:42:31.980Z"
   },
   {
    "duration": 0,
    "start_time": "2023-03-23T13:42:31.982Z"
   },
   {
    "duration": 7,
    "start_time": "2023-03-23T13:43:05.684Z"
   },
   {
    "duration": 874,
    "start_time": "2023-03-23T13:43:05.694Z"
   },
   {
    "duration": 0,
    "start_time": "2023-03-23T13:43:06.570Z"
   },
   {
    "duration": 0,
    "start_time": "2023-03-23T13:43:06.572Z"
   },
   {
    "duration": 0,
    "start_time": "2023-03-23T13:43:06.573Z"
   },
   {
    "duration": 0,
    "start_time": "2023-03-23T13:43:06.574Z"
   },
   {
    "duration": 0,
    "start_time": "2023-03-23T13:43:06.575Z"
   },
   {
    "duration": 0,
    "start_time": "2023-03-23T13:43:06.576Z"
   },
   {
    "duration": 0,
    "start_time": "2023-03-23T13:43:06.578Z"
   },
   {
    "duration": 0,
    "start_time": "2023-03-23T13:43:06.579Z"
   },
   {
    "duration": 0,
    "start_time": "2023-03-23T13:43:06.580Z"
   },
   {
    "duration": 0,
    "start_time": "2023-03-23T13:43:06.581Z"
   },
   {
    "duration": 0,
    "start_time": "2023-03-23T13:43:06.583Z"
   },
   {
    "duration": 0,
    "start_time": "2023-03-23T13:43:06.584Z"
   },
   {
    "duration": 0,
    "start_time": "2023-03-23T13:43:06.585Z"
   },
   {
    "duration": 0,
    "start_time": "2023-03-23T13:43:06.586Z"
   },
   {
    "duration": 0,
    "start_time": "2023-03-23T13:43:06.587Z"
   },
   {
    "duration": 0,
    "start_time": "2023-03-23T13:43:06.588Z"
   },
   {
    "duration": 0,
    "start_time": "2023-03-23T13:43:06.589Z"
   },
   {
    "duration": 0,
    "start_time": "2023-03-23T13:43:06.591Z"
   },
   {
    "duration": 0,
    "start_time": "2023-03-23T13:43:06.591Z"
   },
   {
    "duration": 0,
    "start_time": "2023-03-23T13:43:06.592Z"
   },
   {
    "duration": 0,
    "start_time": "2023-03-23T13:43:06.593Z"
   },
   {
    "duration": 0,
    "start_time": "2023-03-23T13:43:06.594Z"
   },
   {
    "duration": 0,
    "start_time": "2023-03-23T13:43:06.595Z"
   },
   {
    "duration": 0,
    "start_time": "2023-03-23T13:43:06.596Z"
   },
   {
    "duration": 0,
    "start_time": "2023-03-23T13:43:06.597Z"
   },
   {
    "duration": 0,
    "start_time": "2023-03-23T13:43:06.598Z"
   },
   {
    "duration": 0,
    "start_time": "2023-03-23T13:43:06.599Z"
   },
   {
    "duration": 0,
    "start_time": "2023-03-23T13:43:06.600Z"
   },
   {
    "duration": 8,
    "start_time": "2023-03-23T13:43:44.921Z"
   },
   {
    "duration": 2,
    "start_time": "2023-03-23T13:43:48.326Z"
   },
   {
    "duration": 30,
    "start_time": "2023-03-23T13:43:48.330Z"
   },
   {
    "duration": 19,
    "start_time": "2023-03-23T13:43:48.361Z"
   },
   {
    "duration": 11,
    "start_time": "2023-03-23T13:43:48.382Z"
   },
   {
    "duration": 9,
    "start_time": "2023-03-23T13:43:48.395Z"
   },
   {
    "duration": 11,
    "start_time": "2023-03-23T13:43:48.405Z"
   },
   {
    "duration": 8,
    "start_time": "2023-03-23T13:43:48.418Z"
   },
   {
    "duration": 4,
    "start_time": "2023-03-23T13:43:48.428Z"
   },
   {
    "duration": 395,
    "start_time": "2023-03-23T13:43:48.433Z"
   },
   {
    "duration": 5,
    "start_time": "2023-03-23T13:43:48.830Z"
   },
   {
    "duration": 6,
    "start_time": "2023-03-23T13:43:48.838Z"
   },
   {
    "duration": 5,
    "start_time": "2023-03-23T13:43:48.847Z"
   },
   {
    "duration": 3,
    "start_time": "2023-03-23T13:43:48.855Z"
   },
   {
    "duration": 41,
    "start_time": "2023-03-23T13:43:48.860Z"
   },
   {
    "duration": 14,
    "start_time": "2023-03-23T13:43:48.903Z"
   },
   {
    "duration": 7,
    "start_time": "2023-03-23T13:43:48.919Z"
   },
   {
    "duration": 7,
    "start_time": "2023-03-23T13:43:48.928Z"
   },
   {
    "duration": 9,
    "start_time": "2023-03-23T13:43:48.936Z"
   },
   {
    "duration": 4,
    "start_time": "2023-03-23T13:43:48.947Z"
   },
   {
    "duration": 360,
    "start_time": "2023-03-23T13:43:48.953Z"
   },
   {
    "duration": 4,
    "start_time": "2023-03-23T13:43:49.315Z"
   },
   {
    "duration": 369,
    "start_time": "2023-03-23T13:43:49.320Z"
   },
   {
    "duration": 4,
    "start_time": "2023-03-23T13:43:49.691Z"
   },
   {
    "duration": 1703,
    "start_time": "2023-03-23T13:43:49.696Z"
   },
   {
    "duration": 477,
    "start_time": "2023-03-23T13:43:51.401Z"
   },
   {
    "duration": 10,
    "start_time": "2023-03-23T13:43:51.879Z"
   },
   {
    "duration": 340,
    "start_time": "2023-03-23T13:43:51.891Z"
   },
   {
    "duration": 329,
    "start_time": "2023-03-23T13:43:52.232Z"
   },
   {
    "duration": 6,
    "start_time": "2023-03-23T13:46:00.927Z"
   },
   {
    "duration": 4,
    "start_time": "2023-03-23T13:48:22.353Z"
   },
   {
    "duration": 16,
    "start_time": "2023-03-23T13:48:25.911Z"
   },
   {
    "duration": 1924,
    "start_time": "2023-03-23T13:48:42.066Z"
   },
   {
    "duration": 40,
    "start_time": "2023-03-23T13:48:43.992Z"
   },
   {
    "duration": 10,
    "start_time": "2023-03-23T13:48:44.034Z"
   },
   {
    "duration": 5,
    "start_time": "2023-03-23T13:48:44.046Z"
   },
   {
    "duration": 10,
    "start_time": "2023-03-23T13:48:44.052Z"
   },
   {
    "duration": 1026,
    "start_time": "2023-03-23T13:48:44.063Z"
   },
   {
    "duration": 4,
    "start_time": "2023-03-23T13:48:45.091Z"
   },
   {
    "duration": 9,
    "start_time": "2023-03-23T13:48:45.096Z"
   },
   {
    "duration": 15,
    "start_time": "2023-03-23T13:48:45.107Z"
   },
   {
    "duration": 7,
    "start_time": "2023-03-23T13:48:45.124Z"
   },
   {
    "duration": 5,
    "start_time": "2023-03-23T13:48:45.133Z"
   },
   {
    "duration": 6,
    "start_time": "2023-03-23T13:48:45.139Z"
   },
   {
    "duration": 7,
    "start_time": "2023-03-23T13:48:45.146Z"
   },
   {
    "duration": 9,
    "start_time": "2023-03-23T13:48:45.154Z"
   },
   {
    "duration": 25,
    "start_time": "2023-03-23T13:48:45.165Z"
   },
   {
    "duration": 4,
    "start_time": "2023-03-23T13:48:45.192Z"
   },
   {
    "duration": 11,
    "start_time": "2023-03-23T13:48:45.198Z"
   },
   {
    "duration": 12,
    "start_time": "2023-03-23T13:48:45.211Z"
   },
   {
    "duration": 5,
    "start_time": "2023-03-23T13:48:45.225Z"
   },
   {
    "duration": 285,
    "start_time": "2023-03-23T13:48:45.231Z"
   },
   {
    "duration": 5,
    "start_time": "2023-03-23T13:48:45.517Z"
   },
   {
    "duration": 8,
    "start_time": "2023-03-23T13:48:45.524Z"
   },
   {
    "duration": 8,
    "start_time": "2023-03-23T13:48:45.534Z"
   },
   {
    "duration": 8,
    "start_time": "2023-03-23T13:48:45.544Z"
   },
   {
    "duration": 20,
    "start_time": "2023-03-23T13:48:45.554Z"
   },
   {
    "duration": 26,
    "start_time": "2023-03-23T13:48:45.576Z"
   },
   {
    "duration": 13,
    "start_time": "2023-03-23T13:48:45.603Z"
   },
   {
    "duration": 3,
    "start_time": "2023-03-23T13:48:45.619Z"
   },
   {
    "duration": 12,
    "start_time": "2023-03-23T13:48:45.624Z"
   },
   {
    "duration": 14,
    "start_time": "2023-03-23T13:48:45.638Z"
   },
   {
    "duration": 323,
    "start_time": "2023-03-23T13:48:45.654Z"
   },
   {
    "duration": 12,
    "start_time": "2023-03-23T13:48:45.979Z"
   },
   {
    "duration": 338,
    "start_time": "2023-03-23T13:48:45.993Z"
   },
   {
    "duration": 5,
    "start_time": "2023-03-23T13:48:46.333Z"
   },
   {
    "duration": 1766,
    "start_time": "2023-03-23T13:48:46.339Z"
   },
   {
    "duration": 601,
    "start_time": "2023-03-23T13:48:48.107Z"
   },
   {
    "duration": 4,
    "start_time": "2023-03-23T13:48:48.710Z"
   },
   {
    "duration": 331,
    "start_time": "2023-03-23T13:48:48.716Z"
   },
   {
    "duration": 326,
    "start_time": "2023-03-23T13:48:49.049Z"
   },
   {
    "duration": 1899,
    "start_time": "2023-03-23T13:51:23.348Z"
   },
   {
    "duration": 39,
    "start_time": "2023-03-23T13:51:25.250Z"
   },
   {
    "duration": 11,
    "start_time": "2023-03-23T13:51:25.291Z"
   },
   {
    "duration": 11,
    "start_time": "2023-03-23T13:51:25.303Z"
   },
   {
    "duration": 13,
    "start_time": "2023-03-23T13:51:25.316Z"
   },
   {
    "duration": 975,
    "start_time": "2023-03-23T13:51:25.331Z"
   },
   {
    "duration": 3,
    "start_time": "2023-03-23T13:51:26.308Z"
   },
   {
    "duration": 25,
    "start_time": "2023-03-23T13:51:26.313Z"
   },
   {
    "duration": 17,
    "start_time": "2023-03-23T13:51:26.340Z"
   },
   {
    "duration": 29,
    "start_time": "2023-03-23T13:51:26.359Z"
   },
   {
    "duration": 23,
    "start_time": "2023-03-23T13:51:26.390Z"
   },
   {
    "duration": 25,
    "start_time": "2023-03-23T13:51:26.415Z"
   },
   {
    "duration": 34,
    "start_time": "2023-03-23T13:51:26.442Z"
   },
   {
    "duration": 24,
    "start_time": "2023-03-23T13:51:26.478Z"
   },
   {
    "duration": 19,
    "start_time": "2023-03-23T13:51:26.504Z"
   },
   {
    "duration": 15,
    "start_time": "2023-03-23T13:51:26.524Z"
   },
   {
    "duration": 7,
    "start_time": "2023-03-23T13:51:26.540Z"
   },
   {
    "duration": 27,
    "start_time": "2023-03-23T13:51:26.548Z"
   },
   {
    "duration": 298,
    "start_time": "2023-03-23T13:51:26.577Z"
   },
   {
    "duration": 4,
    "start_time": "2023-03-23T13:51:26.876Z"
   },
   {
    "duration": 11,
    "start_time": "2023-03-23T13:51:26.890Z"
   },
   {
    "duration": 36,
    "start_time": "2023-03-23T13:51:26.903Z"
   },
   {
    "duration": 7,
    "start_time": "2023-03-23T13:51:26.940Z"
   },
   {
    "duration": 34,
    "start_time": "2023-03-23T13:51:26.949Z"
   },
   {
    "duration": 24,
    "start_time": "2023-03-23T13:51:26.984Z"
   },
   {
    "duration": 26,
    "start_time": "2023-03-23T13:51:27.010Z"
   },
   {
    "duration": 30,
    "start_time": "2023-03-23T13:51:27.038Z"
   },
   {
    "duration": 39,
    "start_time": "2023-03-23T13:51:27.070Z"
   },
   {
    "duration": 29,
    "start_time": "2023-03-23T13:51:27.110Z"
   },
   {
    "duration": 352,
    "start_time": "2023-03-23T13:51:27.141Z"
   },
   {
    "duration": 5,
    "start_time": "2023-03-23T13:51:27.494Z"
   },
   {
    "duration": 359,
    "start_time": "2023-03-23T13:51:27.500Z"
   },
   {
    "duration": 6,
    "start_time": "2023-03-23T13:51:27.861Z"
   },
   {
    "duration": 1821,
    "start_time": "2023-03-23T13:51:27.869Z"
   },
   {
    "duration": 420,
    "start_time": "2023-03-23T13:51:29.691Z"
   },
   {
    "duration": 4,
    "start_time": "2023-03-23T13:51:30.113Z"
   },
   {
    "duration": 359,
    "start_time": "2023-03-23T13:51:30.119Z"
   },
   {
    "duration": 336,
    "start_time": "2023-03-23T13:51:30.480Z"
   },
   {
    "duration": 35,
    "start_time": "2023-03-23T13:54:38.484Z"
   },
   {
    "duration": 313,
    "start_time": "2023-03-23T13:55:07.005Z"
   },
   {
    "duration": 1970,
    "start_time": "2023-03-23T14:01:19.065Z"
   },
   {
    "duration": 119,
    "start_time": "2023-03-23T14:01:21.038Z"
   },
   {
    "duration": 11,
    "start_time": "2023-03-23T14:01:21.159Z"
   },
   {
    "duration": 22,
    "start_time": "2023-03-23T14:01:21.172Z"
   },
   {
    "duration": 7,
    "start_time": "2023-03-23T14:01:21.196Z"
   },
   {
    "duration": 1026,
    "start_time": "2023-03-23T14:01:21.205Z"
   },
   {
    "duration": 5,
    "start_time": "2023-03-23T14:01:22.232Z"
   },
   {
    "duration": 5,
    "start_time": "2023-03-23T14:01:22.238Z"
   },
   {
    "duration": 8,
    "start_time": "2023-03-23T14:01:22.244Z"
   },
   {
    "duration": 8,
    "start_time": "2023-03-23T14:01:22.254Z"
   },
   {
    "duration": 26,
    "start_time": "2023-03-23T14:01:22.263Z"
   },
   {
    "duration": 5,
    "start_time": "2023-03-23T14:01:22.290Z"
   },
   {
    "duration": 5,
    "start_time": "2023-03-23T14:01:22.297Z"
   },
   {
    "duration": 10,
    "start_time": "2023-03-23T14:01:22.303Z"
   },
   {
    "duration": 4,
    "start_time": "2023-03-23T14:01:22.314Z"
   },
   {
    "duration": 6,
    "start_time": "2023-03-23T14:01:22.319Z"
   },
   {
    "duration": 9,
    "start_time": "2023-03-23T14:01:22.326Z"
   },
   {
    "duration": 4,
    "start_time": "2023-03-23T14:01:22.337Z"
   },
   {
    "duration": 7,
    "start_time": "2023-03-23T14:01:22.342Z"
   },
   {
    "duration": 250,
    "start_time": "2023-03-23T14:01:22.351Z"
   },
   {
    "duration": 333,
    "start_time": "2023-03-23T14:01:22.602Z"
   },
   {
    "duration": 4,
    "start_time": "2023-03-23T14:01:22.937Z"
   },
   {
    "duration": 8,
    "start_time": "2023-03-23T14:01:22.943Z"
   },
   {
    "duration": 10,
    "start_time": "2023-03-23T14:01:22.952Z"
   },
   {
    "duration": 7,
    "start_time": "2023-03-23T14:01:22.964Z"
   },
   {
    "duration": 27,
    "start_time": "2023-03-23T14:01:22.973Z"
   },
   {
    "duration": 15,
    "start_time": "2023-03-23T14:01:23.002Z"
   },
   {
    "duration": 22,
    "start_time": "2023-03-23T14:01:23.021Z"
   },
   {
    "duration": 3,
    "start_time": "2023-03-23T14:01:23.045Z"
   },
   {
    "duration": 6,
    "start_time": "2023-03-23T14:01:23.050Z"
   },
   {
    "duration": 16,
    "start_time": "2023-03-23T14:01:23.057Z"
   },
   {
    "duration": 314,
    "start_time": "2023-03-23T14:01:23.075Z"
   },
   {
    "duration": 5,
    "start_time": "2023-03-23T14:01:23.390Z"
   },
   {
    "duration": 307,
    "start_time": "2023-03-23T14:01:23.396Z"
   },
   {
    "duration": 4,
    "start_time": "2023-03-23T14:01:23.705Z"
   },
   {
    "duration": 1794,
    "start_time": "2023-03-23T14:01:23.711Z"
   },
   {
    "duration": 350,
    "start_time": "2023-03-23T14:01:25.506Z"
   },
   {
    "duration": 4,
    "start_time": "2023-03-23T14:01:25.858Z"
   },
   {
    "duration": 371,
    "start_time": "2023-03-23T14:01:25.864Z"
   },
   {
    "duration": 321,
    "start_time": "2023-03-23T14:01:26.237Z"
   },
   {
    "duration": 1820,
    "start_time": "2023-03-23T14:06:31.698Z"
   },
   {
    "duration": 110,
    "start_time": "2023-03-23T14:06:33.519Z"
   },
   {
    "duration": 12,
    "start_time": "2023-03-23T14:06:33.631Z"
   },
   {
    "duration": 8,
    "start_time": "2023-03-23T14:06:33.645Z"
   },
   {
    "duration": 14,
    "start_time": "2023-03-23T14:06:33.655Z"
   },
   {
    "duration": 897,
    "start_time": "2023-03-23T14:06:33.671Z"
   },
   {
    "duration": 4,
    "start_time": "2023-03-23T14:06:34.570Z"
   },
   {
    "duration": 26,
    "start_time": "2023-03-23T14:06:34.588Z"
   },
   {
    "duration": 35,
    "start_time": "2023-03-23T14:06:34.616Z"
   },
   {
    "duration": 28,
    "start_time": "2023-03-23T14:06:34.652Z"
   },
   {
    "duration": 33,
    "start_time": "2023-03-23T14:06:34.681Z"
   },
   {
    "duration": 29,
    "start_time": "2023-03-23T14:06:34.715Z"
   },
   {
    "duration": 41,
    "start_time": "2023-03-23T14:06:34.745Z"
   },
   {
    "duration": 47,
    "start_time": "2023-03-23T14:06:34.789Z"
   },
   {
    "duration": 13,
    "start_time": "2023-03-23T14:06:34.838Z"
   },
   {
    "duration": 25,
    "start_time": "2023-03-23T14:06:34.853Z"
   },
   {
    "duration": 50,
    "start_time": "2023-03-23T14:06:34.880Z"
   },
   {
    "duration": 31,
    "start_time": "2023-03-23T14:06:34.931Z"
   },
   {
    "duration": 23,
    "start_time": "2023-03-23T14:06:34.964Z"
   },
   {
    "duration": 247,
    "start_time": "2023-03-23T14:06:34.989Z"
   },
   {
    "duration": 342,
    "start_time": "2023-03-23T14:06:35.238Z"
   },
   {
    "duration": 9,
    "start_time": "2023-03-23T14:06:35.581Z"
   },
   {
    "duration": 9,
    "start_time": "2023-03-23T14:06:35.591Z"
   },
   {
    "duration": 22,
    "start_time": "2023-03-23T14:06:35.602Z"
   },
   {
    "duration": 10,
    "start_time": "2023-03-23T14:06:35.625Z"
   },
   {
    "duration": 23,
    "start_time": "2023-03-23T14:06:35.636Z"
   },
   {
    "duration": 37,
    "start_time": "2023-03-23T14:06:35.660Z"
   },
   {
    "duration": 6,
    "start_time": "2023-03-23T14:06:35.699Z"
   },
   {
    "duration": 25,
    "start_time": "2023-03-23T14:06:35.706Z"
   },
   {
    "duration": 21,
    "start_time": "2023-03-23T14:06:35.733Z"
   },
   {
    "duration": 32,
    "start_time": "2023-03-23T14:06:35.755Z"
   },
   {
    "duration": 320,
    "start_time": "2023-03-23T14:06:35.789Z"
   },
   {
    "duration": 5,
    "start_time": "2023-03-23T14:06:36.111Z"
   },
   {
    "duration": 290,
    "start_time": "2023-03-23T14:06:36.117Z"
   },
   {
    "duration": 4,
    "start_time": "2023-03-23T14:06:36.409Z"
   },
   {
    "duration": 1681,
    "start_time": "2023-03-23T14:06:36.414Z"
   },
   {
    "duration": 396,
    "start_time": "2023-03-23T14:06:38.097Z"
   },
   {
    "duration": 6,
    "start_time": "2023-03-23T14:06:38.495Z"
   },
   {
    "duration": 361,
    "start_time": "2023-03-23T14:06:38.503Z"
   },
   {
    "duration": 303,
    "start_time": "2023-03-23T14:06:38.865Z"
   },
   {
    "duration": 1740,
    "start_time": "2023-03-23T14:07:44.719Z"
   },
   {
    "duration": 118,
    "start_time": "2023-03-23T14:07:46.461Z"
   },
   {
    "duration": 15,
    "start_time": "2023-03-23T14:07:46.583Z"
   },
   {
    "duration": 6,
    "start_time": "2023-03-23T14:07:46.600Z"
   },
   {
    "duration": 8,
    "start_time": "2023-03-23T14:07:46.607Z"
   },
   {
    "duration": 1054,
    "start_time": "2023-03-23T14:07:46.616Z"
   },
   {
    "duration": 5,
    "start_time": "2023-03-23T14:07:47.671Z"
   },
   {
    "duration": 5,
    "start_time": "2023-03-23T14:07:47.689Z"
   },
   {
    "duration": 11,
    "start_time": "2023-03-23T14:07:47.695Z"
   },
   {
    "duration": 87,
    "start_time": "2023-03-23T14:07:47.707Z"
   },
   {
    "duration": 6,
    "start_time": "2023-03-23T14:07:47.796Z"
   },
   {
    "duration": 8,
    "start_time": "2023-03-23T14:07:47.804Z"
   },
   {
    "duration": 4,
    "start_time": "2023-03-23T14:07:47.816Z"
   },
   {
    "duration": 7,
    "start_time": "2023-03-23T14:07:47.822Z"
   },
   {
    "duration": 5,
    "start_time": "2023-03-23T14:07:47.830Z"
   },
   {
    "duration": 7,
    "start_time": "2023-03-23T14:07:47.837Z"
   },
   {
    "duration": 15,
    "start_time": "2023-03-23T14:07:47.846Z"
   },
   {
    "duration": 29,
    "start_time": "2023-03-23T14:07:47.863Z"
   },
   {
    "duration": 11,
    "start_time": "2023-03-23T14:07:47.894Z"
   },
   {
    "duration": 227,
    "start_time": "2023-03-23T14:07:47.907Z"
   },
   {
    "duration": 348,
    "start_time": "2023-03-23T14:07:48.136Z"
   },
   {
    "duration": 4,
    "start_time": "2023-03-23T14:07:48.490Z"
   },
   {
    "duration": 350,
    "start_time": "2023-03-23T14:07:48.496Z"
   },
   {
    "duration": 9,
    "start_time": "2023-03-23T14:07:48.848Z"
   },
   {
    "duration": 11,
    "start_time": "2023-03-23T14:07:48.858Z"
   },
   {
    "duration": 17,
    "start_time": "2023-03-23T14:07:48.871Z"
   },
   {
    "duration": 15,
    "start_time": "2023-03-23T14:07:48.890Z"
   },
   {
    "duration": 6,
    "start_time": "2023-03-23T14:07:48.907Z"
   },
   {
    "duration": 10,
    "start_time": "2023-03-23T14:07:48.915Z"
   },
   {
    "duration": 6,
    "start_time": "2023-03-23T14:07:48.926Z"
   },
   {
    "duration": 6,
    "start_time": "2023-03-23T14:07:48.934Z"
   },
   {
    "duration": 299,
    "start_time": "2023-03-23T14:07:48.941Z"
   },
   {
    "duration": 4,
    "start_time": "2023-03-23T14:07:49.242Z"
   },
   {
    "duration": 309,
    "start_time": "2023-03-23T14:07:49.247Z"
   },
   {
    "duration": 4,
    "start_time": "2023-03-23T14:07:49.558Z"
   },
   {
    "duration": 1746,
    "start_time": "2023-03-23T14:07:49.563Z"
   },
   {
    "duration": 347,
    "start_time": "2023-03-23T14:07:51.310Z"
   },
   {
    "duration": 4,
    "start_time": "2023-03-23T14:07:51.658Z"
   },
   {
    "duration": 307,
    "start_time": "2023-03-23T14:07:51.663Z"
   },
   {
    "duration": 286,
    "start_time": "2023-03-23T14:07:51.973Z"
   },
   {
    "duration": 1793,
    "start_time": "2023-03-23T14:09:00.459Z"
   },
   {
    "duration": 116,
    "start_time": "2023-03-23T14:09:02.254Z"
   },
   {
    "duration": 21,
    "start_time": "2023-03-23T14:09:02.371Z"
   },
   {
    "duration": 18,
    "start_time": "2023-03-23T14:09:02.393Z"
   },
   {
    "duration": 21,
    "start_time": "2023-03-23T14:09:02.413Z"
   },
   {
    "duration": 1040,
    "start_time": "2023-03-23T14:09:02.436Z"
   },
   {
    "duration": 12,
    "start_time": "2023-03-23T14:09:03.478Z"
   },
   {
    "duration": 13,
    "start_time": "2023-03-23T14:09:03.492Z"
   },
   {
    "duration": 35,
    "start_time": "2023-03-23T14:09:03.507Z"
   },
   {
    "duration": 19,
    "start_time": "2023-03-23T14:09:03.544Z"
   },
   {
    "duration": 24,
    "start_time": "2023-03-23T14:09:03.564Z"
   },
   {
    "duration": 13,
    "start_time": "2023-03-23T14:09:03.590Z"
   },
   {
    "duration": 14,
    "start_time": "2023-03-23T14:09:03.604Z"
   },
   {
    "duration": 19,
    "start_time": "2023-03-23T14:09:03.620Z"
   },
   {
    "duration": 14,
    "start_time": "2023-03-23T14:09:03.641Z"
   },
   {
    "duration": 30,
    "start_time": "2023-03-23T14:09:03.656Z"
   },
   {
    "duration": 47,
    "start_time": "2023-03-23T14:09:03.688Z"
   },
   {
    "duration": 17,
    "start_time": "2023-03-23T14:09:03.737Z"
   },
   {
    "duration": 28,
    "start_time": "2023-03-23T14:09:03.756Z"
   },
   {
    "duration": 254,
    "start_time": "2023-03-23T14:09:03.785Z"
   },
   {
    "duration": 321,
    "start_time": "2023-03-23T14:09:04.041Z"
   },
   {
    "duration": 4,
    "start_time": "2023-03-23T14:09:04.363Z"
   },
   {
    "duration": 7,
    "start_time": "2023-03-23T14:09:04.369Z"
   },
   {
    "duration": 12,
    "start_time": "2023-03-23T14:09:04.378Z"
   },
   {
    "duration": 3,
    "start_time": "2023-03-23T14:09:04.392Z"
   },
   {
    "duration": 12,
    "start_time": "2023-03-23T14:09:04.396Z"
   },
   {
    "duration": 13,
    "start_time": "2023-03-23T14:09:04.409Z"
   },
   {
    "duration": 4,
    "start_time": "2023-03-23T14:09:04.425Z"
   },
   {
    "duration": 7,
    "start_time": "2023-03-23T14:09:04.431Z"
   },
   {
    "duration": 7,
    "start_time": "2023-03-23T14:09:04.439Z"
   },
   {
    "duration": 15,
    "start_time": "2023-03-23T14:09:04.447Z"
   },
   {
    "duration": 349,
    "start_time": "2023-03-23T14:09:04.464Z"
   },
   {
    "duration": 4,
    "start_time": "2023-03-23T14:09:04.815Z"
   },
   {
    "duration": 347,
    "start_time": "2023-03-23T14:09:04.821Z"
   },
   {
    "duration": 5,
    "start_time": "2023-03-23T14:09:05.170Z"
   },
   {
    "duration": 1733,
    "start_time": "2023-03-23T14:09:05.176Z"
   },
   {
    "duration": 399,
    "start_time": "2023-03-23T14:09:06.911Z"
   },
   {
    "duration": 4,
    "start_time": "2023-03-23T14:09:07.312Z"
   },
   {
    "duration": 332,
    "start_time": "2023-03-23T14:09:07.318Z"
   },
   {
    "duration": 329,
    "start_time": "2023-03-23T14:09:07.651Z"
   },
   {
    "duration": 1320,
    "start_time": "2023-03-23T14:10:19.239Z"
   },
   {
    "duration": 6470,
    "start_time": "2023-03-23T14:10:33.585Z"
   },
   {
    "duration": 7608,
    "start_time": "2023-03-23T14:11:00.202Z"
   },
   {
    "duration": 9000,
    "start_time": "2023-03-23T14:12:18.741Z"
   },
   {
    "duration": 7773,
    "start_time": "2023-03-23T14:12:50.975Z"
   },
   {
    "duration": 6250,
    "start_time": "2023-03-23T14:13:49.223Z"
   },
   {
    "duration": 7724,
    "start_time": "2023-03-23T14:14:04.608Z"
   },
   {
    "duration": 4,
    "start_time": "2023-03-23T14:14:43.037Z"
   },
   {
    "duration": 304,
    "start_time": "2023-03-23T14:14:43.611Z"
   },
   {
    "duration": 4,
    "start_time": "2023-03-23T14:14:53.453Z"
   },
   {
    "duration": 46151,
    "start_time": "2023-03-23T14:15:02.148Z"
   },
   {
    "duration": 57,
    "start_time": "2023-03-23T14:16:21.095Z"
   },
   {
    "duration": 42641,
    "start_time": "2023-03-23T14:16:33.056Z"
   },
   {
    "duration": 38293,
    "start_time": "2023-03-23T14:18:02.417Z"
   },
   {
    "duration": 311,
    "start_time": "2023-03-23T14:19:49.350Z"
   },
   {
    "duration": 39031,
    "start_time": "2023-03-23T14:20:16.162Z"
   },
   {
    "duration": 335,
    "start_time": "2023-03-23T14:21:17.985Z"
   },
   {
    "duration": 38001,
    "start_time": "2023-03-23T14:21:41.595Z"
   },
   {
    "duration": 1800,
    "start_time": "2023-03-23T14:22:43.705Z"
   },
   {
    "duration": 119,
    "start_time": "2023-03-23T14:22:45.507Z"
   },
   {
    "duration": 12,
    "start_time": "2023-03-23T14:22:45.627Z"
   },
   {
    "duration": 5,
    "start_time": "2023-03-23T14:22:45.641Z"
   },
   {
    "duration": 5,
    "start_time": "2023-03-23T14:22:45.648Z"
   },
   {
    "duration": 986,
    "start_time": "2023-03-23T14:22:45.655Z"
   },
   {
    "duration": 4,
    "start_time": "2023-03-23T14:22:46.643Z"
   },
   {
    "duration": 6,
    "start_time": "2023-03-23T14:22:46.649Z"
   },
   {
    "duration": 8,
    "start_time": "2023-03-23T14:22:46.657Z"
   },
   {
    "duration": 23,
    "start_time": "2023-03-23T14:22:46.666Z"
   },
   {
    "duration": 13,
    "start_time": "2023-03-23T14:22:46.690Z"
   },
   {
    "duration": 6,
    "start_time": "2023-03-23T14:22:46.705Z"
   },
   {
    "duration": 7,
    "start_time": "2023-03-23T14:22:46.713Z"
   },
   {
    "duration": 5,
    "start_time": "2023-03-23T14:22:46.722Z"
   },
   {
    "duration": 4,
    "start_time": "2023-03-23T14:22:46.728Z"
   },
   {
    "duration": 8,
    "start_time": "2023-03-23T14:22:46.733Z"
   },
   {
    "duration": 7,
    "start_time": "2023-03-23T14:22:46.742Z"
   },
   {
    "duration": 4,
    "start_time": "2023-03-23T14:22:46.751Z"
   },
   {
    "duration": 4,
    "start_time": "2023-03-23T14:22:46.756Z"
   },
   {
    "duration": 234,
    "start_time": "2023-03-23T14:22:46.761Z"
   },
   {
    "duration": 305,
    "start_time": "2023-03-23T14:22:46.997Z"
   },
   {
    "duration": 4,
    "start_time": "2023-03-23T14:22:47.304Z"
   },
   {
    "duration": 9,
    "start_time": "2023-03-23T14:22:47.310Z"
   },
   {
    "duration": 6,
    "start_time": "2023-03-23T14:22:47.321Z"
   },
   {
    "duration": 7,
    "start_time": "2023-03-23T14:22:47.328Z"
   },
   {
    "duration": 15,
    "start_time": "2023-03-23T14:22:47.336Z"
   },
   {
    "duration": 16,
    "start_time": "2023-03-23T14:22:47.353Z"
   },
   {
    "duration": 6,
    "start_time": "2023-03-23T14:22:47.389Z"
   },
   {
    "duration": 4,
    "start_time": "2023-03-23T14:22:47.397Z"
   },
   {
    "duration": 5,
    "start_time": "2023-03-23T14:22:47.403Z"
   },
   {
    "duration": 7,
    "start_time": "2023-03-23T14:22:47.410Z"
   },
   {
    "duration": 6370,
    "start_time": "2023-03-23T14:22:47.419Z"
   },
   {
    "duration": 4,
    "start_time": "2023-03-23T14:22:53.790Z"
   },
   {
    "duration": 311,
    "start_time": "2023-03-23T14:22:53.795Z"
   },
   {
    "duration": 6,
    "start_time": "2023-03-23T14:22:54.108Z"
   },
   {
    "duration": 37481,
    "start_time": "2023-03-23T14:22:54.116Z"
   },
   {
    "duration": 339,
    "start_time": "2023-03-23T14:23:31.598Z"
   },
   {
    "duration": 4,
    "start_time": "2023-03-23T14:23:31.939Z"
   },
   {
    "duration": 6836,
    "start_time": "2023-03-23T14:23:31.945Z"
   },
   {
    "duration": 328,
    "start_time": "2023-03-23T14:23:38.783Z"
   },
   {
    "duration": 2464,
    "start_time": "2023-03-23T14:28:36.437Z"
   },
   {
    "duration": 124,
    "start_time": "2023-03-23T14:28:38.903Z"
   },
   {
    "duration": 12,
    "start_time": "2023-03-23T14:28:39.030Z"
   },
   {
    "duration": 9,
    "start_time": "2023-03-23T14:28:39.045Z"
   },
   {
    "duration": 6,
    "start_time": "2023-03-23T14:28:39.056Z"
   },
   {
    "duration": 1094,
    "start_time": "2023-03-23T14:28:39.064Z"
   },
   {
    "duration": 5,
    "start_time": "2023-03-23T14:28:40.160Z"
   },
   {
    "duration": 5,
    "start_time": "2023-03-23T14:28:40.167Z"
   },
   {
    "duration": 6,
    "start_time": "2023-03-23T14:28:40.189Z"
   },
   {
    "duration": 7,
    "start_time": "2023-03-23T14:28:40.198Z"
   },
   {
    "duration": 6,
    "start_time": "2023-03-23T14:28:40.207Z"
   },
   {
    "duration": 6,
    "start_time": "2023-03-23T14:28:40.215Z"
   },
   {
    "duration": 6,
    "start_time": "2023-03-23T14:28:40.223Z"
   },
   {
    "duration": 7,
    "start_time": "2023-03-23T14:28:40.231Z"
   },
   {
    "duration": 13,
    "start_time": "2023-03-23T14:28:40.241Z"
   },
   {
    "duration": 37,
    "start_time": "2023-03-23T14:28:40.256Z"
   },
   {
    "duration": 10,
    "start_time": "2023-03-23T14:28:40.295Z"
   },
   {
    "duration": 6,
    "start_time": "2023-03-23T14:28:40.307Z"
   },
   {
    "duration": 4,
    "start_time": "2023-03-23T14:28:40.314Z"
   },
   {
    "duration": 271,
    "start_time": "2023-03-23T14:28:40.320Z"
   },
   {
    "duration": 341,
    "start_time": "2023-03-23T14:28:40.593Z"
   },
   {
    "duration": 4,
    "start_time": "2023-03-23T14:28:40.935Z"
   },
   {
    "duration": 11,
    "start_time": "2023-03-23T14:28:40.940Z"
   },
   {
    "duration": 5,
    "start_time": "2023-03-23T14:28:40.953Z"
   },
   {
    "duration": 4,
    "start_time": "2023-03-23T14:28:40.960Z"
   },
   {
    "duration": 30,
    "start_time": "2023-03-23T14:28:40.965Z"
   },
   {
    "duration": 18,
    "start_time": "2023-03-23T14:28:40.996Z"
   },
   {
    "duration": 11,
    "start_time": "2023-03-23T14:28:41.018Z"
   },
   {
    "duration": 6,
    "start_time": "2023-03-23T14:28:41.031Z"
   },
   {
    "duration": 5,
    "start_time": "2023-03-23T14:28:41.038Z"
   },
   {
    "duration": 4,
    "start_time": "2023-03-23T14:28:41.045Z"
   },
   {
    "duration": 6248,
    "start_time": "2023-03-23T14:28:41.051Z"
   },
   {
    "duration": 5,
    "start_time": "2023-03-23T14:28:47.300Z"
   },
   {
    "duration": 394,
    "start_time": "2023-03-23T14:28:47.306Z"
   },
   {
    "duration": 4,
    "start_time": "2023-03-23T14:28:47.702Z"
   },
   {
    "duration": 42086,
    "start_time": "2023-03-23T14:28:47.707Z"
   },
   {
    "duration": 360,
    "start_time": "2023-03-23T14:29:29.794Z"
   },
   {
    "duration": 5,
    "start_time": "2023-03-23T14:29:30.155Z"
   },
   {
    "duration": 6834,
    "start_time": "2023-03-23T14:29:30.162Z"
   },
   {
    "duration": 320,
    "start_time": "2023-03-23T14:29:36.998Z"
   },
   {
    "duration": 1841,
    "start_time": "2023-03-23T14:33:09.097Z"
   },
   {
    "duration": 121,
    "start_time": "2023-03-23T14:33:10.940Z"
   },
   {
    "duration": 14,
    "start_time": "2023-03-23T14:33:11.062Z"
   },
   {
    "duration": 5,
    "start_time": "2023-03-23T14:33:11.088Z"
   },
   {
    "duration": 4,
    "start_time": "2023-03-23T14:33:11.095Z"
   },
   {
    "duration": 969,
    "start_time": "2023-03-23T14:33:11.101Z"
   },
   {
    "duration": 4,
    "start_time": "2023-03-23T14:33:12.072Z"
   },
   {
    "duration": 4,
    "start_time": "2023-03-23T14:33:12.089Z"
   },
   {
    "duration": 12,
    "start_time": "2023-03-23T14:33:12.094Z"
   },
   {
    "duration": 24,
    "start_time": "2023-03-23T14:33:12.107Z"
   },
   {
    "duration": 7,
    "start_time": "2023-03-23T14:33:12.133Z"
   },
   {
    "duration": 20,
    "start_time": "2023-03-23T14:33:12.141Z"
   },
   {
    "duration": 12,
    "start_time": "2023-03-23T14:33:12.162Z"
   },
   {
    "duration": 7,
    "start_time": "2023-03-23T14:33:12.176Z"
   },
   {
    "duration": 12,
    "start_time": "2023-03-23T14:33:12.184Z"
   },
   {
    "duration": 7,
    "start_time": "2023-03-23T14:33:12.197Z"
   },
   {
    "duration": 8,
    "start_time": "2023-03-23T14:33:12.206Z"
   },
   {
    "duration": 10,
    "start_time": "2023-03-23T14:33:12.215Z"
   },
   {
    "duration": 6,
    "start_time": "2023-03-23T14:33:12.227Z"
   },
   {
    "duration": 243,
    "start_time": "2023-03-23T14:33:12.235Z"
   },
   {
    "duration": 335,
    "start_time": "2023-03-23T14:33:12.480Z"
   },
   {
    "duration": 3,
    "start_time": "2023-03-23T14:33:12.817Z"
   },
   {
    "duration": 7,
    "start_time": "2023-03-23T14:33:12.822Z"
   },
   {
    "duration": 5,
    "start_time": "2023-03-23T14:33:12.830Z"
   },
   {
    "duration": 5,
    "start_time": "2023-03-23T14:33:12.836Z"
   },
   {
    "duration": 12,
    "start_time": "2023-03-23T14:33:12.842Z"
   },
   {
    "duration": 41,
    "start_time": "2023-03-23T14:33:12.856Z"
   },
   {
    "duration": 6,
    "start_time": "2023-03-23T14:33:12.899Z"
   },
   {
    "duration": 13,
    "start_time": "2023-03-23T14:33:12.906Z"
   },
   {
    "duration": 5,
    "start_time": "2023-03-23T14:33:12.921Z"
   },
   {
    "duration": 3,
    "start_time": "2023-03-23T14:33:16.926Z"
   },
   {
    "duration": 183,
    "start_time": "2023-03-23T14:33:17.769Z"
   },
   {
    "duration": 4,
    "start_time": "2023-03-23T14:34:02.301Z"
   },
   {
    "duration": 4,
    "start_time": "2023-03-23T14:34:02.885Z"
   },
   {
    "duration": 6350,
    "start_time": "2023-03-23T14:34:03.389Z"
   },
   {
    "duration": 4,
    "start_time": "2023-03-23T14:34:32.275Z"
   },
   {
    "duration": 297,
    "start_time": "2023-03-23T14:34:32.710Z"
   },
   {
    "duration": 5,
    "start_time": "2023-03-23T14:34:53.550Z"
   },
   {
    "duration": 37992,
    "start_time": "2023-03-23T14:34:54.400Z"
   },
   {
    "duration": 290,
    "start_time": "2023-03-23T14:36:13.961Z"
   },
   {
    "duration": 4,
    "start_time": "2023-03-23T14:36:35.748Z"
   },
   {
    "duration": 6781,
    "start_time": "2023-03-23T14:36:36.743Z"
   },
   {
    "duration": 322,
    "start_time": "2023-03-23T14:36:58.657Z"
   },
   {
    "duration": 1811,
    "start_time": "2023-03-23T14:39:33.845Z"
   },
   {
    "duration": 120,
    "start_time": "2023-03-23T14:39:35.658Z"
   },
   {
    "duration": 14,
    "start_time": "2023-03-23T14:39:35.780Z"
   },
   {
    "duration": 38,
    "start_time": "2023-03-23T14:39:35.795Z"
   },
   {
    "duration": 38,
    "start_time": "2023-03-23T14:39:35.835Z"
   },
   {
    "duration": 1039,
    "start_time": "2023-03-23T14:39:35.875Z"
   },
   {
    "duration": 4,
    "start_time": "2023-03-23T14:39:36.916Z"
   },
   {
    "duration": 21,
    "start_time": "2023-03-23T14:39:36.921Z"
   },
   {
    "duration": 8,
    "start_time": "2023-03-23T14:39:36.944Z"
   },
   {
    "duration": 6,
    "start_time": "2023-03-23T14:39:36.954Z"
   },
   {
    "duration": 5,
    "start_time": "2023-03-23T14:39:36.962Z"
   },
   {
    "duration": 6,
    "start_time": "2023-03-23T14:39:36.968Z"
   },
   {
    "duration": 4,
    "start_time": "2023-03-23T14:39:36.990Z"
   },
   {
    "duration": 5,
    "start_time": "2023-03-23T14:39:36.997Z"
   },
   {
    "duration": 4,
    "start_time": "2023-03-23T14:39:37.003Z"
   },
   {
    "duration": 6,
    "start_time": "2023-03-23T14:39:37.009Z"
   },
   {
    "duration": 19,
    "start_time": "2023-03-23T14:39:37.017Z"
   },
   {
    "duration": 4,
    "start_time": "2023-03-23T14:39:37.038Z"
   },
   {
    "duration": 9,
    "start_time": "2023-03-23T14:39:37.044Z"
   },
   {
    "duration": 253,
    "start_time": "2023-03-23T14:39:37.055Z"
   },
   {
    "duration": 346,
    "start_time": "2023-03-23T14:39:37.310Z"
   },
   {
    "duration": 4,
    "start_time": "2023-03-23T14:39:37.658Z"
   },
   {
    "duration": 9,
    "start_time": "2023-03-23T14:39:37.663Z"
   },
   {
    "duration": 15,
    "start_time": "2023-03-23T14:39:37.674Z"
   },
   {
    "duration": 4,
    "start_time": "2023-03-23T14:39:37.691Z"
   },
   {
    "duration": 13,
    "start_time": "2023-03-23T14:39:37.696Z"
   },
   {
    "duration": 18,
    "start_time": "2023-03-23T14:39:37.711Z"
   },
   {
    "duration": 6,
    "start_time": "2023-03-23T14:39:37.731Z"
   },
   {
    "duration": 3,
    "start_time": "2023-03-23T14:39:37.738Z"
   },
   {
    "duration": 9,
    "start_time": "2023-03-23T14:39:37.744Z"
   },
   {
    "duration": 7,
    "start_time": "2023-03-23T14:39:37.755Z"
   },
   {
    "duration": 6284,
    "start_time": "2023-03-23T14:39:37.764Z"
   },
   {
    "duration": 4,
    "start_time": "2023-03-23T14:39:44.050Z"
   },
   {
    "duration": 325,
    "start_time": "2023-03-23T14:39:44.056Z"
   },
   {
    "duration": 8,
    "start_time": "2023-03-23T14:39:44.383Z"
   },
   {
    "duration": 37415,
    "start_time": "2023-03-23T14:39:44.393Z"
   },
   {
    "duration": 390,
    "start_time": "2023-03-23T14:40:21.810Z"
   },
   {
    "duration": 4,
    "start_time": "2023-03-23T14:40:22.202Z"
   },
   {
    "duration": 6738,
    "start_time": "2023-03-23T14:40:22.208Z"
   },
   {
    "duration": 335,
    "start_time": "2023-03-23T14:40:28.948Z"
   },
   {
    "duration": 1959,
    "start_time": "2023-03-23T14:41:58.230Z"
   },
   {
    "duration": 125,
    "start_time": "2023-03-23T14:42:00.192Z"
   },
   {
    "duration": 14,
    "start_time": "2023-03-23T14:42:00.318Z"
   },
   {
    "duration": 32,
    "start_time": "2023-03-23T14:42:00.335Z"
   },
   {
    "duration": 36,
    "start_time": "2023-03-23T14:42:00.369Z"
   },
   {
    "duration": 1099,
    "start_time": "2023-03-23T14:42:00.407Z"
   },
   {
    "duration": 4,
    "start_time": "2023-03-23T14:42:01.508Z"
   },
   {
    "duration": 66,
    "start_time": "2023-03-23T14:42:01.514Z"
   },
   {
    "duration": 107,
    "start_time": "2023-03-23T14:42:01.582Z"
   },
   {
    "duration": 132,
    "start_time": "2023-03-23T14:42:01.692Z"
   },
   {
    "duration": 77,
    "start_time": "2023-03-23T14:42:01.826Z"
   },
   {
    "duration": 87,
    "start_time": "2023-03-23T14:42:01.905Z"
   },
   {
    "duration": 38,
    "start_time": "2023-03-23T14:42:01.994Z"
   },
   {
    "duration": 47,
    "start_time": "2023-03-23T14:42:02.034Z"
   },
   {
    "duration": 85,
    "start_time": "2023-03-23T14:42:02.082Z"
   },
   {
    "duration": 74,
    "start_time": "2023-03-23T14:42:02.169Z"
   },
   {
    "duration": 95,
    "start_time": "2023-03-23T14:42:02.245Z"
   },
   {
    "duration": 66,
    "start_time": "2023-03-23T14:42:02.342Z"
   },
   {
    "duration": 45,
    "start_time": "2023-03-23T14:42:02.409Z"
   },
   {
    "duration": 294,
    "start_time": "2023-03-23T14:42:02.456Z"
   },
   {
    "duration": 362,
    "start_time": "2023-03-23T14:42:02.752Z"
   },
   {
    "duration": 4,
    "start_time": "2023-03-23T14:42:03.116Z"
   },
   {
    "duration": 22,
    "start_time": "2023-03-23T14:42:03.121Z"
   },
   {
    "duration": 34,
    "start_time": "2023-03-23T14:42:03.145Z"
   },
   {
    "duration": 21,
    "start_time": "2023-03-23T14:42:03.181Z"
   },
   {
    "duration": 39,
    "start_time": "2023-03-23T14:42:03.203Z"
   },
   {
    "duration": 63,
    "start_time": "2023-03-23T14:42:03.244Z"
   },
   {
    "duration": 42,
    "start_time": "2023-03-23T14:42:03.312Z"
   },
   {
    "duration": 22,
    "start_time": "2023-03-23T14:42:03.356Z"
   },
   {
    "duration": 23,
    "start_time": "2023-03-23T14:42:03.379Z"
   },
   {
    "duration": 25,
    "start_time": "2023-03-23T14:42:03.404Z"
   },
   {
    "duration": 6390,
    "start_time": "2023-03-23T14:42:03.431Z"
   },
   {
    "duration": 6,
    "start_time": "2023-03-23T14:42:09.822Z"
   },
   {
    "duration": 347,
    "start_time": "2023-03-23T14:42:09.830Z"
   },
   {
    "duration": 5,
    "start_time": "2023-03-23T14:42:10.179Z"
   },
   {
    "duration": 37822,
    "start_time": "2023-03-23T14:42:10.185Z"
   },
   {
    "duration": 365,
    "start_time": "2023-03-23T14:42:48.009Z"
   },
   {
    "duration": 12,
    "start_time": "2023-03-23T14:42:48.377Z"
   },
   {
    "duration": 6652,
    "start_time": "2023-03-23T14:42:48.392Z"
   },
   {
    "duration": 315,
    "start_time": "2023-03-23T14:42:55.045Z"
   },
   {
    "duration": 1885,
    "start_time": "2023-03-23T14:44:45.810Z"
   },
   {
    "duration": 133,
    "start_time": "2023-03-23T14:44:47.697Z"
   },
   {
    "duration": 12,
    "start_time": "2023-03-23T14:44:47.832Z"
   },
   {
    "duration": 20,
    "start_time": "2023-03-23T14:44:47.846Z"
   },
   {
    "duration": 13,
    "start_time": "2023-03-23T14:44:47.868Z"
   },
   {
    "duration": 1040,
    "start_time": "2023-03-23T14:44:47.882Z"
   },
   {
    "duration": 4,
    "start_time": "2023-03-23T14:44:48.923Z"
   },
   {
    "duration": 24,
    "start_time": "2023-03-23T14:44:48.929Z"
   },
   {
    "duration": 8,
    "start_time": "2023-03-23T14:44:48.954Z"
   },
   {
    "duration": 7,
    "start_time": "2023-03-23T14:44:48.965Z"
   },
   {
    "duration": 7,
    "start_time": "2023-03-23T14:44:48.974Z"
   },
   {
    "duration": 4,
    "start_time": "2023-03-23T14:44:48.989Z"
   },
   {
    "duration": 16,
    "start_time": "2023-03-23T14:44:48.995Z"
   },
   {
    "duration": 19,
    "start_time": "2023-03-23T14:44:49.013Z"
   },
   {
    "duration": 10,
    "start_time": "2023-03-23T14:44:49.034Z"
   },
   {
    "duration": 18,
    "start_time": "2023-03-23T14:44:49.046Z"
   },
   {
    "duration": 8,
    "start_time": "2023-03-23T14:44:49.066Z"
   },
   {
    "duration": 5,
    "start_time": "2023-03-23T14:44:49.076Z"
   },
   {
    "duration": 18,
    "start_time": "2023-03-23T14:44:49.083Z"
   },
   {
    "duration": 248,
    "start_time": "2023-03-23T14:44:49.103Z"
   },
   {
    "duration": 378,
    "start_time": "2023-03-23T14:44:49.352Z"
   },
   {
    "duration": 4,
    "start_time": "2023-03-23T14:44:49.731Z"
   },
   {
    "duration": 9,
    "start_time": "2023-03-23T14:44:49.737Z"
   },
   {
    "duration": 10,
    "start_time": "2023-03-23T14:44:49.747Z"
   },
   {
    "duration": 8,
    "start_time": "2023-03-23T14:44:49.759Z"
   },
   {
    "duration": 26,
    "start_time": "2023-03-23T14:44:49.769Z"
   },
   {
    "duration": 14,
    "start_time": "2023-03-23T14:44:49.796Z"
   },
   {
    "duration": 7,
    "start_time": "2023-03-23T14:44:49.813Z"
   },
   {
    "duration": 20,
    "start_time": "2023-03-23T14:44:49.822Z"
   },
   {
    "duration": 5,
    "start_time": "2023-03-23T14:44:49.844Z"
   },
   {
    "duration": 6,
    "start_time": "2023-03-23T14:44:49.851Z"
   },
   {
    "duration": 9900,
    "start_time": "2023-03-23T14:44:49.859Z"
   },
   {
    "duration": 5,
    "start_time": "2023-03-23T14:44:59.761Z"
   },
   {
    "duration": 356,
    "start_time": "2023-03-23T14:44:59.767Z"
   },
   {
    "duration": 4,
    "start_time": "2023-03-23T14:45:00.125Z"
   },
   {
    "duration": 61682,
    "start_time": "2023-03-23T14:45:00.131Z"
   },
   {
    "duration": 303,
    "start_time": "2023-03-23T14:46:01.889Z"
   },
   {
    "duration": 5,
    "start_time": "2023-03-23T14:46:02.195Z"
   },
   {
    "duration": 10429,
    "start_time": "2023-03-23T14:46:02.202Z"
   },
   {
    "duration": 322,
    "start_time": "2023-03-23T14:46:12.632Z"
   },
   {
    "duration": 5,
    "start_time": "2023-03-23T14:47:24.388Z"
   },
   {
    "duration": 1914,
    "start_time": "2023-03-23T14:47:47.907Z"
   },
   {
    "duration": 125,
    "start_time": "2023-03-23T14:47:49.823Z"
   },
   {
    "duration": 12,
    "start_time": "2023-03-23T14:47:49.950Z"
   },
   {
    "duration": 5,
    "start_time": "2023-03-23T14:47:49.965Z"
   },
   {
    "duration": 19,
    "start_time": "2023-03-23T14:47:49.971Z"
   },
   {
    "duration": 1069,
    "start_time": "2023-03-23T14:47:49.992Z"
   },
   {
    "duration": 5,
    "start_time": "2023-03-23T14:47:51.062Z"
   },
   {
    "duration": 21,
    "start_time": "2023-03-23T14:47:51.068Z"
   },
   {
    "duration": 6,
    "start_time": "2023-03-23T14:47:51.091Z"
   },
   {
    "duration": 9,
    "start_time": "2023-03-23T14:47:51.100Z"
   },
   {
    "duration": 5,
    "start_time": "2023-03-23T14:47:51.110Z"
   },
   {
    "duration": 9,
    "start_time": "2023-03-23T14:47:51.116Z"
   },
   {
    "duration": 10,
    "start_time": "2023-03-23T14:47:51.127Z"
   },
   {
    "duration": 8,
    "start_time": "2023-03-23T14:47:51.138Z"
   },
   {
    "duration": 21,
    "start_time": "2023-03-23T14:47:51.148Z"
   },
   {
    "duration": 20,
    "start_time": "2023-03-23T14:47:51.171Z"
   },
   {
    "duration": 10,
    "start_time": "2023-03-23T14:47:51.193Z"
   },
   {
    "duration": 9,
    "start_time": "2023-03-23T14:47:51.205Z"
   },
   {
    "duration": 9,
    "start_time": "2023-03-23T14:47:51.217Z"
   },
   {
    "duration": 242,
    "start_time": "2023-03-23T14:47:51.228Z"
   },
   {
    "duration": 334,
    "start_time": "2023-03-23T14:47:51.472Z"
   },
   {
    "duration": 4,
    "start_time": "2023-03-23T14:47:51.807Z"
   },
   {
    "duration": 23,
    "start_time": "2023-03-23T14:47:51.813Z"
   },
   {
    "duration": 15,
    "start_time": "2023-03-23T14:47:51.838Z"
   },
   {
    "duration": 27,
    "start_time": "2023-03-23T14:47:51.854Z"
   },
   {
    "duration": 17,
    "start_time": "2023-03-23T14:47:51.883Z"
   },
   {
    "duration": 18,
    "start_time": "2023-03-23T14:47:51.902Z"
   },
   {
    "duration": 11,
    "start_time": "2023-03-23T14:47:51.923Z"
   },
   {
    "duration": 14,
    "start_time": "2023-03-23T14:47:51.935Z"
   },
   {
    "duration": 16,
    "start_time": "2023-03-23T14:47:51.950Z"
   },
   {
    "duration": 14,
    "start_time": "2023-03-23T14:47:51.968Z"
   },
   {
    "duration": 11,
    "start_time": "2023-03-23T14:47:51.984Z"
   },
   {
    "duration": 6343,
    "start_time": "2023-03-23T14:47:51.997Z"
   },
   {
    "duration": 5,
    "start_time": "2023-03-23T14:47:58.342Z"
   },
   {
    "duration": 349,
    "start_time": "2023-03-23T14:47:58.349Z"
   },
   {
    "duration": 5,
    "start_time": "2023-03-23T14:47:58.700Z"
   },
   {
    "duration": 39182,
    "start_time": "2023-03-23T14:47:58.707Z"
   },
   {
    "duration": 332,
    "start_time": "2023-03-23T14:48:37.891Z"
   },
   {
    "duration": 5,
    "start_time": "2023-03-23T14:48:38.225Z"
   },
   {
    "duration": 6679,
    "start_time": "2023-03-23T14:48:38.232Z"
   },
   {
    "duration": 304,
    "start_time": "2023-03-23T14:48:44.912Z"
   },
   {
    "duration": 1939,
    "start_time": "2023-03-23T14:51:55.543Z"
   },
   {
    "duration": 127,
    "start_time": "2023-03-23T14:51:57.485Z"
   },
   {
    "duration": 14,
    "start_time": "2023-03-23T14:51:57.614Z"
   },
   {
    "duration": 12,
    "start_time": "2023-03-23T14:51:57.631Z"
   },
   {
    "duration": 8,
    "start_time": "2023-03-23T14:51:57.646Z"
   },
   {
    "duration": 1258,
    "start_time": "2023-03-23T14:51:57.657Z"
   },
   {
    "duration": 5,
    "start_time": "2023-03-23T14:51:58.917Z"
   },
   {
    "duration": 15,
    "start_time": "2023-03-23T14:51:58.924Z"
   },
   {
    "duration": 24,
    "start_time": "2023-03-23T14:51:58.942Z"
   },
   {
    "duration": 18,
    "start_time": "2023-03-23T14:51:58.971Z"
   },
   {
    "duration": 8,
    "start_time": "2023-03-23T14:51:58.992Z"
   },
   {
    "duration": 18,
    "start_time": "2023-03-23T14:51:59.002Z"
   },
   {
    "duration": 9,
    "start_time": "2023-03-23T14:51:59.022Z"
   },
   {
    "duration": 11,
    "start_time": "2023-03-23T14:51:59.033Z"
   },
   {
    "duration": 4,
    "start_time": "2023-03-23T14:51:59.046Z"
   },
   {
    "duration": 8,
    "start_time": "2023-03-23T14:51:59.052Z"
   },
   {
    "duration": 6,
    "start_time": "2023-03-23T14:51:59.089Z"
   },
   {
    "duration": 8,
    "start_time": "2023-03-23T14:51:59.098Z"
   },
   {
    "duration": 10,
    "start_time": "2023-03-23T14:51:59.108Z"
   },
   {
    "duration": 293,
    "start_time": "2023-03-23T14:51:59.121Z"
   },
   {
    "duration": 322,
    "start_time": "2023-03-23T14:51:59.416Z"
   },
   {
    "duration": 4,
    "start_time": "2023-03-23T14:51:59.740Z"
   },
   {
    "duration": 11,
    "start_time": "2023-03-23T14:51:59.746Z"
   },
   {
    "duration": 9,
    "start_time": "2023-03-23T14:51:59.759Z"
   },
   {
    "duration": 12,
    "start_time": "2023-03-23T14:51:59.770Z"
   },
   {
    "duration": 17,
    "start_time": "2023-03-23T14:51:59.783Z"
   },
   {
    "duration": 19,
    "start_time": "2023-03-23T14:51:59.802Z"
   },
   {
    "duration": 7,
    "start_time": "2023-03-23T14:51:59.825Z"
   },
   {
    "duration": 6,
    "start_time": "2023-03-23T14:51:59.833Z"
   },
   {
    "duration": 6,
    "start_time": "2023-03-23T14:51:59.841Z"
   },
   {
    "duration": 6,
    "start_time": "2023-03-23T14:51:59.849Z"
   },
   {
    "duration": 34,
    "start_time": "2023-03-23T14:51:59.857Z"
   },
   {
    "duration": 8197,
    "start_time": "2023-03-23T14:52:04.312Z"
   },
   {
    "duration": 4,
    "start_time": "2023-03-23T14:52:43.952Z"
   },
   {
    "duration": 278,
    "start_time": "2023-03-23T14:52:44.432Z"
   },
   {
    "duration": 6,
    "start_time": "2023-03-23T14:54:49.096Z"
   },
   {
    "duration": 254,
    "start_time": "2023-03-23T14:55:15.210Z"
   },
   {
    "duration": 5,
    "start_time": "2023-03-23T14:55:33.436Z"
   },
   {
    "duration": 53147,
    "start_time": "2023-03-23T14:55:34.154Z"
   },
   {
    "duration": 5,
    "start_time": "2023-03-23T14:58:41.052Z"
   },
   {
    "duration": 7943,
    "start_time": "2023-03-23T14:58:59.203Z"
   },
   {
    "duration": 285,
    "start_time": "2023-03-23T14:59:35.611Z"
   },
   {
    "duration": 1849,
    "start_time": "2023-03-23T15:00:14.199Z"
   },
   {
    "duration": 121,
    "start_time": "2023-03-23T15:00:16.051Z"
   },
   {
    "duration": 18,
    "start_time": "2023-03-23T15:00:16.174Z"
   },
   {
    "duration": 6,
    "start_time": "2023-03-23T15:00:16.195Z"
   },
   {
    "duration": 9,
    "start_time": "2023-03-23T15:00:16.202Z"
   },
   {
    "duration": 1037,
    "start_time": "2023-03-23T15:00:16.213Z"
   },
   {
    "duration": 3,
    "start_time": "2023-03-23T15:00:17.252Z"
   },
   {
    "duration": 4,
    "start_time": "2023-03-23T15:00:17.257Z"
   },
   {
    "duration": 7,
    "start_time": "2023-03-23T15:00:17.263Z"
   },
   {
    "duration": 22,
    "start_time": "2023-03-23T15:00:17.272Z"
   },
   {
    "duration": 10,
    "start_time": "2023-03-23T15:00:17.295Z"
   },
   {
    "duration": 8,
    "start_time": "2023-03-23T15:00:17.307Z"
   },
   {
    "duration": 7,
    "start_time": "2023-03-23T15:00:17.316Z"
   },
   {
    "duration": 7,
    "start_time": "2023-03-23T15:00:17.324Z"
   },
   {
    "duration": 7,
    "start_time": "2023-03-23T15:00:17.332Z"
   },
   {
    "duration": 7,
    "start_time": "2023-03-23T15:00:17.340Z"
   },
   {
    "duration": 12,
    "start_time": "2023-03-23T15:00:17.349Z"
   },
   {
    "duration": 5,
    "start_time": "2023-03-23T15:00:17.363Z"
   },
   {
    "duration": 3,
    "start_time": "2023-03-23T15:00:17.390Z"
   },
   {
    "duration": 325,
    "start_time": "2023-03-23T15:00:17.394Z"
   },
   {
    "duration": 335,
    "start_time": "2023-03-23T15:00:17.720Z"
   },
   {
    "duration": 5,
    "start_time": "2023-03-23T15:00:18.058Z"
   },
   {
    "duration": 13,
    "start_time": "2023-03-23T15:00:18.065Z"
   },
   {
    "duration": 5,
    "start_time": "2023-03-23T15:00:18.089Z"
   },
   {
    "duration": 8,
    "start_time": "2023-03-23T15:00:18.096Z"
   },
   {
    "duration": 14,
    "start_time": "2023-03-23T15:00:18.105Z"
   },
   {
    "duration": 14,
    "start_time": "2023-03-23T15:00:18.121Z"
   },
   {
    "duration": 6,
    "start_time": "2023-03-23T15:00:18.141Z"
   },
   {
    "duration": 5,
    "start_time": "2023-03-23T15:00:18.150Z"
   },
   {
    "duration": 33,
    "start_time": "2023-03-23T15:00:18.158Z"
   },
   {
    "duration": 6,
    "start_time": "2023-03-23T15:00:18.193Z"
   },
   {
    "duration": 7619,
    "start_time": "2023-03-23T15:00:18.201Z"
   },
   {
    "duration": 4,
    "start_time": "2023-03-23T15:00:25.822Z"
   },
   {
    "duration": 315,
    "start_time": "2023-03-23T15:00:25.827Z"
   },
   {
    "duration": 4,
    "start_time": "2023-03-23T15:00:26.144Z"
   },
   {
    "duration": 50657,
    "start_time": "2023-03-23T15:00:26.150Z"
   },
   {
    "duration": 369,
    "start_time": "2023-03-23T15:01:16.809Z"
   },
   {
    "duration": 10,
    "start_time": "2023-03-23T15:01:17.179Z"
   },
   {
    "duration": 8437,
    "start_time": "2023-03-23T15:01:17.191Z"
   },
   {
    "duration": 309,
    "start_time": "2023-03-23T15:01:25.630Z"
   },
   {
    "duration": 1943,
    "start_time": "2023-03-23T15:02:48.946Z"
   },
   {
    "duration": 127,
    "start_time": "2023-03-23T15:02:50.892Z"
   },
   {
    "duration": 15,
    "start_time": "2023-03-23T15:02:51.021Z"
   },
   {
    "duration": 31,
    "start_time": "2023-03-23T15:02:51.038Z"
   },
   {
    "duration": 53,
    "start_time": "2023-03-23T15:02:51.071Z"
   },
   {
    "duration": 1133,
    "start_time": "2023-03-23T15:02:51.126Z"
   },
   {
    "duration": 4,
    "start_time": "2023-03-23T15:02:52.262Z"
   },
   {
    "duration": 27,
    "start_time": "2023-03-23T15:02:52.268Z"
   },
   {
    "duration": 25,
    "start_time": "2023-03-23T15:02:52.296Z"
   },
   {
    "duration": 34,
    "start_time": "2023-03-23T15:02:52.323Z"
   },
   {
    "duration": 17,
    "start_time": "2023-03-23T15:02:52.359Z"
   },
   {
    "duration": 15,
    "start_time": "2023-03-23T15:02:52.378Z"
   },
   {
    "duration": 9,
    "start_time": "2023-03-23T15:02:52.394Z"
   },
   {
    "duration": 16,
    "start_time": "2023-03-23T15:02:52.406Z"
   },
   {
    "duration": 22,
    "start_time": "2023-03-23T15:02:52.424Z"
   },
   {
    "duration": 38,
    "start_time": "2023-03-23T15:02:52.449Z"
   },
   {
    "duration": 22,
    "start_time": "2023-03-23T15:02:52.490Z"
   },
   {
    "duration": 9,
    "start_time": "2023-03-23T15:02:52.514Z"
   },
   {
    "duration": 32,
    "start_time": "2023-03-23T15:02:52.525Z"
   },
   {
    "duration": 314,
    "start_time": "2023-03-23T15:02:52.559Z"
   },
   {
    "duration": 361,
    "start_time": "2023-03-23T15:02:52.875Z"
   },
   {
    "duration": 4,
    "start_time": "2023-03-23T15:02:53.238Z"
   },
   {
    "duration": 12,
    "start_time": "2023-03-23T15:02:53.244Z"
   },
   {
    "duration": 24,
    "start_time": "2023-03-23T15:02:53.258Z"
   },
   {
    "duration": 19,
    "start_time": "2023-03-23T15:02:53.283Z"
   },
   {
    "duration": 33,
    "start_time": "2023-03-23T15:02:53.304Z"
   },
   {
    "duration": 22,
    "start_time": "2023-03-23T15:02:53.339Z"
   },
   {
    "duration": 8,
    "start_time": "2023-03-23T15:02:53.362Z"
   },
   {
    "duration": 26,
    "start_time": "2023-03-23T15:02:53.371Z"
   },
   {
    "duration": 20,
    "start_time": "2023-03-23T15:02:53.399Z"
   },
   {
    "duration": 7,
    "start_time": "2023-03-23T15:02:53.421Z"
   },
   {
    "duration": 8635,
    "start_time": "2023-03-23T15:02:53.430Z"
   },
   {
    "duration": 5,
    "start_time": "2023-03-23T15:03:02.067Z"
   },
   {
    "duration": 343,
    "start_time": "2023-03-23T15:03:02.074Z"
   },
   {
    "duration": 8,
    "start_time": "2023-03-23T15:03:02.419Z"
   },
   {
    "duration": 57568,
    "start_time": "2023-03-23T15:03:02.429Z"
   },
   {
    "duration": 392,
    "start_time": "2023-03-23T15:04:00.000Z"
   },
   {
    "duration": 5,
    "start_time": "2023-03-23T15:04:00.394Z"
   },
   {
    "duration": 8756,
    "start_time": "2023-03-23T15:04:00.402Z"
   },
   {
    "duration": 308,
    "start_time": "2023-03-23T15:04:09.160Z"
   },
   {
    "duration": 3,
    "start_time": "2023-03-23T15:55:42.860Z"
   },
   {
    "duration": 3,
    "start_time": "2023-03-23T15:56:23.629Z"
   },
   {
    "duration": 3,
    "start_time": "2023-03-23T15:57:06.024Z"
   },
   {
    "duration": 4,
    "start_time": "2023-03-23T15:58:37.682Z"
   },
   {
    "duration": 1909,
    "start_time": "2023-03-23T15:59:00.849Z"
   },
   {
    "duration": 116,
    "start_time": "2023-03-23T15:59:02.760Z"
   },
   {
    "duration": 22,
    "start_time": "2023-03-23T15:59:02.878Z"
   },
   {
    "duration": 6,
    "start_time": "2023-03-23T15:59:02.902Z"
   },
   {
    "duration": 12,
    "start_time": "2023-03-23T15:59:02.911Z"
   },
   {
    "duration": 965,
    "start_time": "2023-03-23T15:59:02.925Z"
   },
   {
    "duration": 3,
    "start_time": "2023-03-23T15:59:03.892Z"
   },
   {
    "duration": 14,
    "start_time": "2023-03-23T15:59:03.896Z"
   },
   {
    "duration": 6,
    "start_time": "2023-03-23T15:59:03.912Z"
   },
   {
    "duration": 4,
    "start_time": "2023-03-23T15:59:03.920Z"
   },
   {
    "duration": 7,
    "start_time": "2023-03-23T15:59:03.925Z"
   },
   {
    "duration": 6,
    "start_time": "2023-03-23T15:59:03.933Z"
   },
   {
    "duration": 5,
    "start_time": "2023-03-23T15:59:03.941Z"
   },
   {
    "duration": 9,
    "start_time": "2023-03-23T15:59:03.949Z"
   },
   {
    "duration": 7,
    "start_time": "2023-03-23T15:59:03.959Z"
   },
   {
    "duration": 5,
    "start_time": "2023-03-23T15:59:03.967Z"
   },
   {
    "duration": 3,
    "start_time": "2023-03-23T15:59:03.989Z"
   },
   {
    "duration": 243,
    "start_time": "2023-03-23T15:59:03.993Z"
   },
   {
    "duration": 4,
    "start_time": "2023-03-23T15:59:04.238Z"
   },
   {
    "duration": 28,
    "start_time": "2023-03-23T15:59:04.243Z"
   },
   {
    "duration": 12,
    "start_time": "2023-03-23T15:59:04.273Z"
   },
   {
    "duration": 5,
    "start_time": "2023-03-23T15:59:04.286Z"
   },
   {
    "duration": 14,
    "start_time": "2023-03-23T15:59:04.293Z"
   },
   {
    "duration": 15,
    "start_time": "2023-03-23T15:59:04.309Z"
   },
   {
    "duration": 8,
    "start_time": "2023-03-23T15:59:04.325Z"
   },
   {
    "duration": 8,
    "start_time": "2023-03-23T15:59:04.334Z"
   },
   {
    "duration": 6,
    "start_time": "2023-03-23T15:59:04.343Z"
   },
   {
    "duration": 6,
    "start_time": "2023-03-23T15:59:04.352Z"
   },
   {
    "duration": 7,
    "start_time": "2023-03-23T15:59:04.359Z"
   },
   {
    "duration": 6,
    "start_time": "2023-03-23T15:59:04.367Z"
   },
   {
    "duration": 7827,
    "start_time": "2023-03-23T15:59:04.374Z"
   },
   {
    "duration": 4,
    "start_time": "2023-03-23T15:59:12.203Z"
   },
   {
    "duration": 334,
    "start_time": "2023-03-23T15:59:12.209Z"
   },
   {
    "duration": 5,
    "start_time": "2023-03-23T15:59:12.544Z"
   },
   {
    "duration": 52054,
    "start_time": "2023-03-23T15:59:12.551Z"
   },
   {
    "duration": 522,
    "start_time": "2023-03-23T16:00:04.607Z"
   },
   {
    "duration": 6,
    "start_time": "2023-03-23T16:00:05.131Z"
   },
   {
    "duration": 8188,
    "start_time": "2023-03-23T16:00:05.139Z"
   },
   {
    "duration": 304,
    "start_time": "2023-03-23T16:00:13.329Z"
   },
   {
    "duration": 1917,
    "start_time": "2023-03-25T13:02:28.077Z"
   },
   {
    "duration": 160,
    "start_time": "2023-03-25T13:02:29.996Z"
   },
   {
    "duration": 11,
    "start_time": "2023-03-25T13:02:30.157Z"
   },
   {
    "duration": 40,
    "start_time": "2023-03-25T13:02:30.169Z"
   },
   {
    "duration": 35,
    "start_time": "2023-03-25T13:02:30.211Z"
   },
   {
    "duration": 1002,
    "start_time": "2023-03-25T13:02:30.247Z"
   },
   {
    "duration": 4,
    "start_time": "2023-03-25T13:02:31.251Z"
   },
   {
    "duration": 18,
    "start_time": "2023-03-25T13:04:01.242Z"
   },
   {
    "duration": 20,
    "start_time": "2023-03-25T13:07:36.433Z"
   },
   {
    "duration": 4,
    "start_time": "2023-03-25T13:15:20.689Z"
   },
   {
    "duration": 1820,
    "start_time": "2023-03-25T13:15:41.675Z"
   },
   {
    "duration": 115,
    "start_time": "2023-03-25T13:15:43.497Z"
   },
   {
    "duration": 11,
    "start_time": "2023-03-25T13:15:43.614Z"
   },
   {
    "duration": 15,
    "start_time": "2023-03-25T13:15:43.627Z"
   },
   {
    "duration": 12,
    "start_time": "2023-03-25T13:15:43.644Z"
   },
   {
    "duration": 932,
    "start_time": "2023-03-25T13:15:43.658Z"
   },
   {
    "duration": 3,
    "start_time": "2023-03-25T13:15:44.592Z"
   },
   {
    "duration": 24,
    "start_time": "2023-03-25T13:15:44.597Z"
   },
   {
    "duration": 17,
    "start_time": "2023-03-25T13:15:44.623Z"
   },
   {
    "duration": 3,
    "start_time": "2023-03-25T13:15:44.643Z"
   },
   {
    "duration": 4,
    "start_time": "2023-03-25T13:15:44.648Z"
   },
   {
    "duration": 6,
    "start_time": "2023-03-25T13:15:44.654Z"
   },
   {
    "duration": 8,
    "start_time": "2023-03-25T13:15:44.662Z"
   },
   {
    "duration": 13,
    "start_time": "2023-03-25T13:15:44.671Z"
   },
   {
    "duration": 4,
    "start_time": "2023-03-25T13:15:44.685Z"
   },
   {
    "duration": 3,
    "start_time": "2023-03-25T13:15:44.691Z"
   },
   {
    "duration": 234,
    "start_time": "2023-03-25T13:15:44.696Z"
   },
   {
    "duration": 4,
    "start_time": "2023-03-25T13:15:44.941Z"
   },
   {
    "duration": 7,
    "start_time": "2023-03-25T13:15:44.947Z"
   },
   {
    "duration": 6,
    "start_time": "2023-03-25T13:15:44.955Z"
   },
   {
    "duration": 7,
    "start_time": "2023-03-25T13:15:44.962Z"
   },
   {
    "duration": 11,
    "start_time": "2023-03-25T13:15:44.971Z"
   },
   {
    "duration": 11,
    "start_time": "2023-03-25T13:15:44.983Z"
   },
   {
    "duration": 5,
    "start_time": "2023-03-25T13:15:44.996Z"
   },
   {
    "duration": 25,
    "start_time": "2023-03-25T13:15:45.002Z"
   },
   {
    "duration": 5,
    "start_time": "2023-03-25T13:15:45.040Z"
   },
   {
    "duration": 8,
    "start_time": "2023-03-25T13:15:45.046Z"
   },
   {
    "duration": 13,
    "start_time": "2023-03-25T13:15:45.057Z"
   },
   {
    "duration": 12,
    "start_time": "2023-03-25T13:15:45.071Z"
   },
   {
    "duration": 7782,
    "start_time": "2023-03-25T13:15:45.085Z"
   },
   {
    "duration": 4,
    "start_time": "2023-03-25T13:15:52.869Z"
   },
   {
    "duration": 298,
    "start_time": "2023-03-25T13:15:52.875Z"
   },
   {
    "duration": 5,
    "start_time": "2023-03-25T13:15:53.175Z"
   },
   {
    "duration": 51577,
    "start_time": "2023-03-25T13:15:53.181Z"
   },
   {
    "duration": 493,
    "start_time": "2023-03-25T13:16:44.760Z"
   },
   {
    "duration": 5,
    "start_time": "2023-03-25T13:16:45.255Z"
   },
   {
    "duration": 8418,
    "start_time": "2023-03-25T13:16:45.261Z"
   },
   {
    "duration": 303,
    "start_time": "2023-03-25T13:16:53.681Z"
   }
  ],
  "kernelspec": {
   "display_name": "Python 3 (ipykernel)",
   "language": "python",
   "name": "python3"
  },
  "language_info": {
   "codemirror_mode": {
    "name": "ipython",
    "version": 3
   },
   "file_extension": ".py",
   "mimetype": "text/x-python",
   "name": "python",
   "nbconvert_exporter": "python",
   "pygments_lexer": "ipython3",
   "version": "3.9.12"
  },
  "toc": {
   "base_numbering": 1,
   "nav_menu": {
    "height": "199.99px",
    "width": "267.99px"
   },
   "number_sections": false,
   "sideBar": true,
   "skip_h1_title": false,
   "title_cell": "Table of Contents",
   "title_sidebar": "Contents",
   "toc_cell": false,
   "toc_position": {
    "height": "calc(100% - 180px)",
    "left": "10px",
    "top": "150px",
    "width": "238.26px"
   },
   "toc_section_display": true,
   "toc_window_display": true
  },
  "varInspector": {
   "cols": {
    "lenName": 16,
    "lenType": 16,
    "lenVar": 40
   },
   "kernels_config": {
    "python": {
     "delete_cmd_postfix": "",
     "delete_cmd_prefix": "del ",
     "library": "var_list.py",
     "varRefreshCmd": "print(var_dic_list())"
    },
    "r": {
     "delete_cmd_postfix": ") ",
     "delete_cmd_prefix": "rm(",
     "library": "var_list.r",
     "varRefreshCmd": "cat(var_dic_list()) "
    }
   },
   "types_to_exclude": [
    "module",
    "function",
    "builtin_function_or_method",
    "instance",
    "_Feature"
   ],
   "window_display": false
  }
 },
 "nbformat": 4,
 "nbformat_minor": 5
}
